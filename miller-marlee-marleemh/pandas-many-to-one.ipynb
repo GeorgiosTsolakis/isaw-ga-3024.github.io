{
 "cells": [
  {
   "cell_type": "markdown",
   "metadata": {
    "button": false,
    "deletable": true,
    "new_sheet": false,
    "run_control": {
     "read_only": false
    }
   },
   "source": [
    "# Getting things going and highlighting \"the problem\""
   ]
  },
  {
   "cell_type": "code",
   "execution_count": 11,
   "metadata": {
    "button": false,
    "collapsed": false,
    "deletable": true,
    "new_sheet": false,
    "run_control": {
     "read_only": false
    }
   },
   "outputs": [],
   "source": [
    "import pandas as pd\n",
    "import sqlite3\n",
    "\n",
    "ramphs = pd.read_csv(\"https://raw.githubusercontent.com/sfsheath/roman-amphitheaters/master/roman-amphitheaters.csv\")\n",
    "chronogrps = pd.read_csv(\"https://raw.githubusercontent.com/sfsheath/roman-amphitheaters/master/chronogrps.csv\")\n",
    "\n",
    "# I put an uncompressed version of pleiades-places into my folder on the github repo\n",
    "pleiades = pd.read_csv(\"https://raw.githubusercontent.com/isaw-ga-3024/isaw-ga-3024.github.io/master/heath-sebastian/pleiades-places.csv\")\n",
    "\n",
    "# One note: because it takes a long time to load the pleiades data,\n",
    "# avoid running this cell again unless necessary\n",
    "# As I look back on class, perhaps this is why Mikael reported \n",
    "# that his replace was taking a long time. Was the data reloading across the internet?"
   ]
  },
  {
   "cell_type": "code",
   "execution_count": 12,
   "metadata": {
    "button": false,
    "collapsed": false,
    "deletable": true,
    "new_sheet": false,
    "run_control": {
     "read_only": false
    }
   },
   "outputs": [
    {
     "name": "stdout",
     "output_type": "stream",
     "text": [
      "<class 'pandas.core.frame.DataFrame'>\n",
      "<class 'pandas.core.frame.DataFrame'>\n",
      "<class 'pandas.core.frame.DataFrame'>\n"
     ]
    }
   ],
   "source": [
    "# ramphs, chronogrps, and pleiades are now pandas DataFrames\n",
    "\n",
    "print(type(ramphs))\n",
    "print(type(chronogrps))\n",
    "print(type(pleiades))\n",
    "\n",
    "# Again, these are pandas DataFrames, not sql tables!"
   ]
  },
  {
   "cell_type": "code",
   "execution_count": 13,
   "metadata": {
    "button": false,
    "collapsed": false,
    "deletable": true,
    "new_sheet": false,
    "run_control": {
     "read_only": false
    }
   },
   "outputs": [
    {
     "name": "stdout",
     "output_type": "stream",
     "text": [
      "0    http://pleiades.stoa.org/places/893989\n",
      "1    http://pleiades.stoa.org/places/148217\n",
      "Name: pleiades, dtype: object\n",
      "0    265876\n",
      "1    265877\n",
      "Name: id, dtype: int64\n"
     ]
    }
   ],
   "source": [
    "# OK, to our problem in class.\n",
    "\n",
    "# inspect the values in both DataFrmes\n",
    "print(ramphs['pleiades'].head(2))\n",
    "print(pleiades['id'].head(2))\n",
    "\n",
    "# They're different. Bummer."
   ]
  },
  {
   "cell_type": "markdown",
   "metadata": {
    "button": false,
    "deletable": true,
    "new_sheet": false,
    "run_control": {
     "read_only": false
    }
   },
   "source": [
    "# A tiny bit of string manipulation"
   ]
  },
  {
   "cell_type": "code",
   "execution_count": 14,
   "metadata": {
    "button": false,
    "collapsed": false,
    "deletable": true,
    "new_sheet": false,
    "run_control": {
     "read_only": false
    }
   },
   "outputs": [
    {
     "data": {
      "text/plain": [
       "' World'"
      ]
     },
     "execution_count": 14,
     "metadata": {},
     "output_type": "execute_result"
    }
   ],
   "source": [
    "tmp = \"Hello World\"\n",
    "tmp.replace(\"Hello\", \"\") # note that this doesn't remove the space"
   ]
  },
  {
   "cell_type": "markdown",
   "metadata": {
    "button": false,
    "deletable": true,
    "new_sheet": false,
    "run_control": {
     "read_only": false
    }
   },
   "source": [
    "# A little bit of pandas dataframe manipulation"
   ]
  },
  {
   "cell_type": "code",
   "execution_count": 15,
   "metadata": {
    "button": false,
    "collapsed": false,
    "deletable": true,
    "new_sheet": false,
    "run_control": {
     "read_only": false
    }
   },
   "outputs": [
    {
     "data": {
      "text/html": [
       "<div>\n",
       "<table border=\"1\" class=\"dataframe\">\n",
       "  <thead>\n",
       "    <tr style=\"text-align: right;\">\n",
       "      <th></th>\n",
       "      <th>id</th>\n",
       "      <th>title</th>\n",
       "      <th>label</th>\n",
       "      <th>pleiades</th>\n",
       "      <th>type</th>\n",
       "      <th>capacity</th>\n",
       "      <th>modcountry</th>\n",
       "      <th>chronogrp</th>\n",
       "      <th>certainty</th>\n",
       "      <th>youtube</th>\n",
       "      <th>extmajor</th>\n",
       "      <th>extminor</th>\n",
       "      <th>arenamajor</th>\n",
       "      <th>arenaminor</th>\n",
       "      <th>latitude</th>\n",
       "      <th>longitude</th>\n",
       "      <th>elevation</th>\n",
       "    </tr>\n",
       "  </thead>\n",
       "  <tbody>\n",
       "    <tr>\n",
       "      <th>0</th>\n",
       "      <td>duraEuroposAmphitheater</td>\n",
       "      <td>Amphitheater at Dura Europos</td>\n",
       "      <td>Dura</td>\n",
       "      <td>http://pleiades.stoa.org/places/893989</td>\n",
       "      <td>amphitheater</td>\n",
       "      <td>1000</td>\n",
       "      <td>Syria</td>\n",
       "      <td>Severan</td>\n",
       "      <td>NaN</td>\n",
       "      <td>NaN</td>\n",
       "      <td>50</td>\n",
       "      <td>44</td>\n",
       "      <td>31</td>\n",
       "      <td>25</td>\n",
       "      <td>34.749855</td>\n",
       "      <td>40.728926</td>\n",
       "      <td>223</td>\n",
       "    </tr>\n",
       "    <tr>\n",
       "      <th>1</th>\n",
       "      <td>arlesAmphitheater</td>\n",
       "      <td>Amphitheater at Arles</td>\n",
       "      <td>Arles</td>\n",
       "      <td>http://pleiades.stoa.org/places/148217</td>\n",
       "      <td>amphitheater</td>\n",
       "      <td>20000</td>\n",
       "      <td>France</td>\n",
       "      <td>Flavian</td>\n",
       "      <td>NaN</td>\n",
       "      <td>https://www.youtube.com/watch?v=oCz-76hb1LU</td>\n",
       "      <td>136</td>\n",
       "      <td>107</td>\n",
       "      <td>47</td>\n",
       "      <td>32</td>\n",
       "      <td>43.677778</td>\n",
       "      <td>4.631111</td>\n",
       "      <td>21</td>\n",
       "    </tr>\n",
       "  </tbody>\n",
       "</table>\n",
       "</div>"
      ],
      "text/plain": [
       "                        id                         title  label  \\\n",
       "0  duraEuroposAmphitheater  Amphitheater at Dura Europos   Dura   \n",
       "1        arlesAmphitheater         Amphitheater at Arles  Arles   \n",
       "\n",
       "                                 pleiades          type  capacity modcountry  \\\n",
       "0  http://pleiades.stoa.org/places/893989  amphitheater      1000      Syria   \n",
       "1  http://pleiades.stoa.org/places/148217  amphitheater     20000     France   \n",
       "\n",
       "  chronogrp certainty                                      youtube  extmajor  \\\n",
       "0   Severan       NaN                                          NaN        50   \n",
       "1   Flavian       NaN  https://www.youtube.com/watch?v=oCz-76hb1LU       136   \n",
       "\n",
       "   extminor  arenamajor  arenaminor   latitude  longitude  elevation  \n",
       "0        44          31          25  34.749855  40.728926        223  \n",
       "1       107          47          32  43.677778   4.631111         21  "
      ]
     },
     "execution_count": 15,
     "metadata": {},
     "output_type": "execute_result"
    }
   ],
   "source": [
    "# first\n",
    "ramphs.head(2)"
   ]
  },
  {
   "cell_type": "code",
   "execution_count": 16,
   "metadata": {
    "button": false,
    "collapsed": false,
    "deletable": true,
    "new_sheet": false,
    "run_control": {
     "read_only": false
    }
   },
   "outputs": [
    {
     "data": {
      "text/plain": [
       "0    http://pleiades.stoa.org/places/893989\n",
       "1    http://pleiades.stoa.org/places/148217\n",
       "Name: pleiades, dtype: object"
      ]
     },
     "execution_count": 16,
     "metadata": {},
     "output_type": "execute_result"
    }
   ],
   "source": [
    "# then\n",
    "ramphs['pleiades'].head(2)\n",
    "\n",
    "# so it's easy to output either all columns, or just a selection.\n",
    "# And it's likely that your notebook is trying to nicely format the output of ramphs.head(2)."
   ]
  },
  {
   "cell_type": "code",
   "execution_count": 17,
   "metadata": {
    "button": false,
    "collapsed": false,
    "deletable": true,
    "new_sheet": false,
    "run_control": {
     "read_only": false
    }
   },
   "outputs": [
    {
     "data": {
      "text/plain": [
       "0    test\n",
       "1    test\n",
       "2    test\n",
       "3    test\n",
       "4    test\n",
       "Name: new, dtype: object"
      ]
     },
     "execution_count": 17,
     "metadata": {},
     "output_type": "execute_result"
    }
   ],
   "source": [
    "# it's easy to create new columns\n",
    "ramphs['new'] = \"test\"\n",
    "ramphs['new'].head(5)\n",
    "\n",
    "# And look!!!! Very important to note that pandas will automatically assign \"test\" to all rows.\n",
    "# That's one of its great powers."
   ]
  },
  {
   "cell_type": "code",
   "execution_count": null,
   "metadata": {
    "button": false,
    "collapsed": false,
    "deletable": true,
    "new_sheet": false,
    "run_control": {
     "read_only": false
    }
   },
   "outputs": [],
   "source": [
    "# combining pandas and string manipulation\n",
    "ramphs['new'].str.replace(\"e\",\"\").head(5) # do note the \".str\" before \".replace\"\n",
    "\n",
    "# Again, pandas calculates result for all rows"
   ]
  },
  {
   "cell_type": "code",
   "execution_count": null,
   "metadata": {
    "button": false,
    "collapsed": false,
    "deletable": true,
    "new_sheet": false,
    "run_control": {
     "read_only": false
    }
   },
   "outputs": [],
   "source": [
    "# here's a useful construct, though dangerous in that \n",
    "# it changes data (a concern some of you raised in class)\n",
    "\n",
    "\n",
    "ramphs['new'] = ramphs['new'].str.replace(\"t\",\"\")\n",
    "ramphs['new'].head(5)"
   ]
  },
  {
   "cell_type": "markdown",
   "metadata": {
    "button": false,
    "deletable": true,
    "new_sheet": false,
    "run_control": {
     "read_only": false
    }
   },
   "source": [
    "# Review of adding tables to an sql database (to keep our terminology straight)"
   ]
  },
  {
   "cell_type": "code",
   "execution_count": null,
   "metadata": {
    "button": false,
    "collapsed": true,
    "deletable": true,
    "new_sheet": false,
    "run_control": {
     "read_only": false
    }
   },
   "outputs": [],
   "source": [
    "# The conn variable is a 'database connection'\n",
    "# we are making this database in memory, meaning it won't be saved\n",
    "conn = sqlite3.connect(':memory:')\n",
    "\n",
    "# as convenience, I've put the above in a separate cell. You may not need to run it again.\n"
   ]
  },
  {
   "cell_type": "code",
   "execution_count": null,
   "metadata": {
    "button": false,
    "collapsed": true,
    "deletable": true,
    "new_sheet": false,
    "run_control": {
     "read_only": false
    }
   },
   "outputs": [],
   "source": [
    "# the following two lines create sql tables from pandas DataFrames\n",
    "ramphs.to_sql('ramphs',conn,if_exists=\"replace\")\n",
    "chronogrps.to_sql('chronogrps', conn, if_exists=\"replace\")\n",
    "\n",
    "# copy-paste, then edit one of the the above lines to make a pleiades table\n"
   ]
  },
  {
   "cell_type": "code",
   "execution_count": null,
   "metadata": {
    "button": false,
    "collapsed": false,
    "deletable": true,
    "new_sheet": false,
    "run_control": {
     "read_only": false
    }
   },
   "outputs": [],
   "source": [
    "# let's test that we have sql tables\n",
    "pd.read_sql(\"\"\"SELECT id,pleiades FROM RAMPHS WHERE capacity > 40000\"\"\",conn)\n",
    "\n",
    "# but that only confirms all is well working for the ramphs table.\n",
    "# Good to test others as well."
   ]
  },
  {
   "cell_type": "code",
   "execution_count": null,
   "metadata": {
    "button": false,
    "collapsed": false,
    "deletable": true,
    "new_sheet": false,
    "run_control": {
     "read_only": false
    }
   },
   "outputs": [],
   "source": [
    "# a reminder\n",
    "pd.read_sql(\"\"\"PRAGMA table_info(pleiades)\"\"\",conn)\n",
    "# will display the columns in the pleiades table (assuming you called it 'pleiades')\n",
    "# look at those columns, which ones have 'chronological' information"
   ]
  },
  {
   "cell_type": "markdown",
   "metadata": {
    "button": false,
    "deletable": true,
    "new_sheet": false,
    "run_control": {
     "read_only": false
    }
   },
   "source": [
    "# More mixing of pandas and sql"
   ]
  },
  {
   "cell_type": "code",
   "execution_count": null,
   "metadata": {
    "button": false,
    "collapsed": false,
    "deletable": true,
    "new_sheet": false,
    "run_control": {
     "read_only": false
    }
   },
   "outputs": [],
   "source": [
    "# worth noting that the result of pd.read_sql statement is a pandas DataFrame\n",
    "type(pd.read_sql(\"\"\"SELECT id FROM ramphs WHERE capacity > 20000\"\"\",conn))\n",
    "\n",
    "# this means you can use pandas .groupby on it. This is familiar from last week\n",
    "pd.read_sql(\"\"\"SELECT modcountry,capacity FROM ramphs\"\"\",conn).groupby('modcountry').count()\n"
   ]
  },
  {
   "cell_type": "code",
   "execution_count": null,
   "metadata": {
    "button": false,
    "collapsed": false,
    "deletable": true,
    "new_sheet": false,
    "run_control": {
     "read_only": false
    }
   },
   "outputs": [],
   "source": [
    "# You now have all the piecces to move towards completing and going beyond\n",
    "# the task I set in class. The task was:\n",
    "\n",
    "# \"For each amphitheater with a Pleiades ID,\n",
    "# list that ID's ancient name(s) and chronological information\n",
    "# First step... what are the steps?\"\n",
    "\n",
    "# At a minimum, write an SQL SELECT query that lists amphitheater IDs that have\n",
    "# Pleiades identifiers along with the chronological information that pleiades records\n",
    "\n",
    "# MORE INTERESTING AND HARDER: Write an SQL SELECT query that also lists the start column\n",
    "# from the chronogrps table.\n",
    "# So four columns at least: ramphs.id, chronogrps.start, pleiades.minDate, pleiades.maxDate\n",
    "\n",
    "# once you do this it's easy to imagine a visualization of the difference between the founding\n",
    "# of a city as indicated by pleiades and the construction of its amphitheater.\n",
    "# A histogram of this would be nice. I'd calculate the difference using panda.\n",
    "# (Or rather, that's how I did it.)\n",
    "\n",
    "# Or think of some other manipulation that goes a step beyond the \"at a minumum\" query.\n",
    "\n",
    "\n",
    "# Finally, as you ponder how to do the above, think about the conceptual range of DH as \n",
    "# found in this week's readings and as experienced while manipulating data in this\n",
    "# ipython notebook. It's all DH and we love it all. How can theory and practice fit together?\n",
    "# What other readings we've been assigned are relevant. This is just fodder for conversation."
   ]
  },
  {
   "cell_type": "markdown",
   "metadata": {
    "button": false,
    "deletable": true,
    "new_sheet": false,
    "run_control": {
     "read_only": false
    }
   },
   "source": [
    "# What if I don't accept the assignment?"
   ]
  },
  {
   "cell_type": "code",
   "execution_count": null,
   "metadata": {
    "button": false,
    "collapsed": true,
    "deletable": true,
    "new_sheet": false,
    "run_control": {
     "read_only": false
    }
   },
   "outputs": [],
   "source": [
    "# That's OK. You can always use your own data or data you download. But you need to turn in\n",
    "# an iPython notebook that demonstrates skills of approximately the same level of difficulty\n",
    "# as what is above. At a minimum: a many-to-one or one-to-many relationship that is queried\n",
    "# via SQL and then used to say something minimally interesting. The usual \"go for it\" applies."
   ]
  }
 ],
 "metadata": {
  "kernelspec": {
   "display_name": "Python 3",
   "language": "python",
   "name": "python3"
  },
  "language_info": {
   "codemirror_mode": {
    "name": "ipython",
    "version": 3
   },
   "file_extension": ".py",
   "mimetype": "text/x-python",
   "name": "python",
   "nbconvert_exporter": "python",
   "pygments_lexer": "ipython3",
   "version": "3.5.0"
  }
 },
 "nbformat": 4,
 "nbformat_minor": 1
}
