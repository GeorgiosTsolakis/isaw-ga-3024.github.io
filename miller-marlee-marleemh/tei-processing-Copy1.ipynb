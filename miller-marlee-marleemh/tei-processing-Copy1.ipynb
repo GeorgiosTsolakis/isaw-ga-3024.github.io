{
 "cells": [
  {
   "cell_type": "markdown",
   "metadata": {},
   "source": [
    "# Loading and Processing TEI-Encoded XML\n",
    "Because I wasn't able to get everyone working with the lxml library, I've simplified the process of loading xml and then processing it. Follow along below and let me know if you have any problems planning and implementing your assignment."
   ]
  },
  {
   "cell_type": "markdown",
   "metadata": {},
   "source": [
    "## Step 1: Read XML from github\n"
   ]
  },
  {
   "cell_type": "code",
   "execution_count": 4,
   "metadata": {
    "collapsed": false
   },
   "outputs": [
    {
     "name": "stdout",
     "output_type": "stream",
     "text": [
      "<?xml version=\"1.0\" encoding=\"UTF-8\"?>\n",
      "<?xml-model href=\"http://www.stoa.org/epidoc/schema/latest/tei-epidoc.rng\" schematypens=\"http://relaxng.org/ns/structure/1.0\"?>\n",
      "<?xml-model href=\"http://www.stoa.org/epidoc/schema/latest/tei-epidoc.rng\" schematypens=\"http://purl.oclc.org/dsdl/schematron\"?>\n",
      "<TEI xmlns=\"http://www.tei-c.org/ns/1.0\" xml:space=\"preserve\" xml:lang=\"en\">\n",
      "    <teiHeader>\n",
      "        <fileDesc>\n",
      "            <titleStmt>\n",
      "                <title>Liber Spectaculorum</title>\n",
      "            </titleStmt>\n",
      "            <publicationStmt>\n",
      "                <authority></authority>\n",
      "                <idno type=\"filename\"></idno>\n",
      "            </publicationStmt>\n",
      "            <sourceDesc>\n",
      "                <msDesc>\n",
      "                    <msIdentifier>\n",
      "                        <repository>museum/archive</repository>\n",
      "                        <idno>inventory number</idno>\n",
      "                    </msIdentifier>\n",
      "                    <physDesc>\n",
      "                        <objectDesc>\n",
      "                            <supportDesc>\n",
      "                                <support>description of object/monument (likely to include <material/>\n",
      "                                    and <objectType/> information, <dimensions/>, etc.)</support>\n",
      "                            </supportDesc>\n",
      "                            <layoutDesc>\n",
      "                                <layout>description of text field/campus</layout>\n",
      "                            </layoutDesc>\n",
      "                        </objectDesc>\n",
      "                        <handDesc>\n",
      "                            <handNote>description of letters, possibly including <height>letter-heights</height>\n",
      "                            </handNote>\n",
      "                        </handDesc>\n",
      "                    </physDesc>\n",
      "                    <history>\n",
      "                        <origin>\n",
      "                            <origPlace>Rome</origPlace>\n",
      "                            <origDate>81</origDate>\n",
      "                        </origin>\n",
      "                        <provenance type=\"found\"> Written for the inauguration of the Flavian Amphitheatre \n",
      "                        </provenance>\n",
      "                        <provenance type=\"observed\">Modern location(s) (if different from repository, above)\n",
      "                        </provenance>\n",
      "                    </history>\n",
      "                </msDesc>\n",
      "            </sourceDesc>\n",
      "        </fileDesc>\n",
      "    </teiHeader>\n",
      "    <text>\n",
      "        <body>\n",
      "            <div type=\"edition\" xml:space=\"preserve\">\n",
      "                <ab> \n",
      "                    <l> Barbara <placeName type=\"monument\">pyramidum</placeName> sileat miracula <placeName>Memphis,</placeName></l> \n",
      "                    <l> <name type=\"foreign\">Assyrius</name>iactet nec <placeName>Babylona</placeName> labor;</l>\n",
      "                    <l> nec <placeName>Triuiae</placeName> templo molles laudentur <name type=\"foreign\">Iones</name>, </l>\n",
      "                    <l> dissimulet <placeName>Delon</placeName> cornibus ara frequens</l> \n",
      "                    <l>aere nec uacuo pendentia <placeName type=\"monument\">Mausolea</placeName></l>                             \n",
      "                    <l>laudibus inmodicis <name type=\" foreign\"> Cares </name>in astra ferant.</l>\n",
      "                    <l>Omnis <name  type=\"Emperor\">Caesareo</name> cedit labor <placeName type=\"monument\">Amphitheatro</placeName></l>\n",
      "                     <l>unum pro cunctis fama loquetur opus.</l>\n",
      "\n",
      "\n",
      "\n",
      "<l> Hic ubi sidereus propius uidet astra <placeName type=\"monument\">Colossus</placeName> </l>\n",
      "    <l>et crescunt media pegmata celsa uia,</l> \n",
      "<l>inuidiosa feri radiabant atria regis</l>\n",
      "   <l>  unaque iam tota stabat in urbe <placeName type= \"monument\"> domus</placeName>;</l>\n",
      "<l>hic ubi conspicui uenerabilis <placeName type=\"monument\">Amphitheatri</placeName></l>                \n",
      "  <l> erigitur moles, <placeName type= \"monument\">stagna</placeName> <name>Neronis</name> erant;</l> \n",
      "<l> hic ubi miramur uelocia munera <placeName type=\"monument\">thermas</placeName>,</l>\n",
      "                <l>abstulerat miseris tecta ager;</l>\n",
      "                    <l><name>Claudia</name> diffusas ubi porticus explicat umbras,</l>\n",
      "<l>ultima pars aulae deficientis erat.</l>\n",
      "                    <l> Reddita <placeName>Roma</placeName> sibi est et sunt te preside, <name type=\"Emperor\">Caesar</name></l>\n",
      "                    <l>deliciae populi, quae fuerant domini.</l>\n",
      "\n",
      "               </ab>\n",
      "            </div>\n",
      "        </body>\n",
      "    </text>\n",
      "</TEI>\n",
      "\n"
     ]
    }
   ],
   "source": [
    "import urllib.request\n",
    "\n",
    "# assign your url to the variable url_to_load\n",
    "# you can try http://papyri.info/ddbdp/bgu;1;133/source .\n",
    "url_to_load = \"https://isaw-ga-3024.github.io/miller-marlee-marleemh/Martial%20Week3.2.xml\" # url here\n",
    "\n",
    "\n",
    "f = urllib.request.urlopen(url_to_load)\n",
    "tei_as_string = f.read().decode('utf-8')\n",
    "\n",
    "print(tei_as_string)\n",
    "# if the above was successful you should see a TEI document below:"
   ]
  },
  {
   "cell_type": "markdown",
   "metadata": {},
   "source": [
    "## Step 2: We can already do things\n",
    "The find() method of strings will return the index of a substring. Try it:"
   ]
  },
  {
   "cell_type": "code",
   "execution_count": 14,
   "metadata": {
    "collapsed": false
   },
   "outputs": [
    {
     "name": "stdout",
     "output_type": "stream",
     "text": [
      "The first lb element begins at index 1276\n",
      "The first lb element ends at index 1288\n"
     ]
    }
   ],
   "source": [
    "url_to_load = \"https://isaw-ga-3024.github.io/miller-marlee-marleemh/Martial%20Week3.2.xml\"  # url here\n",
    "\n",
    "f = urllib.request.urlopen(url_to_load)\n",
    "tei_as_string = f.read().decode('utf-8')\n",
    "\n",
    "start_index = tei_as_string.find('<l') # find the index of the first lb element\n",
    "\n",
    "# why is the '[start_index:]' range important here?\n",
    "tmp_end_index = tei_as_string[start_index:].find('>')\n",
    "\n",
    "# what happens if we don't add 1 at the end? try it\n",
    "end_index = start_index + tmp_end_index + 1 \n",
    "\n",
    "print(\"The first lb element begins at index \" + str(start_index))\n",
    "print(\"The first lb element ends at index \" + str(end_index))"
   ]
  },
  {
   "cell_type": "markdown",
   "metadata": {},
   "source": [
    "## Quiz!\n",
    "Print the first lb element by using the start_index and end_index."
   ]
  },
  {
   "cell_type": "code",
   "execution_count": 18,
   "metadata": {
    "collapsed": false
   },
   "outputs": [
    {
     "name": "stdout",
     "output_type": "stream",
     "text": [
      "<layoutDesc>\n"
     ]
    }
   ],
   "source": [
    "url_to_load = \"https://isaw-ga-3024.github.io/miller-marlee-marleemh/Martial%20Week3.2.xml\" \n",
    "\n",
    "f = urllib.request.urlopen(url_to_load)\n",
    "tei_as_string = f.read().decode('utf-8')\n",
    "\n",
    "start_index = tei_as_string.find('<l')  \n",
    "\n",
    "\n",
    "tmp_end_index = tei_as_string[start_index:].find('>')\n",
    "\n",
    "\n",
    "end_index = start_index + tmp_end_index + 1 \n",
    "\n",
    "print (tei_as_string[start_index:end_index])"
   ]
  },
  {
   "cell_type": "markdown",
   "metadata": {},
   "source": [
    "## More complex elements\n",
    "lb elements are zero-lengh, which means they can take the form '&lt;lb n=\"#\" />' . Note the '/>' at the end of the element. This is equivalent to '&lt;lb n=\"#\">&lt;/lb>' but is easier to write.\n",
    "\n",
    "Next we want to capture elements of the form '&lt;persName type=\"a type\">Tom&lt;/persName>'. You know all the python code to do this. We just put things together a little differently.\n",
    "\n",
    "## Quiz\n",
    "The cell below is almost ready to load the sample URL from the first cell, then to find and print out the first 'expan' element. Assign a value to end_tag to make the cell work.\n"
   ]
  },
  {
   "cell_type": "code",
   "execution_count": 22,
   "metadata": {
    "collapsed": false
   },
   "outputs": [
    {
     "name": "stdout",
     "output_type": "stream",
     "text": [
      "<expan>στρ<ex>ατηγῷ</ex></expan> \n"
     ]
    }
   ],
   "source": [
    "url_to_load = \"http://papyri.info/ddbdp/bgu;1;133/source\"\n",
    "\n",
    "f = urllib.request.urlopen(url_to_load)\n",
    "tei_as_string = f.read().decode('utf-8')\n",
    "\n",
    "# start_tag\n",
    "start_tag = '<expan>'  \n",
    "end_tag = '</expan>' \n",
    "\n",
    "start_index = tei_as_string.find(start_tag)\n",
    "\n",
    "tmp_end_index = tei_as_string[start_index:].find(end_tag)\n",
    "\n",
    "end_index = start_index + tmp_end_index + len(end_tag) + 1 # why '+ len(end_tag)'?\n",
    "\n",
    "print(tei_as_string[start_index:end_index])"
   ]
  },
  {
   "cell_type": "markdown",
   "metadata": {},
   "source": [
    "## Quiz!\n",
    "Cut-and-paste the working code from the above cell and adapt it so that it finds the first supplied element. Be careful, supplied elements can have the form '&lt;supplied reason=\"...\"> ... &lt;/supplied>' This means you can just search for '&lt;supplied>'."
   ]
  },
  {
   "cell_type": "code",
   "execution_count": 34,
   "metadata": {
    "collapsed": false
   },
   "outputs": [
    {
     "name": "stdout",
     "output_type": "stream",
     "text": [
      "\n"
     ]
    }
   ],
   "source": [
    "url_to_load = \"http://papyri.info/ddbdp/bgu;1;133/source\"\n",
    "\n",
    "f = urllib.request.urlopen(url_to_load)\n",
    "tei_as_string = f.read().decode('utf-8')\n",
    "\n",
    "# start_tag\n",
    "start_tag = '<supplied>'  \n",
    "end_tag = '</supplied>' \n",
    "\n",
    "start_index = tei_as_string.find(start_tag)\n",
    "\n",
    "tmp_end_index = tei_as_string[start_index:].find(end_tag)\n",
    "\n",
    "end_index = start_index + tmp_end_index + len(end_tag) + 1 # why '+ len(end_tag)'?\n",
    "\n",
    "print(tei_as_string[start_index:end_index])"
   ]
  },
  {
   "cell_type": "markdown",
   "metadata": {},
   "source": [
    "## A Better Way\n",
    "Building your own indexes into a string to find start and end tags could get very complicated very quickly. Let's use a libray. In class we used the 'lxml' library. I recommend sticking with that if you're going to process xml in python as part of your final project. Now we'll use the 'xml' library, which should work on everyone's machine. In the following cells, look at the comments to follow along."
   ]
  },
  {
   "cell_type": "code",
   "execution_count": 35,
   "metadata": {
    "collapsed": false
   },
   "outputs": [
    {
     "name": "stdout",
     "output_type": "stream",
     "text": [
      "Hello World!\n",
      "Goodbye!!!\n"
     ]
    }
   ],
   "source": [
    "# import what we need from the xml library\n",
    "import xml.etree.ElementTree as ET\n",
    "\n",
    "# some simple xml as a test\n",
    "xml_str = \"<doc><p>Hello World!</p><p>Goodbye!!!</p></doc>\"\n",
    "\n",
    "# turn this string into an ElementTree. Think of that as a very specialized version of a python list.\n",
    "xml_elements = ET.fromstring(xml_str)\n",
    "\n",
    "# ElementTrees have a .findall method that can take an xpath expression.\n",
    "# IMPORTANT: being your xpath with '.'\n",
    "# You can iterate over them with a for loop.\n",
    "for p in xml_elements.findall('p'):\n",
    "    print(p.text)"
   ]
  },
  {
   "cell_type": "code",
   "execution_count": 36,
   "metadata": {
    "collapsed": false
   },
   "outputs": [
    {
     "name": "stdout",
     "output_type": "stream",
     "text": [
      "salutation\n",
      "farewell\n"
     ]
    }
   ],
   "source": [
    "# now let's access attributes\n",
    "# we don't need to import the xml library again\n",
    "\n",
    "# some simple xml, but now with attributes\n",
    "xml_str = '<doc><p n=\"1\" type=\"salutation\">Hello World!</p><p n=\"2\" type=\"farewell\">Goodbye!!!</p></doc>'\n",
    "\n",
    "# turn this string into an ElementTree. Think of that as a very specialized version of a python list.\n",
    "xml_elements = ET.fromstring(xml_str)\n",
    "\n",
    "# ElementTrees have a .findall method that can take an xpath expression.\n",
    "# IMPORTANT: being your xpath with '.'\n",
    "# You can iterate over them with a for loop.\n",
    "for p in xml_elements.findall('.//p'):\n",
    "    print(p.attrib['type']) # p.attrib on its own returns a dictionary."
   ]
  },
  {
   "cell_type": "markdown",
   "metadata": {},
   "source": [
    "## Quiz!\n",
    "Change the above code so that it prints out the n attribute of each p element."
   ]
  },
  {
   "cell_type": "code",
   "execution_count": 37,
   "metadata": {
    "collapsed": false
   },
   "outputs": [
    {
     "name": "stdout",
     "output_type": "stream",
     "text": [
      "1\n",
      "2\n"
     ]
    }
   ],
   "source": [
    "xml_str = '<doc><p n=\"1\" type=\"salutation\">Hello World!</p><p n=\"2\" type=\"farewell\">Goodbye!!!</p></doc>'\n",
    "\n",
    "xml_elements = ET.fromstring(xml_str)\n",
    "\n",
    "for p in xml_elements.findall('.//p'):\n",
    "    print(p.attrib['n'])"
   ]
  },
  {
   "cell_type": "markdown",
   "metadata": {},
   "source": [
    "## An example with real TEI"
   ]
  },
  {
   "cell_type": "code",
   "execution_count": 49,
   "metadata": {
    "collapsed": false,
    "scrolled": false
   },
   "outputs": [
    {
     "name": "stdout",
     "output_type": "stream",
     "text": [
      "\n",
      "List found elements:\n",
      "{http://www.tei-c.org/ns/1.0}lb\n",
      "{http://www.tei-c.org/ns/1.0}lb\n",
      "{http://www.tei-c.org/ns/1.0}lb\n",
      "{http://www.tei-c.org/ns/1.0}lb\n",
      "{http://www.tei-c.org/ns/1.0}lb\n",
      "{http://www.tei-c.org/ns/1.0}lb\n",
      "{http://www.tei-c.org/ns/1.0}lb\n",
      "{http://www.tei-c.org/ns/1.0}lb\n",
      "{http://www.tei-c.org/ns/1.0}lb\n",
      "{http://www.tei-c.org/ns/1.0}lb\n",
      "{http://www.tei-c.org/ns/1.0}lb\n",
      "{http://www.tei-c.org/ns/1.0}lb\n",
      "{http://www.tei-c.org/ns/1.0}lb\n",
      "{http://www.tei-c.org/ns/1.0}lb\n",
      "\n",
      "List the text of found elements:\n",
      "στρ\n",
      "Ἀρσι\n",
      "Ἡρακ\n",
      "μερίδο\n",
      "ἀμφόδο\n",
      "None\n",
      "αἶγ\n",
      "None\n",
      "List the value attributes of found elements\n",
      "4\n",
      "7\n",
      "104\n",
      "6\n",
      "10\n",
      "14\n",
      "100\n",
      "8\n"
     ]
    }
   ],
   "source": [
    "# I suggest running this first 'as is'. Then try using a URL for your own TEI.\n",
    "url_to_load = \"http://papyri.info/ddbdp/bgu;1;133/source\" \n",
    "\n",
    "f = urllib.request.urlopen(url_to_load)\n",
    "tei_as_string = f.read().decode('utf-8')\n",
    "\n",
    "xml_elements = ET.fromstring(tei_as_string)\n",
    "\n",
    "# IMPORTANT: In the findall(...) statements that follow,\n",
    "# you'll see '{http://www.tei-c.org/ns/1.0}'. Leave it.\n",
    "# But note that you can change the element name.\n",
    "\n",
    "# if you are using your own TEI, you might need to change the XPATH so that is meaningful for your data\n",
    "\n",
    "print(\"\\nList found elements:\")\n",
    "# element.tag returns the name of the current element\n",
    "elements = xml_elements.findall('.//{http://www.tei-c.org/ns/1.0}lb')\n",
    "for element in elements:\n",
    "    print(element.tag)\n",
    "\n",
    "print(\"\\nList the text of found elements:\")\n",
    "# element.text returns the text content of the current element. Here 'expan' elements are found.\n",
    "elements = xml_elements.findall('.//{http://www.tei-c.org/ns/1.0}expan')\n",
    "for element in elements:\n",
    "    print(element.text)\n",
    "\n",
    "print(\"List the value attributes of found elements\")\n",
    "# as you've seen element.attrib, return the attributes\n",
    "elements = xml_elements.findall('.//{http://www.tei-c.org/ns/1.0}num')\n",
    "for element in elements:\n",
    "    print(element.attrib['value'])"
   ]
  },
  {
   "cell_type": "markdown",
   "metadata": {
    "collapsed": false
   },
   "source": [
    "## A little bit of bad news\n",
    "The xml library is simpler than the lxml library. It does not support xpath queries of the form .//num/@value . You have to get all the nums and move through them looking for value attributes using .attrib ."
   ]
  },
  {
   "cell_type": "markdown",
   "metadata": {},
   "source": [
    "## Assignment!\n",
    "You can now fetch your TEI from github, find certain elements within it, and then write a for loop to access those elements individually. The last step is like the 'for color in colors:' loop in Chapter 1.\n",
    "\n",
    "Your assignment is to adapt the code above to do something interesting with your TEI-encoded xml file that is in the github repository. You could find shared words in paragraphs. List all rulers, dates, places, (organs?). How about making links to the wikipedia articles for rulers - or other proper nouns - mentioned in a text? How would you do that?\n",
    "\n",
    "And as I mentioned, you might have to make changes to your TEI so that python can easily work with the elements within your document. That is OK. Just make sure the file remains valid XML.\n"
   ]
  },
  {
   "cell_type": "code",
   "execution_count": 94,
   "metadata": {
    "collapsed": false
   },
   "outputs": [
    {
     "name": "stdout",
     "output_type": "stream",
     "text": [
      "\n",
      "List of placeNames:\n",
      "pyramidum\n",
      "Memphis,\n",
      "Babylona\n",
      "Triuiae\n",
      "Delon\n",
      "Mausolea\n",
      "Amphitheatro\n",
      "Colossus\n",
      " domus\n",
      "Amphitheatri\n",
      "stagna\n",
      "thermas\n",
      "Roma\n",
      "\n",
      "List of names:\n",
      "Assyrius\n",
      "Iones\n",
      " Cares \n",
      "Caesareo\n",
      "Neronis\n",
      "Claudia\n",
      "Caesar\n"
     ]
    }
   ],
   "source": [
    "url_to_load =  \"https://isaw-ga-3024.github.io/miller-marlee-marleemh/Martial%20Week3.2.xml\"\n",
    "\n",
    "f = urllib.request.urlopen(url_to_load)\n",
    "tei_as_string = f.read().decode('utf-8')\n",
    "\n",
    "import xml.etree.ElementTree as ET\n",
    "\n",
    "xml_elements = ET.fromstring(tei_as_string)\n",
    "\n",
    "print(\"\\nList of placeNames:\")\n",
    "elements = xml_elements.findall('.//{http://www.tei-c.org/ns/1.0}placeName')\n",
    "for element in elements: \n",
    "    print(element.text)\n",
    "        \n",
    "print (\"\\nList of names:\")\n",
    "elements = xml_elements.findall('.//{http://www.tei-c.org/ns/1.0}name')\n",
    "for element in elements:\n",
    "        print(element.text) "
   ]
  },
  {
   "cell_type": "markdown",
   "metadata": {},
   "source": [
    "## How to turn in your assignment\n",
    "\n",
    "First, exectute the cell with your code in it and make sure the output is what you want.\n",
    "\n",
    "Then choose 'Save and checkpoint' from the \"File\" menu of this notebook.\n",
    "\n",
    "Copy this file, which is 'tei-processing.ipynb' into your folder of the class repository. As usual, commit and sync changes to github. That's it. When loaded from github, the notebook will appear essentially the same as it does to you now."
   ]
  }
 ],
 "metadata": {
  "anaconda-cloud": {},
  "kernelspec": {
   "display_name": "Python [Root]",
   "language": "python",
   "name": "Python [Root]"
  },
  "language_info": {
   "codemirror_mode": {
    "name": "ipython",
    "version": 3
   },
   "file_extension": ".py",
   "mimetype": "text/x-python",
   "name": "python",
   "nbconvert_exporter": "python",
   "pygments_lexer": "ipython3",
   "version": "3.5.2"
  }
 },
 "nbformat": 4,
 "nbformat_minor": 1
}
