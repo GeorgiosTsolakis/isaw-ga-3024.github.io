{
 "cells": [
  {
   "cell_type": "code",
   "execution_count": null,
   "metadata": {
    "collapsed": true
   },
   "outputs": [],
   "source": [
    "from lxml import etree"
   ]
  },
  {
   "cell_type": "code",
   "execution_count": null,
   "metadata": {
    "collapsed": true
   },
   "outputs": [],
   "source": [
    "omeka = \"\"\"<?xml version=\"1.0\"?>\n",
    "    <rdf:RDF xmlns:rdf=\"http://www.w3.org/1999/02/22-rdf-syntax-ns#\" xmlns:dc=\"http://purl.org/dc/elements/1.1/\">\n",
    "    <rdf:Description rdf:about=\"http://dcaa.hosting.nyu.edu/cms/admin/items/show/2\">\n",
    "        <dc:title>Changing the Center of Gravity</dc:title>\n",
    "        <dc:subject>digital humanities</dc:subject>\n",
    "        <dc:creator>Terras, Melissa</dc:creator>\n",
    "        <dc:creator>Crane, Gregory</dc:creator>\n",
    "    </rdf:Description>\n",
    "    <rdf:Description rdf:about=\"http://dcaa.hosting.nyu.edu/cms/admin/items/show/1\">\n",
    "        <dc:title>Digital Libraries and the Challenges of Digital Humanities</dc:title>\n",
    "        <dc:subject>digital humanities</dc:subject>\n",
    "        <dc:creator>Rydberg-Cox, Jeffrey</dc:creator>\n",
    "        <dc:identifier>ZA4084</dc:identifier>\n",
    "    </rdf:Description>\n",
    "    </rdf:RDF>\n",
    "\"\"\""
   ]
  },
  {
   "cell_type": "code",
   "execution_count": null,
   "metadata": {
    "collapsed": true
   },
   "outputs": [],
   "source": [
    "namespaces = {'dc':'http://purl.org/dc/elements/1.1/',\n",
    "              'rdf':'http://www.w3.org/1999/02/22-rdf-syntax-ns#'}"
   ]
  },
  {
   "cell_type": "code",
   "execution_count": null,
   "metadata": {
    "collapsed": false
   },
   "outputs": [],
   "source": [
    "root = etree.fromstring(omeka)"
   ]
  },
  {
   "cell_type": "code",
   "execution_count": null,
   "metadata": {
    "collapsed": true
   },
   "outputs": [],
   "source": [
    "titles = root.xpath('//dc:title/text()', namespaces=namespaces)"
   ]
  },
  {
   "cell_type": "code",
   "execution_count": null,
   "metadata": {
    "collapsed": false
   },
   "outputs": [],
   "source": [
    "for title in titles:\n",
    "    print(title)"
   ]
  },
  {
   "cell_type": "code",
   "execution_count": null,
   "metadata": {
    "collapsed": true
   },
   "outputs": [],
   "source": [
    "from xml.etree import ElementTree as ET"
   ]
  },
  {
   "cell_type": "code",
   "execution_count": null,
   "metadata": {
    "collapsed": true
   },
   "outputs": [],
   "source": [
    "root = ET.fromstring(omeka)"
   ]
  },
  {
   "cell_type": "code",
   "execution_count": null,
   "metadata": {
    "collapsed": false
   },
   "outputs": [],
   "source": [
    "title_elements = root.findall('.//dc:title', namespaces)"
   ]
  },
  {
   "cell_type": "code",
   "execution_count": null,
   "metadata": {
    "collapsed": false
   },
   "outputs": [],
   "source": [
    "for title_element in title_elements:\n",
    "    print(title_element.text)"
   ]
  }
 ],
 "metadata": {
  "kernelspec": {
   "display_name": "Python 3",
   "language": "python",
   "name": "python3"
  },
  "language_info": {
   "codemirror_mode": {
    "name": "ipython",
    "version": 3
   },
   "file_extension": ".py",
   "mimetype": "text/x-python",
   "name": "python",
   "nbconvert_exporter": "python",
   "pygments_lexer": "ipython3",
   "version": "3.5.1"
  }
 },
 "nbformat": 4,
 "nbformat_minor": 1
}
