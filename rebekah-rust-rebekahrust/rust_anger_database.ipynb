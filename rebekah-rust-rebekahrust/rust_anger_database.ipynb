{
 "cells": [
  {
   "cell_type": "code",
   "execution_count": 14,
   "metadata": {
    "collapsed": false
   },
   "outputs": [
    {
     "data": {
      "text/html": [
       "<div>\n",
       "<table border=\"1\" class=\"dataframe\">\n",
       "  <thead>\n",
       "    <tr style=\"text-align: right;\">\n",
       "      <th></th>\n",
       "      <th>word</th>\n",
       "      <th>lexical_reference_form</th>\n",
       "      <th>play</th>\n",
       "      <th>line_number</th>\n",
       "      <th>playwright</th>\n",
       "      <th>genre</th>\n",
       "    </tr>\n",
       "  </thead>\n",
       "  <tbody>\n",
       "    <tr>\n",
       "      <th>0</th>\n",
       "      <td>ὀργαῖς</td>\n",
       "      <td>ὀργή</td>\n",
       "      <td>ajax</td>\n",
       "      <td>640</td>\n",
       "      <td>sophocles</td>\n",
       "      <td>tragedy</td>\n",
       "    </tr>\n",
       "    <tr>\n",
       "      <th>1</th>\n",
       "      <td>ὀργήν</td>\n",
       "      <td>ὀργή</td>\n",
       "      <td>ajax</td>\n",
       "      <td>777</td>\n",
       "      <td>sophocles</td>\n",
       "      <td>tragedy</td>\n",
       "    </tr>\n",
       "  </tbody>\n",
       "</table>\n",
       "</div>"
      ],
      "text/plain": [
       "     word lexical_reference_form  play  line_number playwright    genre\n",
       "0  ὀργαῖς                   ὀργή  ajax          640  sophocles  tragedy\n",
       "1   ὀργήν                   ὀργή  ajax          777  sophocles  tragedy"
      ]
     },
     "execution_count": 14,
     "metadata": {},
     "output_type": "execute_result"
    }
   ],
   "source": [
    "import pandas as pd\n",
    "import matplotlib.pyplot as plt\n",
    "%matplotlib inline\n",
    "ramphs = pd.read_csv(\"https://raw.githubusercontent.com/isaw-ga-3024/isaw-ga-3024.github.io/master/rebekah-rust-rebekahrust/Anger%20Database.csv\")\n",
    "\n",
    "ramphs.head(2)\n"
   ]
  },
  {
   "cell_type": "code",
   "execution_count": 4,
   "metadata": {
    "collapsed": false
   },
   "outputs": [],
   "source": [
    "#adapting the amphitheater python guide to play with my data\n",
    "\n",
    "authors = ramphs.groupby('playwright').sum()\n",
    "\n",
    "ramphs.groupby('playwright').sum().to_csv('authors01.csv')"
   ]
  },
  {
   "cell_type": "code",
   "execution_count": 5,
   "metadata": {
    "collapsed": false
   },
   "outputs": [
    {
     "name": "stdout",
     "output_type": "stream",
     "text": [
      "0       True\n",
      "1       True\n",
      "2       True\n",
      "3       True\n",
      "4       True\n",
      "5       True\n",
      "6       True\n",
      "7       True\n",
      "8       True\n",
      "9       True\n",
      "10      True\n",
      "11      True\n",
      "12      True\n",
      "13      True\n",
      "14      True\n",
      "15      True\n",
      "16      True\n",
      "17      True\n",
      "18      True\n",
      "19      True\n",
      "20      True\n",
      "21      True\n",
      "22      True\n",
      "23      True\n",
      "24      True\n",
      "25      True\n",
      "26      True\n",
      "27      True\n",
      "28      True\n",
      "29      True\n",
      "       ...  \n",
      "493    False\n",
      "494    False\n",
      "495    False\n",
      "496    False\n",
      "497    False\n",
      "498    False\n",
      "499    False\n",
      "500    False\n",
      "501    False\n",
      "502    False\n",
      "503    False\n",
      "504    False\n",
      "505    False\n",
      "506    False\n",
      "507    False\n",
      "508    False\n",
      "509    False\n",
      "510    False\n",
      "511    False\n",
      "512    False\n",
      "513    False\n",
      "514    False\n",
      "515    False\n",
      "516    False\n",
      "517    False\n",
      "518    False\n",
      "519    False\n",
      "520    False\n",
      "521    False\n",
      "522    False\n",
      "Name: playwright, dtype: bool\n"
     ]
    }
   ],
   "source": [
    "print(ramphs['playwright'].str.contains('sophocles'))"
   ]
  },
  {
   "cell_type": "code",
   "execution_count": 23,
   "metadata": {
    "collapsed": false
   },
   "outputs": [
    {
     "data": {
      "text/html": [
       "<div>\n",
       "<table border=\"1\" class=\"dataframe\">\n",
       "  <thead>\n",
       "    <tr style=\"text-align: right;\">\n",
       "      <th></th>\n",
       "      <th>line_number</th>\n",
       "    </tr>\n",
       "    <tr>\n",
       "      <th>sophocles</th>\n",
       "      <th></th>\n",
       "    </tr>\n",
       "  </thead>\n",
       "  <tbody>\n",
       "    <tr>\n",
       "      <th>False</th>\n",
       "      <td>268184</td>\n",
       "    </tr>\n",
       "    <tr>\n",
       "      <th>True</th>\n",
       "      <td>85880</td>\n",
       "    </tr>\n",
       "  </tbody>\n",
       "</table>\n",
       "</div>"
      ],
      "text/plain": [
       "           line_number\n",
       "sophocles             \n",
       "False           268184\n",
       "True             85880"
      ]
     },
     "execution_count": 23,
     "metadata": {},
     "output_type": "execute_result"
    }
   ],
   "source": [
    "ramphs['sophocles'] = ramphs['playwright'].str.contains('sophocles')\n",
    "\n",
    "ramphs.groupby('sophocles').sum()"
   ]
  },
  {
   "cell_type": "code",
   "execution_count": 22,
   "metadata": {
    "collapsed": false
   },
   "outputs": [
    {
     "data": {
      "text/html": [
       "<div>\n",
       "<table border=\"1\" class=\"dataframe\">\n",
       "  <thead>\n",
       "    <tr style=\"text-align: right;\">\n",
       "      <th></th>\n",
       "      <th></th>\n",
       "      <th>line_number</th>\n",
       "    </tr>\n",
       "    <tr>\n",
       "      <th>playwright</th>\n",
       "      <th>lexical_reference_form</th>\n",
       "      <th></th>\n",
       "    </tr>\n",
       "  </thead>\n",
       "  <tbody>\n",
       "    <tr>\n",
       "      <th rowspan=\"4\" valign=\"top\">aeschylus</th>\n",
       "      <th>θυμός</th>\n",
       "      <td>25684</td>\n",
       "    </tr>\n",
       "    <tr>\n",
       "      <th>μῆνις</th>\n",
       "      <td>3291</td>\n",
       "    </tr>\n",
       "    <tr>\n",
       "      <th>χόλος, χολή</th>\n",
       "      <td>1653</td>\n",
       "    </tr>\n",
       "    <tr>\n",
       "      <th>ὀργή</th>\n",
       "      <td>7316</td>\n",
       "    </tr>\n",
       "    <tr>\n",
       "      <th rowspan=\"3\" valign=\"top\">aristophanes</th>\n",
       "      <th>θυμός</th>\n",
       "      <td>53210</td>\n",
       "    </tr>\n",
       "    <tr>\n",
       "      <th>χόλος, χολή</th>\n",
       "      <td>5331</td>\n",
       "    </tr>\n",
       "    <tr>\n",
       "      <th>ὀργή</th>\n",
       "      <td>21421</td>\n",
       "    </tr>\n",
       "    <tr>\n",
       "      <th rowspan=\"4\" valign=\"top\">euripides</th>\n",
       "      <th>θυμός</th>\n",
       "      <td>99352</td>\n",
       "    </tr>\n",
       "    <tr>\n",
       "      <th>μῆνις</th>\n",
       "      <td>6290</td>\n",
       "    </tr>\n",
       "    <tr>\n",
       "      <th>χόλος, χολή</th>\n",
       "      <td>10285</td>\n",
       "    </tr>\n",
       "    <tr>\n",
       "      <th>ὀργή</th>\n",
       "      <td>34351</td>\n",
       "    </tr>\n",
       "    <tr>\n",
       "      <th rowspan=\"4\" valign=\"top\">sophocles</th>\n",
       "      <th>θυμός</th>\n",
       "      <td>48328</td>\n",
       "    </tr>\n",
       "    <tr>\n",
       "      <th>μῆνις</th>\n",
       "      <td>7699</td>\n",
       "    </tr>\n",
       "    <tr>\n",
       "      <th>χόλος, χολή</th>\n",
       "      <td>6740</td>\n",
       "    </tr>\n",
       "    <tr>\n",
       "      <th>ὀργή</th>\n",
       "      <td>23113</td>\n",
       "    </tr>\n",
       "  </tbody>\n",
       "</table>\n",
       "</div>"
      ],
      "text/plain": [
       "                                     line_number\n",
       "playwright   lexical_reference_form             \n",
       "aeschylus    θυμός                         25684\n",
       "             μῆνις                          3291\n",
       "             χόλος, χολή                    1653\n",
       "             ὀργή                           7316\n",
       "aristophanes θυμός                         53210\n",
       "             χόλος, χολή                    5331\n",
       "             ὀργή                          21421\n",
       "euripides    θυμός                         99352\n",
       "             μῆνις                          6290\n",
       "             χόλος, χολή                   10285\n",
       "             ὀργή                          34351\n",
       "sophocles    θυμός                         48328\n",
       "             μῆνις                          7699\n",
       "             χόλος, χολή                    6740\n",
       "             ὀργή                          23113"
      ]
     },
     "execution_count": 22,
     "metadata": {},
     "output_type": "execute_result"
    }
   ],
   "source": [
    "ramphs.groupby((\"playwright\",\"lexical_reference_form\")).sum()"
   ]
  },
  {
   "cell_type": "code",
   "execution_count": null,
   "metadata": {
    "collapsed": true
   },
   "outputs": [],
   "source": [
    "#my attempts at searching and organizing my data"
   ]
  },
  {
   "cell_type": "code",
   "execution_count": 21,
   "metadata": {
    "collapsed": false,
    "scrolled": true
   },
   "outputs": [
    {
     "data": {
      "text/plain": [
       "medea                   39\n",
       "wasps                   27\n",
       "elektra                 27\n",
       "oedipus_tyrannus        21\n",
       "peace                   20\n",
       "antigone                19\n",
       "trachiniae              19\n",
       "oedipus_at_colonus      18\n",
       "prometheus_bound        18\n",
       "frogs                   17\n",
       "hippolytus              16\n",
       "agamemnon               16\n",
       "bacchae                 16\n",
       "ajax                    15\n",
       "eumenides               15\n",
       "suppliants              14\n",
       "clouds                  12\n",
       "wealth                  11\n",
       "herakles                11\n",
       "lysistrata              10\n",
       "ecclesiazusae           10\n",
       "iphigenia_at_taurus     10\n",
       "orestes                 10\n",
       "birds                   10\n",
       "thesmophoriazusae        9\n",
       "heraclidae               9\n",
       "andromache               9\n",
       "philoctetes              9\n",
       "helen                    9\n",
       "phoenissiae              9\n",
       "iphigenia_at_aulis       8\n",
       "hecuba                   7\n",
       "knights                  7\n",
       "choephoroe               7\n",
       "alcestis                 7\n",
       "ion                      7\n",
       "seven_against_thebes     6\n",
       "acharnians               4\n",
       "persians                 4\n",
       "rhesus                   4\n",
       "trojans                  4\n",
       "cyclops                  3\n",
       "Name: play, dtype: int64"
      ]
     },
     "execution_count": 21,
     "metadata": {},
     "output_type": "execute_result"
    }
   ],
   "source": [
    "import pandas as pd\n",
    "import matplotlib.pyplot as plt\n",
    "\n",
    "ramphs = pd.read_csv(\"https://raw.githubusercontent.com/isaw-ga-3024/isaw-ga-3024.github.io/master/rebekah-rust-rebekahrust/Anger%20Database.csv\")\n",
    "\n",
    "len(ramphs)\n",
    "ramphs.columns=[\"word\", \"lexical_reference_form\", \"play\", \"line_number\", \"playwright\", \"genre\"]\n",
    "ramphs[\"play\"].value_counts()"
   ]
  },
  {
   "cell_type": "code",
   "execution_count": 20,
   "metadata": {
    "collapsed": true
   },
   "outputs": [],
   "source": [
    "ramphs[\"play\"].value_counts().to_csv(\"frequency-of-anger-play-by-play.csv\")"
   ]
  },
  {
   "cell_type": "code",
   "execution_count": 19,
   "metadata": {
    "collapsed": false
   },
   "outputs": [],
   "source": [
    "ramphs.groupby((\"playwright\",\"lexical_reference_form\")).count().to_csv(\"angerwords-by-playwright.csv\")\n",
    "\n"
   ]
  },
  {
   "cell_type": "code",
   "execution_count": 18,
   "metadata": {
    "collapsed": false
   },
   "outputs": [
    {
     "data": {
      "text/html": [
       "<div>\n",
       "<table border=\"1\" class=\"dataframe\">\n",
       "  <thead>\n",
       "    <tr style=\"text-align: right;\">\n",
       "      <th></th>\n",
       "      <th></th>\n",
       "      <th>word</th>\n",
       "      <th>play</th>\n",
       "      <th>line_number</th>\n",
       "      <th>genre</th>\n",
       "    </tr>\n",
       "    <tr>\n",
       "      <th>playwright</th>\n",
       "      <th>lexical_reference_form</th>\n",
       "      <th></th>\n",
       "      <th></th>\n",
       "      <th></th>\n",
       "      <th></th>\n",
       "    </tr>\n",
       "  </thead>\n",
       "  <tbody>\n",
       "    <tr>\n",
       "      <th rowspan=\"4\" valign=\"top\">aeschylus</th>\n",
       "      <th>θυμός</th>\n",
       "      <td>42</td>\n",
       "      <td>42</td>\n",
       "      <td>42</td>\n",
       "      <td>42</td>\n",
       "    </tr>\n",
       "    <tr>\n",
       "      <th>μῆνις</th>\n",
       "      <td>10</td>\n",
       "      <td>10</td>\n",
       "      <td>10</td>\n",
       "      <td>10</td>\n",
       "    </tr>\n",
       "    <tr>\n",
       "      <th>χόλος, χολή</th>\n",
       "      <td>6</td>\n",
       "      <td>6</td>\n",
       "      <td>6</td>\n",
       "      <td>6</td>\n",
       "    </tr>\n",
       "    <tr>\n",
       "      <th>ὀργή</th>\n",
       "      <td>16</td>\n",
       "      <td>16</td>\n",
       "      <td>16</td>\n",
       "      <td>16</td>\n",
       "    </tr>\n",
       "    <tr>\n",
       "      <th rowspan=\"3\" valign=\"top\">aristophanes</th>\n",
       "      <th>θυμός</th>\n",
       "      <td>87</td>\n",
       "      <td>87</td>\n",
       "      <td>87</td>\n",
       "      <td>87</td>\n",
       "    </tr>\n",
       "    <tr>\n",
       "      <th>χόλος, χολή</th>\n",
       "      <td>14</td>\n",
       "      <td>14</td>\n",
       "      <td>14</td>\n",
       "      <td>14</td>\n",
       "    </tr>\n",
       "    <tr>\n",
       "      <th>ὀργή</th>\n",
       "      <td>36</td>\n",
       "      <td>36</td>\n",
       "      <td>36</td>\n",
       "      <td>36</td>\n",
       "    </tr>\n",
       "    <tr>\n",
       "      <th rowspan=\"4\" valign=\"top\">euripides</th>\n",
       "      <th>θυμός</th>\n",
       "      <td>128</td>\n",
       "      <td>128</td>\n",
       "      <td>128</td>\n",
       "      <td>128</td>\n",
       "    </tr>\n",
       "    <tr>\n",
       "      <th>μῆνις</th>\n",
       "      <td>6</td>\n",
       "      <td>6</td>\n",
       "      <td>6</td>\n",
       "      <td>6</td>\n",
       "    </tr>\n",
       "    <tr>\n",
       "      <th>χόλος, χολή</th>\n",
       "      <td>15</td>\n",
       "      <td>15</td>\n",
       "      <td>15</td>\n",
       "      <td>15</td>\n",
       "    </tr>\n",
       "    <tr>\n",
       "      <th>ὀργή</th>\n",
       "      <td>44</td>\n",
       "      <td>44</td>\n",
       "      <td>44</td>\n",
       "      <td>44</td>\n",
       "    </tr>\n",
       "    <tr>\n",
       "      <th rowspan=\"4\" valign=\"top\">sophocles</th>\n",
       "      <th>θυμός</th>\n",
       "      <td>65</td>\n",
       "      <td>65</td>\n",
       "      <td>65</td>\n",
       "      <td>65</td>\n",
       "    </tr>\n",
       "    <tr>\n",
       "      <th>μῆνις</th>\n",
       "      <td>9</td>\n",
       "      <td>9</td>\n",
       "      <td>9</td>\n",
       "      <td>9</td>\n",
       "    </tr>\n",
       "    <tr>\n",
       "      <th>χόλος, χολή</th>\n",
       "      <td>11</td>\n",
       "      <td>11</td>\n",
       "      <td>11</td>\n",
       "      <td>11</td>\n",
       "    </tr>\n",
       "    <tr>\n",
       "      <th>ὀργή</th>\n",
       "      <td>34</td>\n",
       "      <td>34</td>\n",
       "      <td>34</td>\n",
       "      <td>34</td>\n",
       "    </tr>\n",
       "  </tbody>\n",
       "</table>\n",
       "</div>"
      ],
      "text/plain": [
       "                                     word  play  line_number  genre\n",
       "playwright   lexical_reference_form                                \n",
       "aeschylus    θυμός                     42    42           42     42\n",
       "             μῆνις                     10    10           10     10\n",
       "             χόλος, χολή                6     6            6      6\n",
       "             ὀργή                      16    16           16     16\n",
       "aristophanes θυμός                     87    87           87     87\n",
       "             χόλος, χολή               14    14           14     14\n",
       "             ὀργή                      36    36           36     36\n",
       "euripides    θυμός                    128   128          128    128\n",
       "             μῆνις                      6     6            6      6\n",
       "             χόλος, χολή               15    15           15     15\n",
       "             ὀργή                      44    44           44     44\n",
       "sophocles    θυμός                     65    65           65     65\n",
       "             μῆνις                      9     9            9      9\n",
       "             χόλος, χολή               11    11           11     11\n",
       "             ὀργή                      34    34           34     34"
      ]
     },
     "execution_count": 18,
     "metadata": {},
     "output_type": "execute_result"
    }
   ],
   "source": [
    "ramphs.groupby((\"playwright\",\"lexical_reference_form\")).count()\n",
    "#I have no idea why the word count is inserted into columns \"word\" \"play\" \"line_number\" and \"genre\". This doesn't seem ideal."
   ]
  },
  {
   "cell_type": "code",
   "execution_count": 15,
   "metadata": {
    "collapsed": false
   },
   "outputs": [
    {
     "data": {
      "text/plain": [
       "<matplotlib.text.Text at 0x11610ed68>"
      ]
     },
     "execution_count": 15,
     "metadata": {},
     "output_type": "execute_result"
    },
    {
     "data": {
      "image/png": "[encoded data removed]",
      "text/plain": [
       "<matplotlib.figure.Figure at 0x11601d438>"
      ]
     },
     "metadata": {},
     "output_type": "display_data"
    }
   ],
   "source": [
    "#this is where I tried making charts using python and matplotlib\n",
    "#I tried using latex to read unicode as per the advice on the matplotlib website but that didn't seem to work\n",
    "\n",
    "\n",
    "anger_terms=ramphs[\"lexical_reference_form\"].value_counts()\n",
    "plot=anger_terms.plot(kind='pie', title=\"Anger Terms in Greek Tragedy and Old Comedy\")\n",
    "plot.set_ylabel(\"Frequency\")"
   ]
  },
  {
   "cell_type": "code",
   "execution_count": null,
   "metadata": {
    "collapsed": false,
    "scrolled": false
   },
   "outputs": [],
   "source": []
  },
  {
   "cell_type": "code",
   "execution_count": 16,
   "metadata": {
    "collapsed": false
   },
   "outputs": [
    {
     "data": {
      "text/plain": [
       "<matplotlib.text.Text at 0x116213828>"
      ]
     },
     "execution_count": 16,
     "metadata": {},
     "output_type": "execute_result"
    },
    {
     "data": {
      "image/png": "[encoded data removed]",
      "text/plain": [
       "<matplotlib.figure.Figure at 0x1160eddd8>"
      ]
     },
     "metadata": {},
     "output_type": "display_data"
    }
   ],
   "source": [
    "\n",
    "plot=anger_terms.plot(kind='bar', title=\"Anger Terms in Greek Tragedy and Old Comedy\")\n",
    "plot.set_ylabel(\"Frequency\")\n",
    "plot.set_xlabel(\"Greek Terms\")\n"
   ]
  },
  {
   "cell_type": "code",
   "execution_count": null,
   "metadata": {
    "collapsed": true
   },
   "outputs": [],
   "source": []
  },
  {
   "cell_type": "code",
   "execution_count": 199,
   "metadata": {
    "collapsed": true
   },
   "outputs": [],
   "source": [
    "anger_frequency_play=ramphs[\"play\"].value_counts().to_csv(\"frequency-play-by-play.csv\")"
   ]
  },
  {
   "cell_type": "code",
   "execution_count": null,
   "metadata": {
    "collapsed": true
   },
   "outputs": [],
   "source": []
  },
  {
   "cell_type": "code",
   "execution_count": 17,
   "metadata": {
    "collapsed": false
   },
   "outputs": [
    {
     "data": {
      "text/plain": [
       "<matplotlib.text.Text at 0x11a75c9e8>"
      ]
     },
     "execution_count": 17,
     "metadata": {},
     "output_type": "execute_result"
    },
    {
     "data": {
      "image/png": "[encoded data removed]",
      "text/plain": [
       "<matplotlib.figure.Figure at 0x11624ae48>"
      ]
     },
     "metadata": {},
     "output_type": "display_data"
    }
   ],
   "source": [
    "anger_frequency_play=ramphs[\"play\"].value_counts()\n",
    "plot=anger_frequency_play.plot(kind='bar', title=\"Frequency of Anger Terms by Play\")\n",
    "plot.set_ylabel(\"Frequency\")\n",
    "plot.set_xlabel(\"Plays\")"
   ]
  },
  {
   "cell_type": "code",
   "execution_count": 156,
   "metadata": {
    "collapsed": false
   },
   "outputs": [
    {
     "data": {
      "text/plain": [
       "array(['ajax', 'trachiniae', 'oedipus_tyrannus', 'philoctetes', 'antigone',\n",
       "       'oedipus_at_colonus', 'elektra', 'agamemnon', 'choephoroe',\n",
       "       'eumenides', 'prometheus_bound', 'seven_against_thebes', 'persians',\n",
       "       'suppliants', 'helen', 'hippolytus', 'cyclops', 'alcestis', 'medea',\n",
       "       'heraclidae', 'andromache', 'hecuba', 'herakles', 'trojans',\n",
       "       'iphigenia_at_taurus', 'ion', 'phoenissiae', 'orestes', 'bacchae',\n",
       "       'iphigenia_at_aulis', 'rhesus', 'frogs', 'wasps', 'lysistrata',\n",
       "       'thesmophoriazusae', 'peace', 'clouds', 'knights', 'wealth',\n",
       "       'birds', 'ecclesiazusae', 'acharnians'], dtype=object)"
      ]
     },
     "execution_count": 156,
     "metadata": {},
     "output_type": "execute_result"
    }
   ],
   "source": [
    "ramphs[\"play\"].unique()\n"
   ]
  },
  {
   "cell_type": "code",
   "execution_count": null,
   "metadata": {
    "collapsed": false
   },
   "outputs": [],
   "source": []
  },
  {
   "cell_type": "code",
   "execution_count": null,
   "metadata": {
    "collapsed": true
   },
   "outputs": [],
   "source": []
  },
  {
   "cell_type": "code",
   "execution_count": null,
   "metadata": {
    "collapsed": true
   },
   "outputs": [],
   "source": []
  }
 ],
 "metadata": {
  "anaconda-cloud": {},
  "kernelspec": {
   "display_name": "Python [Root]",
   "language": "python",
   "name": "Python [Root]"
  },
  "language_info": {
   "codemirror_mode": {
    "name": "ipython",
    "version": 3
   },
   "file_extension": ".py",
   "mimetype": "text/x-python",
   "name": "python",
   "nbconvert_exporter": "python",
   "pygments_lexer": "ipython3",
   "version": "3.5.2"
  }
 },
 "nbformat": 4,
 "nbformat_minor": 0
}
