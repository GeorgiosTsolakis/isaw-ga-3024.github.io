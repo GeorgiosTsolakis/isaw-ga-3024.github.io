{
 "cells": [
  {
   "cell_type": "markdown",
   "metadata": {},
   "source": [
    "# Loading and Processing TEI-Encoded XML\n",
    "Because I wasn't able to get everyone working with the lxml library, I've simplified the process of loading xml and then processing it. Follow along below and let me know if you have any problems planning and implementing your assignment."
   ]
  },
  {
   "cell_type": "markdown",
   "metadata": {},
   "source": [
    "## Step 1: Read XML from github\n"
   ]
  },
  {
   "cell_type": "code",
   "execution_count": 21,
   "metadata": {
    "collapsed": false
   },
   "outputs": [
    {
     "name": "stdout",
     "output_type": "stream",
     "text": [
      "<?xml version=\"1.0\" encoding=\"UTF-8\"?>\n",
      "<?xml-model href=\"http://www.stoa.org/epidoc/schema/latest/tei-epidoc.rng\" schematypens=\"http://relaxng.org/ns/structure/1.0\"?>\n",
      "<?xml-model href=\"http://www.stoa.org/epidoc/schema/latest/tei-epidoc.rng\" schematypens=\"http://purl.oclc.org/dsdl/schematron\"?>\n",
      "<TEI xmlns=\"http://www.tei-c.org/ns/1.0\" xml:space=\"preserve\" xml:lang=\"en\">\n",
      "    <teiHeader>\n",
      "        <fileDesc>\n",
      "            <titleStmt>\n",
      "                <title>Choephori Kommos</title>  \n",
      "            </titleStmt>\n",
      "            <publicationStmt>\n",
      "                <publisher>Clarendon Press</publisher>\n",
      "                <pubPlace>Oxford</pubPlace>\n",
      "                <date>January 11, 1973</date>\n",
      "                <idno type=\"ISBN\">978-0198145707</idno>\n",
      "                <availability>\n",
      "                    <ab>Copyright 1972, Oxford University Press</ab>\n",
      "                </availability>\n",
      "            </publicationStmt>\n",
      "            <notesStmt>\n",
      "                <note source=\"http://stephanus.tlg.uci.edu\">\n",
      "                    Also available on the TLG: Aeschylus, Choephoroe {0085.016}.\n",
      "                </note>\n",
      "            </notesStmt>\n",
      "            <sourceDesc>\n",
      "                <bibl>\n",
      "                    Aeschyli Septem Quae Supersunt Tragoedias, ed. Page, Denys. (Oxford, 1973).\n",
      "                </bibl>\n",
      "            </sourceDesc>\n",
      "        </fileDesc>\n",
      "        <encodingDesc>\n",
      "           <editorialDecl>\n",
      "                <interpretation>\n",
      "                    <ab>\n",
      "                        The kommos of the Choephoroe is the longest extant choral lyric and plays an important role in Orestes' and Elektra's characterization in the play and trilogy.\n",
      "                        The chorus whip up the so-far relatively placid Orestes and Elektra into killing their mother to avenge their father.\n",
      "                        I am interested in how the chorus persuade Orestes and Elektra to kill their mother through their emotional manipulation.\n",
      "                        To that end, I have marked up the meter (rs met=\"\"); the terms used for emotions (rs type=\"emotion\") or organs of the body where emotions originate (rs type=\"organ\"); words that indicate a circumstance which can be associated with negative emotions such as death, grief, pain (rs type=\"negative\") and of positive emotions such as joy, happiness, and victory (rs type=\"positive\"); and words that indicate \"justice\" (rs type=\"justice\") or \"injustice\" (rs type=\"injustice\") as according to the appraisal theory of the emotions, emotions as rational and evaluative judgments are a species of motives and are ultimately concerned with self-respect, dignity, and one's place in the world and hence with one's view of justice.\n",
      "                        I have no idea if this is a useful markup, but I thought I'd give it a try.\n",
      "                    </ab>\n",
      "                </interpretation>\n",
      "                <segmentation>\n",
      "                    <ab>\n",
      "                        The strophe and antistrophe structure represented in Page have been observed.\n",
      "                        Because of the nature of manuscript transmission for dramatic texts, the speaker attributions are cojectural, particularly in the kommos. It is hard to tell what lines Elektra speaks and what lines Orestes speaks. Nevertheless, I have marked up the text according to the OCT using the \"resp\" tag.\n",
      "                        The meter of each line has been marked on each line according to West (Aeschyli Choephoroe. West, M. L. Stuttgart 1991.).\n",
      "                        According to the TEI guidelines, '+' is for a stressed syllable and '-' for an unstressed so for Greek I've used '+' to indicate a 'long syllable' and '-' to indicate a 'short syllable'.\n",
      "                        It is important for a metrical scheme to differntiate between (a) two shorts and (b) when a long has been resolved into two shorts, but I could not figure out how according to the guidelines to indicate this so I chose to use parentheses to indicate when a long has been resolved into two shorts, for example '(--)'.\n",
      "                        Also, I know it is better to specify attributes at the highest level possible, but with how great the metrical variance is in choral lyric, the best way seemed to me to be line by line.\n",
      "                    </ab>\n",
      "                </segmentation>\n",
      "            </editorialDecl>\n",
      "        </encodingDesc>   \n",
      "    </teiHeader>\n",
      "    <text>\n",
      "        <body>\n",
      "            <div type=\"edition\" xml:space=\"preserve\">\n",
      "                <ab>\n",
      "                    <lg type=\"chorallyric\">\n",
      "                        <lg>\n",
      "                            <l>ἀλλ’ ὦ μεγάλαι Μοῖραι, Διόθεν</l>\n",
      "                            <l>τῆιδε τελευτᾶν,</l>\n",
      "                            <l>ἧι τὸ δίκαιον μεταβαίνει·</l>\n",
      "                            <l>ἀντὶ μὲν ἐχθρᾶς γλώσσης ἐχθρὰ</l>\n",
      "                            <l><lb n=\"310\"/>γλῶσσα τελείσθω· τοὐφειλόμενον</l>\n",
      "                            <l>πράσσουσα Δίκη μέγ’ ἀυτεῖ</l>\n",
      "                            <l>ἀντὶ δὲ πληγῆς φονίας φονίαν</l>\n",
      "                            <l>πληγὴν τινέτω. δράσαντα παθεῖν</l>\n",
      "                            <l>τριγέρων μῦθος τάδε φωνεῖ</l>\n",
      "                        </lg>\n",
      "                        <lg type=\"strophe\" n=\"alpha\" resp=\"orestes\">\n",
      "                            <l met=\"+--+--+-+\"><lb n=\"315\"/>ὦ πάτερ <rs type=\"negative\">αἰνόπατερ</rs>, τί σοι</l>\n",
      "                            <l met=\"(--)-+-++\">φάμενος ἢ τί ῥέξας</l>\n",
      "                            <l met=\"-+(--)--+-+\">τύχοιμ’ ἄγκαθεν οὐρίσας</l>\n",
      "                            <l met=\"+--+-++\">ἔνθα σ’ ἔχουσιν εὐναί;</l>\n",
      "                            <l met=\"-+--+-++\">σκότωι φάος ἀντίμοι-</l>\n",
      "                            <l met=\"--+-++\"><lb n=\"320\"/><lb break=\"no\"/>ρον, <rs type=\"emotion\">χάριτες</rs> δ’ ὁμοίως</l>\n",
      "                            <l met=\"-++--+-+\">κέκληνται <rs type=\"negative\">γόος</rs> <rs type=\"positive\">εὐκλεὴς</rs></l>\n",
      "                            <l met=\"+--+-++\">†προσθοδόμοις† Ἀτρείδαις.</l>\n",
      "                        </lg>\n",
      "                        <lg type=\"strophe\" n=\"beta\" resp=\"chorus\">\n",
      "                            <l met=\"-+-+-+-+-+-+\">τέκνον, <rs type=\"organ\">φρόνημα</rs> τοῦ θανόντος οὐ δαμά-</l>\n",
      "                            <l met=\"+-+--+-+\"><lb n=\"325\"/><lb break=\"no\"/>ζει πυρὸς μαλερὰ γνάθος</l>\n",
      "                            <l met=\"+++--++\">φαίνει δ’ ὕστερον <rs type=\"emotion\">ὀργάς</rs></l>\n",
      "                            <l met=\"--+-+-++\"><rs type=\"negative\">ὀτοτύζεται</rs> δ’ ὁ θνήισκων</l>\n",
      "                            <l met=\"--+-+-++\">ἀναφαίνεται δ’ ὁ βλάπτων,</l>\n",
      "                            <l met=\"--+-+-++\">πατέρων δὲ καὶ τεκόντων </l>\n",
      "                            <l met=\"--+-+-++\"><lb n=\"330\"/><rs type=\"negative\">γόος</rs> <rs type=\"justice\">ἔνδικος</rs> ματεύει </l>\n",
      "                            <l met=\"-++--+-++\">ποινὰν ἀμφιλαφῶς ταραχθείς</l>\n",
      "                        </lg>\n",
      "                        <lg type=\"antistrophe\" n=\"alpha\" resp=\"elektra\">\n",
      "                            <l met=\"+--+--+-+\">κλῦθί νυν, ὦ πάτερ, ἐν μέρει</l>\n",
      "                            <l met=\"(--)-+-++\"><rs type=\"negative\">πολυδάκρυτα</rs> <rs type=\"negative\">πένθη</rs></l>\n",
      "                            <l met=\"-++--+-+\">δίπαις τοί σ’ ἐπιτύμβιος</l>\n",
      "                            <l met=\"+--+-++\"><lb n=\"335\"/><rs type=\"negative\">θρῆνος</rs> <rs type=\"negative\">ἀναστενάζει</rs></l>\n",
      "                            <l met=\"-+--+-++\">τάφος δ’ ἱκέτας δέδε-</l>\n",
      "                            <l met=\"--+-++\"><lb break=\"no\"/>κται φυγάδας θ’ ὁμοίως·</l>\n",
      "                            <l met=\"-++--+-+\">τί τῶνδ’ εὖ, τί δ’ ἄτερ κακῶν;</l>\n",
      "                            <l met=\"+--+-++\">οὐκ ἀτρίακτος ἄτα;</l>\n",
      "                        </lg>\n",
      "                        <lg resp=\"chorus\">\n",
      "                            <l><lb n=\"340\"/>ἀλλ’ ἔτ’ ἂν ἐκ τῶνδε θεὸς χρήιζων</l>\n",
      "                            <l>θείη κελάδους εὐφθογγοτέρους,</l>\n",
      "                            <l>ἀντὶ δὲ <rs type=\"negative\">θρήνων</rs> ἐπιτυμβιδίων</l>\n",
      "                            <l><rs type=\"positive\">παιὼν</rs> μελάθροις ἐν βασιλείοις</l>\n",
      "                            <l>νεοκρᾶτα φίλον κομίσειεν</l>\n",
      "                        </lg>\n",
      "                        <lg type=\"strophe\" n=\"gamma\" resp=\"orestes\">\n",
      "                            <l met=\"+--+-+\"><lb n=\"345\"/>εἰ γὰρ ὑπ’ Ἰλίωι</l>\n",
      "                            <l met=\"+-+--+-+\">πρός τινος Λυκίων, πάτερ,</l>\n",
      "                            <l met=\"-+++-+-++\">δορίτμητος κατηναρίσθης</l>\n",
      "                            <l met=\"-+-++-+-++\">λιπὼν ἂν εὔκλειαν ἐν δόμοισιν</l>\n",
      "                            <l met=\"-++-++\">τέκνων τ’ ἐν κελεύθοις</l>\n",
      "                            <l met=\"-++-++\"><lb n=\"350\"/>ἐπιστρεπτὸν αἰῶ</l>\n",
      "                            <l met=\"++--+--++\">κτίσας πολύχωστον ἂν εἶχες</l>\n",
      "                            <l met=\"-+--+-++\">τάφον διαποντίου γᾶς</l>\n",
      "                            <l met=\"+--+-++\">δώμασιν εὐφόρητον</l>\n",
      "                        </lg>\n",
      "                        <lg type=\"antistrophe\" n=\"beta\" resp=\"chorus\">\n",
      "                            <l met=\"-+-+-+-+-+-+\">φίλος φίλοισι τοῖς ἐκεῖ καλῶς θανοῦ-</l>\n",
      "                            <l met=\"+-+--+-+\"><lb n=\"355\"/><lb break=\"no\"/>σιν, κατὰ χθονὸς ἐμπρέπων</l>\n",
      "                            <l met=\"+-+--++\">σεμνότιμος ἀνάκτωρ</l>\n",
      "                            <l met=\"--+-+-++\">πρόπολός τε τῶν μεγίστων</l>\n",
      "                            <l met=\"--+-+-++\">χθονίων ἐκεῖ τυράννων</l>\n",
      "                            <l met=\"--+-+-++\"><lb n=\"360\"/>βασιλεὺς γὰρ ἦσθ’ ὄφρ’ ἔζης</l>\n",
      "                            <l met=\"--+-+-++\">μόριμον λάχος †πιμπλάντων</l>\n",
      "                            <l met=\"-++--+-++\">χεροῖν πεισίβροτόν τε βάκτρον†.</l>\n",
      "                        </lg>\n",
      "                        <lg type=\"antistrophe\" n=\"gamma\" resp=\"elektra\">\n",
      "                            <l met=\"+--+-+\">μηδ’ ὑπὸ Τρωίας</l>\n",
      "                            <l met=\"+-+--+-+\">τείχεσι φθίμενος, πάτερ,</l>\n",
      "                            <l met=\"-+++-+-++\"><lb n=\"365\"/>μετ’ ἄλλωι δουρικμῆτι λαῶι</l>\n",
      "                            <l met=\"-+-++-+-++\">παρὰ Σκαμάνδρου πόρον τεθάφθαι</l>\n",
      "                            <l met=\"-++-++\">πάρος δ’ οἱ κτανόντες</l>\n",
      "                            <l met=\"-++-++\">νιν οὕτως δαμῆναι</l>\n",
      "                            <l met=\"-+--+--++\">/  \\ θανατηφόρον αἶσαν</l>\n",
      "                            <l met=\"-+--+-++\"><lb n=\"370\"/>πρόσω τινὰ πυνθάνεσθαι</l>\n",
      "                            <l met=\"+--+-++\">τῶνδε πόνων ἄπειρον</l>\n",
      "                        </lg>\n",
      "                        <lg resp=\"chorus\">\n",
      "                            <l>ταῦτα μέν, ὦ παῖ, κρείσσονα χρυσοῦ,</l>\n",
      "                            <l>μεγάλης δὲ τύχης καὶ ὑπερβορέου</l>\n",
      "                            <l>μείζονα φωνεῖς· δύνασαι γάρ.</l>\n",
      "                            <l><lb n=\"375\"/>ἀλλὰ διπλῆς γὰρ τῆσδε μαράγνης</l>\n",
      "                            <l>δοῦπος ἱκνεῖται· τῶν μὲν ἀρωγοὶ</l>\n",
      "                            <l>κατὰ γῆς ἤδη, τῶν δὲ κρατούντων </l>\n",
      "                            <l>χέρες οὐχ ὅσιαι †στυγερῶν τούτων </l>\n",
      "                            <l>παισὶ δὲ μᾶλλον γεγένηται†.</l>\n",
      "                        </lg>\n",
      "                        <lg type=\"strophe\" n=\"delta\" resp=\"orestes\">\n",
      "                            <l met=\"+--+--+\"><lb n=\"380\"/>τοῦτο διαμπερὲς οὖς</l>\n",
      "                            <l met=\"+--+--+\">ἵκεθ’ ἅπερ τε βέλος·</l>\n",
      "                            <l met=\"++-+-+++\">Ζεῦ Ζεῦ, κάτωθεν ἀμπέμπειν</l>\n",
      "                            <l met=\"+--+-++\">ὑστερόποινον ἄταν</l>\n",
      "                            <l met=\"-++--+-++\">βροτῶν τλήμονι καὶ πανούργωι</l>\n",
      "                            <l met=\"+--+--+-++\"><lb n=\"385\"/>χειρί· τοκεῦσι δ’ ὅμως τελεῖται</l>\n",
      "                        </lg>\n",
      "                         <lg type=\"strophe\" n=\"epsilon\" resp=\"chorus\">\n",
      "                             <l met=\"-+++-+-+-+\">ἐφυμνῆσαι γένοιτό μοι πευ-</l>\n",
      "                             <l met=\"+--+-++\"><lb break=\"no\"/>κάεντ’ <rs type=\"negative\">ὀλολυγμὸν</rs> ἀνδρὸς</l>\n",
      "                             <l met=\"+--+-++\">θεινομένου γυναικός</l>\n",
      "                             <l met=\"+--+-++\">τ’ ὀλλυμένας· τί γὰρ κεύ-</l>\n",
      "                             <l met=\"+--+-++\"><lb n=\"390\"/><lb break=\"no\"/>θω <rs type=\"organ\">φρενὸς</rs> οἷον ἔμπας</l>\n",
      "                             <l met=\"-++-++-++ \">ποτᾶται πάροιθ’; ἐκ δὲ πρώιρας</l>\n",
      "                             <l met=\"+--++--+\">δριμὺς ἄηται <rs type=\"organ\">κραδίας</rs></l>\n",
      "                             <l met=\"+-+-+-+\"><rs type=\"organ\"><rs type=\"emotion\">θυμός</rs></rs>, ἔγκοτον <rs type=\"emotion\">στύγος</rs>.</l>\n",
      "                         </lg>\n",
      "                        <lg type=\"antistrophe\" n=\"delta\" resp=\"elektra\">\n",
      "                            <l met=\"+--+--+\">καὶ πότ’ ἂν ἀμφιθαλὴς</l>\n",
      "                            <l met=\"+--+--+\"><lb n=\"395\"/>Ζεὺς ἐπὶ χεῖρα βάλοι</l>\n",
      "                            <l met=\"++-+-+++\"><rs type=\"negative\">φεῦ φεῦ</rs>, κάρανα δαΐξας;</l>\n",
      "                            <l met=\"+--+-++\">πιστὰ γένοιτο χώραι. </l>\n",
      "                            <l met=\"-++--+-++\"><rs type=\"justice\">δίκαν</rs> δ’ ἐξ <rs type=\"injustice\">ἀδίκων</rs> ἀπαιτῶ·</l>\n",
      "                            <l met=\"+--+--+-++\">κλῦτε δὲ Γᾶ χθονίων τε τιμαί.</l>\n",
      "                        </lg>\n",
      "                        <lg resp=\"chorus\">\n",
      "                            <l><lb n=\"400\"/>ἀλλὰ <rs type=\"justice\">νόμος</rs> μὲν φονίας σταγόνας</l>\n",
      "                            <l>χυμένας ἐς πέδον ἄλλο προσαιτεῖν</l>\n",
      "                            <l>αἷμα· βοᾶι γὰρ λοιγὸς <rs type=\"justice\">Ἐρινὺν</rs></l>\n",
      "                            <l>παρὰ τῶν πρότερον φθιμένων ἄτην</l>\n",
      "                            <l>ἑτέραν ἐπάγουσαν ἐπ’ ἄτηι</l>\n",
      "                        </lg>\n",
      "                        <lg type=\"strophe\" n=\"zeta\" resp=\"orestes\">\n",
      "                            <l met=\"-+++-+-+-+\"><lb n=\"405\"/>πόποι δᾶ νερτέρων τυραννίδες·</l>\n",
      "                            <l met=\"-(--)+-+-(--)+-+\">πολυκρατεῖς ἴδεσθε φθιμένων Ἀραί,</l>\n",
      "                            <l met=\"-+-++-+-+-+\">ἴδεσθ’ Ἀτρειδᾶν τὰ λοίπ’ ἀμηχάνως</l>\n",
      "                            <l met=\"-+-++-+-+-+\">ἔχοντα καὶ δωμάτων ἄτιμα· πᾶι</l>\n",
      "                            <l met=\"+-+-++\">τις τράποιτ’ ἄν, ὦ Ζεῦ;</l>\n",
      "                        </lg>\n",
      "                       <lg type=\"antistrophe\" n=\"epsilon\" resp=\"chorus\">\n",
      "                         <l met=\"-+++-+-+-+\"><lb n=\"410\"/>πέπαλται δαὖτέ μοι φίλον <rs type=\"organ\">κῆρ</rs>.</l>\n",
      "                         <l met=\"+--+-++\">τόνδε κλύουσαν <rs type=\"negative\">οἶκτον</rs>·</l>\n",
      "                         <l met=\"+--+|-++\">καὶ τότε μὲν δύσελπις,</l>\n",
      "                         <l met=\"+--+|-++\"><rs type=\"organ\">σπλάγχνα</rs> δέ μοι κελαινοῦ-</l>\n",
      "                         <l met=\"+|--+-++\"><lb break=\"no\"/>ται πρὸς ἔπος κλυούσαι·</l>\n",
      "                         <l met=\"-++|-++-++\"><lb n=\"415\"/>ὅταν δ’ αὖτ’ ἐπαλκὲς θραρέ</l>\n",
      "                         <l met=\"+--++--+\"><gap reason=\"lost\">  </gap> ἀπέστασεν ἄχος</l>\n",
      "                         <l met=\"+-+-+-+\">πρὸς τὸ φανεῖσθαι μοι καλῶς. </l>\n",
      "                       </lg>\n",
      "                       <lg type=\"antistrophe\" n=\"zeta\" resp=\"elektra\">\n",
      "                         <l met=\"-+++-+-+-+\">τί δ’ ἂν φάντες τύχοιμεν; ἦ τάπερ</l>\n",
      "                         <l met=\"-(--)(--)-+-+(--)-+\"><rs type=\"emotion\">πάθομεν</rs> ἄχεα πρός γε τῶν τεκομένων;</l>\n",
      "                         <l met=\"-+-++|-+-+-+\"><lb n=\"420\"/>πάρεστι σαίνειν, τὰ δ’ οὔτι θέλγεται·</l>\n",
      "                         <l met=\"-+-++-+-+-+\">λύκος γὰρ ὥστ’ ὠμόφρων ἄσαντος ἐκ</l>\n",
      "                         <l met=\"+-+-++\">ματρός ἐστι <rs type=\"organ\"><rs type=\"emotion\">θυμός</rs></rs>.</l>\n",
      "                       </lg>\n",
      "                       <lg type=\"strophe\" n=\"eta\" resp=\"chorus\">\n",
      "                         <l met=\"-+-++|(--)-+-+-+\">ἔκοψα <rs type=\"negative\">κομμὸν</rs> Ἄριον ἔν τε Κισσίας</l>\n",
      "                         <l met=\"-+-+-+-+\">νόμοις <rs type=\"negative\">ἰηλεμιστρίας</rs>·</l>\n",
      "                         <l met=\"-+-++|(--)-+-+-+\"><lb n=\"425\"/>ἀπρικτόπληκτα πολυπάλακτα δ’ ἦν ἰδεῖν</l>\n",
      "                         <l met=\"-+-(--)-+-(--)-+-+\">ἐπασσυτεροτριβῆ τὰ χερὸς ὀρέγματα</l>\n",
      "                         <l met=\"-+-(--)-+|-+-+-+\">ἄνωθεν ἀνέκαθεν, κτύπωι δ’ ἐπερρόθει</l>\n",
      "                         <l met=\"-+-++|-+-+-+\">κροτητὸν ἀμὸν καὶ πανάθλιον κάρα.</l>\n",
      "                       </lg>\n",
      "                       <lg type=\"strophe\" n=\"theta\" resp=\"elektra\">\n",
      "                         <l met=\"-+-++-+\">ἰὼ ἰὼ δαΐα</l>\n",
      "                         <l met=\"-+-++|+-+-+-+\"><lb n=\"430\"/>πάντολμε μᾶτερ, <rs type=\"negative\">δαΐαις</rs> ἐν ἐκφοραῖς</l>\n",
      "                         <l met=\"-+-++-+\">ἄνευ πολιτᾶν ἄνακτ’</l>\n",
      "                         <l met=\"-+-++-+\">ἄνευ δὲ <rs type=\"negative\">πενθημάτων</rs></l>\n",
      "                         <l met=\"-+-++-+-++\">ἔτλας ἀνοίμωκτον ἄνδρα θάψαι.</l>\n",
      "                        </lg>\n",
      "                        <lg type=\"strophe\" n=\"iota\" resp=\"orestes\">\n",
      "                          <l met=\"-+-++|-+-++\">τὸ πᾶν ἀτίμως ἔρεξας, <rs type=\"negative\">οἴμοι</rs>,</l>\n",
      "                          <l met=\"-+-++-+-++\"><lb n=\"435\"/>πατρὸς δ’ ἀτίμωσιν ἆρα τείσεις</l>\n",
      "                          <l met=\"-+-++-+\">ἕκατι μὲν δαιμόνων,</l>\n",
      "                          <l met=\"-+-++-+\">ἕκατι δ’ ἀμᾶν χερῶν·</l>\n",
      "                          <l met=\"-+-++-+-++\">ἔπειτ’ ἐγὼ νοσφίσας <supplied reason=\"omitted\">σ’</supplied> ὀλοίμαν.</l>\n",
      "                        </lg>\n",
      "                        <lg type=\"antistrophe\" n=\"iota\" resp=\"chorus\">\n",
      "                          <l met=\"-+-++|-+-++\">ἐμασχαλίσθη δέ γ’, ὡς τόδ’ εἰδῆις·</l>\n",
      "                          <l met=\"-+-++-+-++\"><lb n=\"440\"/>ἔπρασσε δ’ ἅπερ νιν ὧδε θάπτει,</l>\n",
      "                          <l met=\"-+-++-+\">μόρον κτίσαι μωμένα</l>\n",
      "                          <l met=\"-+-++-+\">ἄφερτον αἰῶνι σῶι·</l>\n",
      "                          <l met=\"-+-++-+-++\">κλύεις πατρώιους δύας ἀτίμους.</l>\n",
      "                        </lg>\n",
      "                        <lg type=\"antistrophe\" n=\"eta\" resp=\"elektra\">\n",
      "                          <l met=\"-+-+-|(--)-+-+-+\">λέγεις πατρῶιον μόρον· ἐγὼ δ’ ἀπεστάτουν</l>\n",
      "                          <l met=\"-+-+-|---+-+-+\"><lb n=\"445\"/>ἄτιμος, οὐδὲν ἀξία,</l>\n",
      "                          <l met=\"-+-+-+-+\">μυχῶι δ’ ἄφερκτος πολυσινοῦς κυνὸς δίκαν</l>\n",
      "                          <l met=\"-+-+-|(--)-+-+-+\">ἑτοιμότερα γέλωτος ἀνέφερον λίβη</l>\n",
      "                          <l met=\"-+-(--)-+|-+-+-+\">χέουσα <rs type=\"negative\">πολύδακρυν</rs> <rs type=\"negative\">γόον</rs> κεκρυμμένα.</l>\n",
      "                          <l met=\"-+-++|-+-+-+\"><lb n=\"450\"/>τοιαῦτ’ ἀκούων <gap reason=\"lost\">  </gap> ἐν <rs type=\"organ\">φρεσὶν</rs> γράφου.</l>\n",
      "                        </lg>\n",
      "                        <lg type=\"antistrophe\" n=\"eta\" resp=\"chorus\">\n",
      "                          <l met=\"-+-++-+\"> <supplied reason=\"omitted\">γράφου</supplied>, δι’ ὤτων δὲ συν-</l>\n",
      "                          <l met=\"-+-+-|+-+-+-+\"><lb break=\"no\"/>τέτραινε μῦθον ἡσύχωι <rs type=\"organ\">φρενῶν</rs> βάσει·</l>\n",
      "                          <l met=\"-+-++-+\">τὰ μὲν γὰρ οὕτως ἔχει,</l>\n",
      "                          <l met=\"-+-++-+\">τὰ δ’ αὐτὸς <rs type=\"emotion\">ὄργα</rs> μαθεῖν·</l>\n",
      "                          <l met=\"-+-++-+-++\"><lb n=\"455\"/>πρέπει δ’ ἀκάμπτωι μένει καθήκειν.</l>\n",
      "                        </lg>  \n",
      "                        <lg type=\"strophe\" n=\"kappa\">\n",
      "                            <l met=\"-+-++-+-+-+\" resp=\"orestes\">σέ τοι λέγω, ξυγγενοῦ πάτερ φίλοις.</l>\n",
      "                            <l met=\"-+-++-+-+-+\" resp=\"elektra\">ἐγὼ δ’ ἐπιφθέγγομαι <rs type=\"negative\">κεκλαυμένα</rs>. </l>\n",
      "                            <l met=\"-+-++-+-+-+\" resp=\"chorus\">στάσις δὲ πάγκοινος ἅδ’ ἐπιρροθεῖ·</l>\n",
      "                            <l met=\"-+-+-+-+\" resp=\"chorus\">ἄκουσον ἐς φάος μολών</l>\n",
      "                            <l met=\"+--+-++\" resp=\"chorus\"><lb n=\"460\"/>ξὺν δὲ γενοῦ πρὸς ἐχθρούς</l>\n",
      "                        </lg>\n",
      "                        <lg type=\"antistrophe\" n=\"kappa\">\n",
      "                            <l met=\"-+-++-+-+-+\" resp=\"orestes\">Ἄρης Ἄρει ξυμβαλεῖ, <rs type=\"justice\">Δίκαι</rs> <rs type=\"justice\">Δίκα</rs>.</l>\n",
      "                            <l met=\"-+-++-+-+-+\" resp=\"elektra\">ἰὼ θεοί, κραίνετ’ <rs type=\"justice\">ἐνδίκως</rs> <supplied reason=\"omitted\">λιτάς</supplied>.</l>\n",
      "                            <l met=\"-+-++-+-+-+\" resp=\"chorus\">τρόμος μ’ ὑφέρπει κλύουσαν εὐγμάτων·</l>\n",
      "                            <l met=\"-+-+-+-+\" resp=\"chorus\">τὸ μόρσιμον μένει πάλαι,</l>\n",
      "                            <l met=\"+--+-++\" resp=\"chorus\"><lb n=\"465\"/>εὐχομένοις δ’ ἂν ἔλθοι.</l>\n",
      "                        </lg>\n",
      "                        <lg type=\"strophe\" n=\"lambda\" resp=\"chorus\">\n",
      "                            <l met=\"+--+-+\">ὦ πόνος ἐγγενής,</l>\n",
      "                            <l met=\"+--+-++\">καὶ παράμουσος ἄτας</l>\n",
      "                            <l met=\"+--+-++\">αἱματόεσσα πλαγά,</l>\n",
      "                            <l met=\"-++--+-++\">ἰὼ δύστον’ ἄφερτα κήδη,</l>\n",
      "                            <l met=\"-++--+-++\"><lb n=\"470\"/>ἰὼ δυσκατάπαυστον ἄλγος.</l>\n",
      "                         <lg type=\"antistrophe\" n=\"lambda\" resp=\"chorus\">\n",
      "                             <l met=\"+--+-+\">δώμασιν ἔμμοτον</l>\n",
      "                             <l met=\"+--+-++\">τῶνδ’ ἄκος οὐκ ἀπ’ ἄλλων</l>\n",
      "                             <l met=\"+--+-++\">ἔκτοθεν, ἀλλ’ ἀπ’ αὐτῶν,</l>\n",
      "                             <l met=\"-++--+-++\">δι’ ὠμὰν ἔριν αἱματηράν·</l>\n",
      "                             <l met=\"-++--+-++\"><lb n=\"475\"/>θεῶν <supplied reason=\"omitted\">τῶν</supplied> κατὰ γᾶς ὅδ’ ὕμνος.</l>\n",
      "                        </lg>\n",
      "                        <lg resp=\"chorus\">\n",
      "                            <l>ἀλλὰ κλύοντες, μάκαρες χθόνιοι,</l>\n",
      "                            <l>τῆσδε κατευχῆς πέμπετ’ ἀρωγὴν</l>\n",
      "                            <l>παισὶν <rs type=\"organ\">προφρόνως</rs> ἐπὶ νίκηι.</l>\n",
      "                        </lg>\n",
      "                    </lg>\n",
      "                  </lg>\n",
      "                </ab>\n",
      "            </div>\n",
      "        </body>\n",
      "    </text>\n",
      "</TEI>\n",
      "\n"
     ]
    }
   ],
   "source": [
    "import urllib.request\n",
    "\n",
    "url_to_load = \"https://isaw-ga-3024.github.io/rebekah-rust-rebekahrust/xml/ChoephoroeKommos.xml\"\n",
    "\n",
    "f = urllib.request.urlopen(url_to_load)\n",
    "tei_as_string = f.read().decode('utf-8')\n",
    "\n",
    "print(tei_as_string)"
   ]
  },
  {
   "cell_type": "markdown",
   "metadata": {},
   "source": [
    "## Step 2: We can already do things\n",
    "The find() method of strings will return the index of a substring. Try it:"
   ]
  },
  {
   "cell_type": "code",
   "execution_count": 22,
   "metadata": {
    "collapsed": false
   },
   "outputs": [
    {
     "name": "stdout",
     "output_type": "stream",
     "text": [
      "The first lb element begins at index 4779\n",
      "The first lb element ends at index 4792\n"
     ]
    }
   ],
   "source": [
    "url_to_load = \"https://isaw-ga-3024.github.io/rebekah-rust-rebekahrust/xml/ChoephoroeKommos.xml\"\n",
    "\n",
    "f = urllib.request.urlopen(url_to_load)\n",
    "tei_as_string = f.read().decode('utf-8')\n",
    "\n",
    "start_index = tei_as_string.find('<lb')\n",
    "\n",
    "tmp_end_index = tei_as_string[start_index:].find('>')\n",
    "\n",
    "\n",
    "end_index = start_index + tmp_end_index + 1\n",
    "\n",
    "print(\"The first lb element begins at index \" + str(start_index))\n",
    "print(\"The first lb element ends at index \" + str(end_index))"
   ]
  },
  {
   "cell_type": "markdown",
   "metadata": {},
   "source": [
    "## Quiz!\n",
    "Print the first lb element by using the start_index and end_index."
   ]
  },
  {
   "cell_type": "code",
   "execution_count": 23,
   "metadata": {
    "collapsed": false
   },
   "outputs": [
    {
     "name": "stdout",
     "output_type": "stream",
     "text": [
      "<lb n=\"310\"/>\n"
     ]
    }
   ],
   "source": [
    "url_to_load = \"https://isaw-ga-3024.github.io/rebekah-rust-rebekahrust/xml/ChoephoroeKommos.xml\"\n",
    "\n",
    "f = urllib.request.urlopen(url_to_load)\n",
    "tei_as_string = f.read().decode('utf-8')\n",
    "\n",
    "start_index = tei_as_string.find('<lb')\n",
    "\n",
    "tmp_end_index = tei_as_string[start_index:].find('>')\n",
    "\n",
    "\n",
    "end_index = start_index + tmp_end_index + 1\n",
    "\n",
    "print(tei_as_string[start_index:end_index])"
   ]
  },
  {
   "cell_type": "markdown",
   "metadata": {},
   "source": [
    "## More complex elements\n",
    "lb elements are zero-lengh, which means they can take the form '&lt;lb n=\"#\" />' . Note the '/>' at the end of the element. This is equivalent to '&lt;lb n=\"#\">&lt;/lb>' but is easier to write.\n",
    "\n",
    "Next we want to capture elements of the form '&lt;persName type=\"a type\">Tom&lt;/persName>'. You know all the python code to do this. We just put things together a little differently.\n",
    "\n",
    "## Quiz\n",
    "The cell below is almost ready to load the sample URL from the first cell, then to find and print out the first 'expan' element. Assign a value to end_tag to make the cell work.\n"
   ]
  },
  {
   "cell_type": "code",
   "execution_count": 24,
   "metadata": {
    "collapsed": false
   },
   "outputs": [
    {
     "name": "stdout",
     "output_type": "stream",
     "text": [
      "<expan>στρ<ex>ατηγῷ</ex></expan> \n"
     ]
    }
   ],
   "source": [
    "url_to_load = \"http://papyri.info/ddbdp/bgu;1;133/source\"\n",
    "\n",
    "f = urllib.request.urlopen(url_to_load)\n",
    "tei_as_string = f.read().decode('utf-8')\n",
    "\n",
    "# start_tag\n",
    "start_tag = '<expan>' # why leave off the '>'?\n",
    "end_tag =  '</expan>'# What value should end_tag have?\n",
    "\n",
    "start_index = tei_as_string.find(start_tag)\n",
    "\n",
    "tmp_end_index = tei_as_string[start_index:].find(end_tag)\n",
    "\n",
    "end_index = start_index + tmp_end_index + len(end_tag) + 1 # why '+ len(end_tag)'?\n",
    "\n",
    "print(tei_as_string[start_index:end_index])"
   ]
  },
  {
   "cell_type": "markdown",
   "metadata": {},
   "source": [
    "## Quiz!\n",
    "Cut-and-paste the working code from the above cell and adapt it so that it finds the first supplied element. Be careful, supplied elements can have the form '&lt;supplied reason=\"...\"> ... &lt;/supplied>' This means you can just search for '&lt;supplied>'."
   ]
  },
  {
   "cell_type": "code",
   "execution_count": 39,
   "metadata": {
    "collapsed": false
   },
   "outputs": [
    {
     "name": "stdout",
     "output_type": "stream",
     "text": [
      "<supplied reason=\"lost\">ρα</supplied> \n"
     ]
    }
   ],
   "source": [
    "url_to_load = \"http://papyri.info/ddbdp/bgu;1;133/source\"\n",
    "\n",
    "f = urllib.request.urlopen(url_to_load)\n",
    "tei_as_string = f.read().decode('utf-8')\n",
    "\n",
    "start_tag = '<supplied'\n",
    "end_tag = '</supplied>'\n",
    "\n",
    "start_index = tei_as_string.find(start_tag)\n",
    "\n",
    "tmp_end_index = tei_as_string[start_index:].find(end_tag)\n",
    "\n",
    "end_index = start_index + tmp_end_index + len(end_tag) + 1\n",
    "\n",
    "print(tei_as_string[start_index:end_index])"
   ]
  },
  {
   "cell_type": "markdown",
   "metadata": {},
   "source": [
    "## A Better Way\n",
    "Building your own indexes into a string to find start and end tags could get very complicated very quickly. Let's use a libray. In class we used the 'lxml' library. I recommend sticking with that if you're going to process xml in python as part of your final project. Now we'll use the 'xml' library, which should work on everyone's machine. In the following cells, look at the comments to follow along."
   ]
  },
  {
   "cell_type": "code",
   "execution_count": 11,
   "metadata": {
    "collapsed": false
   },
   "outputs": [
    {
     "name": "stdout",
     "output_type": "stream",
     "text": [
      "Hello World!\n",
      "Goodbye!!!\n"
     ]
    }
   ],
   "source": [
    "# import what we need from the xml library\n",
    "import xml.etree.ElementTree as ET\n",
    "\n",
    "# some simple xml as a test\n",
    "xml_str = \"<doc><p>Hello World!</p><p>Goodbye!!!</p></doc>\"\n",
    "\n",
    "# turn this string into an ElementTree. Think of that as a very specialized version of a python list.\n",
    "xml_elements = ET.fromstring(xml_str)\n",
    "\n",
    "# ElementTrees have a .findall method that can take an xpath expression.\n",
    "# IMPORTANT: being your xpath with '.'\n",
    "# You can iterate over them with a for loop.\n",
    "for p in xml_elements.findall('p'):\n",
    "    print(p.text)"
   ]
  },
  {
   "cell_type": "code",
   "execution_count": 12,
   "metadata": {
    "collapsed": false
   },
   "outputs": [
    {
     "name": "stdout",
     "output_type": "stream",
     "text": [
      "salutation\n",
      "farewell\n"
     ]
    }
   ],
   "source": [
    "# now let's access attributes\n",
    "# we don't need to import the xml library again\n",
    "\n",
    "# some simple xml, but now with attributes\n",
    "xml_str = '<doc><p n=\"1\" type=\"salutation\">Hello World!</p><p n=\"2\" type=\"farewell\">Goodbye!!!</p></doc>'\n",
    "\n",
    "# turn this string into an ElementTree. Think of that as a very specialized version of a python list.\n",
    "xml_elements = ET.fromstring(xml_str)\n",
    "\n",
    "# ElementTrees have a .findall method that can take an xpath expression.\n",
    "# IMPORTANT: being your xpath with '.'\n",
    "# You can iterate over them with a for loop.\n",
    "for p in xml_elements.findall('.//p'):\n",
    "    print(p.attrib['type']) # p.attrib on its own returns a dictionary."
   ]
  },
  {
   "cell_type": "markdown",
   "metadata": {},
   "source": [
    "## Quiz!\n",
    "Change the above code so that it prints out the n attribute of each p element."
   ]
  },
  {
   "cell_type": "code",
   "execution_count": 13,
   "metadata": {
    "collapsed": false
   },
   "outputs": [
    {
     "name": "stdout",
     "output_type": "stream",
     "text": [
      "1\n",
      "2\n"
     ]
    }
   ],
   "source": [
    "xml_str = '<doc><p n=\"1\" type=\"salutation\">Hello World!</p><p n=\"2\" type=\"farewell\">Goodbye!!!</p></doc>'\n",
    "\n",
    "xml_elements = ET.fromstring(xml_str)\n",
    "\n",
    "for p in xml_elements.findall('.//p'):\n",
    "    print(p.attrib['n'])"
   ]
  },
  {
   "cell_type": "markdown",
   "metadata": {},
   "source": [
    "## An example with real TEI"
   ]
  },
  {
   "cell_type": "code",
   "execution_count": 62,
   "metadata": {
    "collapsed": false
   },
   "outputs": [
    {
     "name": "stdout",
     "output_type": "stream",
     "text": [
      "\n",
      "List found elements:\n",
      "\n",
      "List the text of found elements:\n",
      "στρ\n",
      "Ἀρσι\n",
      "Ἡρακ\n",
      "μερίδο\n",
      "ἀμφόδο\n",
      "None\n",
      "αἶγ\n",
      "None\n",
      "List the value attributes of found elements\n",
      "4\n",
      "7\n",
      "104\n",
      "6\n",
      "10\n",
      "14\n",
      "100\n",
      "8\n"
     ]
    }
   ],
   "source": [
    "# I suggest running this first 'as is'. Then try using a URL for your own TEI.\n",
    "url_to_load = \"http://papyri.info/ddbdp/bgu;1;133/source\" \n",
    "\n",
    "f = urllib.request.urlopen(url_to_load)\n",
    "tei_as_string = f.read().decode('utf-8')\n",
    "\n",
    "xml_elements = ET.fromstring(tei_as_string)\n",
    "\n",
    "# IMPORTANT: In the findall(...) statements that follow,\n",
    "# you'll see '{http://www.tei-c.org/ns/1.0}'. Leave it.\n",
    "# But note that you can change the element name.\n",
    "\n",
    "# if you are using your own TEI, you might need to change the XPATH so that is meaningful for your data\n",
    "\n",
    "print(\"\\nList found elements:\")\n",
    "# element.tag returns the name of the current element\n",
    "elements = xml_elements.findall('.//{http://www.tei-c.org/ns/1.0}lb')\n",
    "for attribute in rs:\n",
    "    print(attribute.tag)\n",
    "\n",
    "print(\"\\nList the text of found elements:\")\n",
    "# element.text returns the text content of the current element. Here 'expan' elements are found.\n",
    "elements = xml_elements.findall('.//{http://www.tei-c.org/ns/1.0}expan')\n",
    "for element in elements:\n",
    "    print(element.text)\n",
    "\n",
    "print(\"List the value attributes of found elements\")\n",
    "# as you've seen element.attrib, return the attributes\n",
    "elements = xml_elements.findall('.//{http://www.tei-c.org/ns/1.0}num')\n",
    "for element in elements:\n",
    "    print(element.attrib['value'])"
   ]
  },
  {
   "cell_type": "markdown",
   "metadata": {
    "collapsed": false
   },
   "source": [
    "## A little bit of bad news\n",
    "The xml library is simpler than the lxml library. It does not support xpath queries of the form .//num/@value . You have to get all the nums and move through them looking for value attributes using .attrib ."
   ]
  },
  {
   "cell_type": "markdown",
   "metadata": {},
   "source": [
    "## Assignment!\n",
    "You can now fetch your TEI from github, find certain elements within it, and then write a for loop to access those elements individually. The last step is like the 'for color in colors:' loop in Chapter 1.\n",
    "\n",
    "Your assignment is to adapt the code above to do something interesting with your TEI-encoded xml file that is in the github repository. You could find shared words in paragraphs. List all rulers, dates, places, (organs?). How about making links to the wikipedia articles for rulers - or other proper nouns - mentioned in a text? How would you do that?\n",
    "\n",
    "And as I mentioned, you might have to make changes to your TEI so that python can easily work with the elements within your document. That is OK. Just make sure the file remains valid XML.\n"
   ]
  },
  {
   "cell_type": "code",
   "execution_count": 136,
   "metadata": {
    "collapsed": false
   },
   "outputs": [
    {
     "name": "stdout",
     "output_type": "stream",
     "text": [
      "\n",
      "List of organs:\n",
      "φρόνημα\n",
      "φρενὸς\n",
      "κραδίας\n",
      "None\n",
      "κῆρ\n",
      "σπλάγχνα\n",
      "None\n",
      "φρεσὶν\n",
      "φρενῶν\n",
      "προφρόνως\n",
      "\n",
      "List of emotions:\n",
      "χάριτες\n",
      "ὀργάς\n",
      "θυμός\n",
      "στύγος\n",
      "πάθομεν\n",
      "θυμός\n",
      "ὄργα\n"
     ]
    }
   ],
   "source": [
    "url_to_load = \"https://isaw-ga-3024.github.io/rebekah-rust-rebekahrust/xml/ChoephoroeKommos.xml\"\n",
    "\n",
    "f = urllib.request.urlopen(url_to_load)\n",
    "tei_as_string = f.read().decode('utf-8')\n",
    "\n",
    "import xml.etree.ElementTree as ET\n",
    "\n",
    "xml_elements = ET.fromstring(tei_as_string)\n",
    "\n",
    "print(\"\\nList of organs:\")\n",
    "elements = xml_elements.findall('.//{http://www.tei-c.org/ns/1.0}rs')\n",
    "for element in elements:\n",
    "    if element.attrib[\"type\"]==\"organ\":\n",
    "        print(element.text)\n",
    "\n",
    "print(\"\\nList of emotions:\")\n",
    "elements = xml_elements.findall('.//{http://www.tei-c.org/ns/1.0}rs')\n",
    "for element in elements:\n",
    "    if element.attrib[\"type\"]==\"emotion\":\n",
    "        print(element.text)\n",
    "        \n",
    "\n",
    "        \n",
    "\n",
    "\n",
    "\n",
    "\n",
    "\n",
    "\n"
   ]
  },
  {
   "cell_type": "markdown",
   "metadata": {},
   "source": [
    "## How to turn in your assignment\n",
    "\n",
    "First, exectute the cell with your code in it and make sure the output is what you want.\n",
    "\n",
    "Then choose 'Save and checkpoint' from the \"File\" menu of this notebook.\n",
    "\n",
    "Copy this file, which is 'tei-processing.ipynb' into your folder of the class repository. As usual, commit and sync changes to github. That's it. When loaded from github, the notebook will appear essentially the same as it does to you now."
   ]
  }
 ],
 "metadata": {
  "anaconda-cloud": {},
  "kernelspec": {
   "display_name": "Python [Root]",
   "language": "python",
   "name": "Python [Root]"
  },
  "language_info": {
   "codemirror_mode": {
    "name": "ipython",
    "version": 3
   },
   "file_extension": ".py",
   "mimetype": "text/x-python",
   "name": "python",
   "nbconvert_exporter": "python",
   "pygments_lexer": "ipython3",
   "version": "3.5.2"
  }
 },
 "nbformat": 4,
 "nbformat_minor": 1
}
