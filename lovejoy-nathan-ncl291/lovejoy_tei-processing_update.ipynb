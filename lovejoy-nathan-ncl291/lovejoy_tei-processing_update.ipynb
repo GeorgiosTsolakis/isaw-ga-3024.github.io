{
 "cells": [
  {
   "cell_type": "markdown",
   "metadata": {},
   "source": [
    "# Loading and Processing TEI-Encoded XML\n",
    "Because I wasn't able to get everyone working with the lxml library, I've simplified the process of loading xml and then processing it. Follow along below and let me know if you have any problems planning and implementing your assignment."
   ]
  },
  {
   "cell_type": "markdown",
   "metadata": {},
   "source": [
    "## Step 1: Read XML from github\n"
   ]
  },
  {
   "cell_type": "code",
   "execution_count": 1,
   "metadata": {
    "collapsed": false
   },
   "outputs": [
    {
     "name": "stdout",
     "output_type": "stream",
     "text": [
      "<?xml version=\"1.0\" encoding=\"UTF-8\"?>\n",
      "<?xml-model href=\"http://www.stoa.org/epidoc/schema/latest/tei-epidoc.rng\" schematypens=\"http://relaxng.org/ns/structure/1.0\"?>\n",
      "<?xml-model href=\"http://www.stoa.org/epidoc/schema/latest/tei-epidoc.rng\" schematypens=\"http://purl.oclc.org/dsdl/schematron\"?>\n",
      "<TEI xmlns=\"http://www.tei-c.org/ns/1.0\" xml:space=\"preserve\" xml:lang=\"en\">\n",
      "    <teiHeader>\n",
      "        <fileDesc>\n",
      "            <titleStmt>\n",
      "                <title>title of document</title>\n",
      "            </titleStmt>\n",
      "            <publicationStmt>\n",
      "                <authority></authority>\n",
      "                <idno type=\"filename\"></idno>\n",
      "            </publicationStmt>\n",
      "            <sourceDesc>\n",
      "                <msDesc>\n",
      "                    <msIdentifier>\n",
      "                        <repository>museum/archive</repository>\n",
      "                        <idno>inventory number</idno>\n",
      "                    </msIdentifier>\n",
      "                    <physDesc>\n",
      "                        <objectDesc>\n",
      "                            <supportDesc>\n",
      "                                <support>description of object/monument (likely to include <material/>\n",
      "                                    and <objectType/> information, <dimensions/>, etc.)</support>\n",
      "                            </supportDesc>\n",
      "                            <layoutDesc>\n",
      "                                <layout>description of text field/campus</layout>\n",
      "                            </layoutDesc>\n",
      "                        </objectDesc>\n",
      "                        <handDesc>\n",
      "                            <handNote>description of letters, possibly including <height>letter-heights</height>\n",
      "                            </handNote>\n",
      "                        </handDesc>\n",
      "                    </physDesc>\n",
      "                    <history>\n",
      "                        <origin>\n",
      "                            <origPlace>Place of origin</origPlace>\n",
      "                            <origDate>Date of origin</origDate>\n",
      "                        </origin>\n",
      "                        <provenance type=\"found\"> Findspot and circumstances/context\n",
      "                        </provenance>\n",
      "                        <provenance type=\"observed\">Modern location(s) (if different from repository, above)\n",
      "                        </provenance>\n",
      "                    </history>\n",
      "                </msDesc>\n",
      "            </sourceDesc>\n",
      "        </fileDesc>\n",
      "    </teiHeader>\n",
      "    <facsimile>\n",
      "        <graphic url=\"photograph of text or monument\"/>\n",
      "    </facsimile>\n",
      "    <text>\n",
      "        <body>\n",
      "            <div type=\"edition\">\n",
      "                <ab>\n",
      "                    <l rend=\"left-to-right\"><lb n=\"1\"/><hi rend=\"supraline\"><rs type=\"titulature\" key=\"sun\">SOL2</rs></hi> <rs type=\"titulature\" key=\"great king\">MAGNUS.REX</rs> <rs type=\"titulature\" key=\"labarna\">IUDEX-LA</rs> <persName>MONS-tu</persName> <rs type=\"titulature\" key=\"labarna\">IUDEX-LA</rs> <rs type=\"titulature\" key=\"great king\">MAGNUS.REX</rs> <rs type=\"titulature\" key=\"hero\">HEROS</rs> <persName>HATTI+li</persName> <rs type=\"titulature\" key=\"great king\">MAGNUS.REX</rs> <rs type=\"titulature\" key=\"hero\">HEROS</rs> INFANS <persName>URBS+RA-li</persName> <rs type=\"titulature\" key=\"great king\">MAGNUS.REX</rs> <rs type=\"titulature\" key=\"hero\">HEROS</rs></l>\n",
      "                    <l rend=\"left-to-right\"><lb n=\"2\"/>tu-pi\n",
      "                        <lb n=\"3\"/>wa-mu-a VIR2-*418-wa-<unclear>ni</unclear>-sa <placeName>LINGUA+CLAVUS-tu-sa-URBS</placeName> <unclear>POST</unclear>-a URBS-MI-a <rs type=\"titulature\" key=\"labarna\">IUDEX-LA-ti</rs>\n",
      "                        <lb n=\"4\"/>wa-mu-a <persName>DEUS.TONITRUS</persName></l>\n",
      "                    <l rend=\"left-to-right\"><lb n=\"5\"/>NEG-wa a-sa-ta\n",
      "                        <lb n=\"6\"/>REL-ti-pa-<damage>wa-<supplied reason=\"lost\" cert=\"low\">mu</supplied> VIA-<gap reason=\"lost\" extent=\"unknown\" unit=\"character\"/> PRAE-<supplied reason=\"lost\" cert=\"low\">na-</supplied> <gap reason=\"lost\" extent=\"unknown\" unit=\"character\"/>a+ra-<gap reason=\"lost\" extent=\"unknown\" unit=\"character\"/>\n",
      "                        <lb n=\"7\"/>a-<gap reason=\"lost\" extent=\"unknown\" unit=\"character\"/> ta-<gap reason=\"lost\" extent=\"unknown\" unit=\"character\"/></damage></l>\n",
      "                    <l rend=\"left-to-right\"><lb n=\"8\"/>PRAE-na <placeName>MONS-pa-tara</placeName> <unclear>pi</unclear>-i-ha\n",
      "                       <lb n=\"9\"/><unclear>DARE.DARE</unclear>-nu-wa-ha\n",
      "                       <lb n=\"10\"/>SCALPRUM-CRUS-<unclear>TERRA</unclear> i-zi-ha-zi\n",
      "                       <lb n=\"11\"/>zi-ta-zi-pa-wa REGIO-ni-zi <rs type=\"titulature\" key=\"great king\">MAGNUS.REX-zi</rs> <placeName>HATTI-REGIO</placeName> a-mi-zi (VIR2)-ta-AVUS-zi NEG-a REL-i-sa-ha hwi-i-<damage>ta</damage>\n",
      "                       <lb n=\"12\"/>mu-pa-wa-a <persName>DEUS.TONITRUS</persName> <rs type=\"titulature\" key=\"lord\">DOMINUS-na</rs> a-zi-ta\n",
      "                       <lb n=\"13\"/>a-wa-zi-i REGIO-ni-i</l>\n",
      "                </ab>\n",
      "            </div>\n",
      "            <div type=\"apparatus\">\n",
      "                <p>external apparatus criticus (if applicable)</p>\n",
      "            </div>\n",
      "            <div type=\"translation\">\n",
      "                <p>translation(s)</p>\n",
      "            </div>\n",
      "            <div type=\"commentary\">\n",
      "                <p>commentary</p>\n",
      "            </div>\n",
      "            <div type=\"bibliography\">\n",
      "                <p>bibliography of previous editions, discussion, etc.</p>\n",
      "            </div>\n",
      "        </body>\n",
      "    </text>\n",
      "</TEI>\n"
     ]
    }
   ],
   "source": [
    "import urllib.request\n",
    "\n",
    "url_to_load = \"https://isaw-ga-3024.github.io/lovejoy-nathan-ncl291/ncl291-yalburt%20inscription.xml\"\n",
    "\n",
    "f = urllib.request.urlopen(url_to_load)\n",
    "tei_as_string = f.read().decode('utf-8')\n",
    "\n",
    "print(tei_as_string)"
   ]
  },
  {
   "cell_type": "markdown",
   "metadata": {},
   "source": [
    "## Step 2: We can already do things\n",
    "The find() method of strings will return the index of a substring. Try it:"
   ]
  },
  {
   "cell_type": "code",
   "execution_count": 18,
   "metadata": {
    "collapsed": false
   },
   "outputs": [
    {
     "name": "stdout",
     "output_type": "stream",
     "text": [
      "The first lb element begins at index 2536\n",
      "The first lb element ends at index 2547\n"
     ]
    }
   ],
   "source": [
    "url_to_load = \"https://isaw-ga-3024.github.io/lovejoy-nathan-ncl291/ncl291-yalburt%20inscription.xml\"\n",
    "\n",
    "f = urllib.request.urlopen(url_to_load)\n",
    "tei_as_string = f.read().decode('utf-8')\n",
    "\n",
    "start_index = tei_as_string.find('<lb') # find the index of the first lb element\n",
    "\n",
    "# why is the '[start_index:]' range important here? it tells the program where to start from. otherwise it would find the first '>' in the TEI.\n",
    "tmp_end_index = tei_as_string[start_index:].find('>')\n",
    "\n",
    "# what happens if we don't add 1 at the end? try it. it would not include the tmp_end_index, otherwise.\n",
    "end_index = start_index + tmp_end_index + 1\n",
    "\n",
    "print(\"The first lb element begins at index \" + str(start_index))\n",
    "print(\"The first lb element ends at index \" + str(end_index))"
   ]
  },
  {
   "cell_type": "markdown",
   "metadata": {},
   "source": [
    "## Quiz!\n",
    "Print the first lb element by using the start_index and end_index."
   ]
  },
  {
   "cell_type": "code",
   "execution_count": 20,
   "metadata": {
    "collapsed": false
   },
   "outputs": [
    {
     "name": "stdout",
     "output_type": "stream",
     "text": [
      "<lb n=\"1\"/>\n"
     ]
    }
   ],
   "source": [
    "print(tei_as_string[start_index:end_index])"
   ]
  },
  {
   "cell_type": "markdown",
   "metadata": {},
   "source": [
    "## More complex elements\n",
    "lb elements are zero-lengh, which means they can take the form '&lt;lb n=\"#\" />' . Note the '/>' at the end of the element. This is equivalent to '&lt;lb n=\"#\">&lt;/lb>' but is easier to write.\n",
    "\n",
    "Next we want to capture elements of the form '&lt;persName type=\"a type\">Tom&lt;/persName>'. You know all the python code to do this. We just put things together a little differently.\n",
    "\n",
    "## Quiz\n",
    "The cell below is almost ready to load the sample URL from the first cell, then to find and print out the first 'expan' element. Assign a value to end_tag to make the cell work.\n"
   ]
  },
  {
   "cell_type": "code",
   "execution_count": 21,
   "metadata": {
    "collapsed": false
   },
   "outputs": [
    {
     "name": "stdout",
     "output_type": "stream",
     "text": [
      "<expan>στρ<ex>ατηγῷ</ex></expan> \n"
     ]
    }
   ],
   "source": [
    "url_to_load = \"http://papyri.info/ddbdp/bgu;1;133/source\"\n",
    "\n",
    "f = urllib.request.urlopen(url_to_load)\n",
    "tei_as_string = f.read().decode('utf-8')\n",
    "\n",
    "# start_tag\n",
    "start_tag = '<expan>' # why leave off the '>'?\n",
    "end_tag =  '</expan>'# What value should end_tag have?\n",
    "\n",
    "start_index = tei_as_string.find(start_tag)\n",
    "\n",
    "tmp_end_index = tei_as_string[start_index:].find(end_tag)\n",
    "\n",
    "end_index = start_index + tmp_end_index + len(end_tag) + 1 # why '+ len(end_tag)'? so as to include the end_tag\n",
    "\n",
    "print(tei_as_string[start_index:end_index])"
   ]
  },
  {
   "cell_type": "markdown",
   "metadata": {},
   "source": [
    "## Quiz!\n",
    "Cut-and-paste the working code from the above cell and adapt it so that it finds the first supplied element. Be careful, supplied elements can have the form '&lt;supplied reason=\"...\"> ... &lt;/supplied>' This means you can just search for '&lt;supplied>'."
   ]
  },
  {
   "cell_type": "code",
   "execution_count": 22,
   "metadata": {
    "collapsed": false
   },
   "outputs": [
    {
     "name": "stdout",
     "output_type": "stream",
     "text": [
      "<supplied reason=\"lost\">ρα</supplied> \n"
     ]
    }
   ],
   "source": [
    "url_to_load = \"http://papyri.info/ddbdp/bgu;1;133/source\"\n",
    "\n",
    "f = urllib.request.urlopen(url_to_load)\n",
    "tei_as_string = f.read().decode('utf-8')\n",
    "\n",
    "# start_tag\n",
    "start_tag = '<supplied' # why leave off the '>'? in case there is an attribute inside the tag.\n",
    "end_tag =  '</supplied>'# What value should end_tag have?\n",
    "\n",
    "start_index = tei_as_string.find(start_tag)\n",
    "\n",
    "tmp_end_index = tei_as_string[start_index:].find(end_tag)\n",
    "\n",
    "end_index = start_index + tmp_end_index + len(end_tag) + 1 # why '+ len(end_tag)'? so as to include the end_tag\n",
    "\n",
    "print(tei_as_string[start_index:end_index])"
   ]
  },
  {
   "cell_type": "markdown",
   "metadata": {},
   "source": [
    "## A Better Way\n",
    "Building your own indexes into a string to find start and end tags could get very complicated very quickly. Let's use a libray. In class we used the 'lxml' library. I recommend sticking with that if you're going to process xml in python as part of your final project. Now we'll use the 'xml' library, which should work on everyone's machine. In the following cells, look at the comments to follow along."
   ]
  },
  {
   "cell_type": "code",
   "execution_count": 23,
   "metadata": {
    "collapsed": false
   },
   "outputs": [
    {
     "name": "stdout",
     "output_type": "stream",
     "text": [
      "Hello World!\n",
      "Goodbye!!!\n"
     ]
    }
   ],
   "source": [
    "# import what we need from the xml library\n",
    "import xml.etree.ElementTree as ET\n",
    "\n",
    "# some simple xml as a test\n",
    "xml_str = \"<doc><p>Hello World!</p><p>Goodbye!!!</p></doc>\"\n",
    "\n",
    "# turn this string into an ElementTree. Think of that as a very specialized version of a python list.\n",
    "xml_elements = ET.fromstring(xml_str)\n",
    "\n",
    "# ElementTrees have a .findall method that can take an xpath expression.\n",
    "# IMPORTANT: being your xpath with '.'\n",
    "# You can iterate over them with a for loop.\n",
    "for p in xml_elements.findall('p'):\n",
    "    print(p.text)"
   ]
  },
  {
   "cell_type": "code",
   "execution_count": 24,
   "metadata": {
    "collapsed": false
   },
   "outputs": [
    {
     "name": "stdout",
     "output_type": "stream",
     "text": [
      "salutation\n",
      "farewell\n"
     ]
    }
   ],
   "source": [
    "# now let's access attributes\n",
    "# we don't need to import the xml library again\n",
    "\n",
    "# some simple xml, but now with attributes\n",
    "xml_str = '<doc><p n=\"1\" type=\"salutation\">Hello World!</p><p n=\"2\" type=\"farewell\">Goodbye!!!</p></doc>'\n",
    "\n",
    "# turn this string into an ElementTree. Think of that as a very specialized version of a python list.\n",
    "xml_elements = ET.fromstring(xml_str)\n",
    "\n",
    "# ElementTrees have a .findall method that can take an xpath expression.\n",
    "# IMPORTANT: being your xpath with '.'\n",
    "# You can iterate over them with a for loop.\n",
    "for p in xml_elements.findall('.//p'):\n",
    "    print(p.attrib['type']) # p.attrib on its own returns a dictionary."
   ]
  },
  {
   "cell_type": "markdown",
   "metadata": {},
   "source": [
    "## Quiz!\n",
    "Change the above code so that it prints out the n attribute of each p element."
   ]
  },
  {
   "cell_type": "code",
   "execution_count": 25,
   "metadata": {
    "collapsed": false
   },
   "outputs": [
    {
     "name": "stdout",
     "output_type": "stream",
     "text": [
      "1\n",
      "2\n"
     ]
    }
   ],
   "source": [
    "# now let's access attributes\n",
    "# we don't need to import the xml library again\n",
    "\n",
    "# some simple xml, but now with attributes\n",
    "xml_str = '<doc><p n=\"1\" type=\"salutation\">Hello World!</p><p n=\"2\" type=\"farewell\">Goodbye!!!</p></doc>'\n",
    "\n",
    "# turn this string into an ElementTree. Think of that as a very specialized version of a python list.\n",
    "xml_elements = ET.fromstring(xml_str)\n",
    "\n",
    "# ElementTrees have a .findall method that can take an xpath expression.\n",
    "# IMPORTANT: being your xpath with '.'\n",
    "# You can iterate over them with a for loop.\n",
    "for p in xml_elements.findall('.//p'):\n",
    "    print(p.attrib['n']) # p.attrib on its own returns a dictionary."
   ]
  },
  {
   "cell_type": "markdown",
   "metadata": {},
   "source": [
    "## An example with real TEI"
   ]
  },
  {
   "cell_type": "code",
   "execution_count": 28,
   "metadata": {
    "collapsed": false
   },
   "outputs": [
    {
     "name": "stdout",
     "output_type": "stream",
     "text": [
      "\n",
      "List found elements:\n",
      "{http://www.tei-c.org/ns/1.0}lb\n",
      "{http://www.tei-c.org/ns/1.0}lb\n",
      "{http://www.tei-c.org/ns/1.0}lb\n",
      "{http://www.tei-c.org/ns/1.0}lb\n",
      "{http://www.tei-c.org/ns/1.0}lb\n",
      "{http://www.tei-c.org/ns/1.0}lb\n",
      "{http://www.tei-c.org/ns/1.0}lb\n",
      "{http://www.tei-c.org/ns/1.0}lb\n",
      "{http://www.tei-c.org/ns/1.0}lb\n",
      "{http://www.tei-c.org/ns/1.0}lb\n",
      "{http://www.tei-c.org/ns/1.0}lb\n",
      "{http://www.tei-c.org/ns/1.0}lb\n",
      "{http://www.tei-c.org/ns/1.0}lb\n",
      "{http://www.tei-c.org/ns/1.0}lb\n",
      "\n",
      "List the text of found elements:\n",
      "στρ\n",
      "Ἀρσι\n",
      "Ἡρακ\n",
      "μερίδο\n",
      "ἀμφόδο\n",
      "None\n",
      "αἶγ\n",
      "None\n",
      "List the value attributes of found elements\n",
      "4\n",
      "7\n",
      "104\n",
      "6\n",
      "10\n",
      "14\n",
      "100\n",
      "8\n"
     ]
    }
   ],
   "source": [
    "# I suggest running this first 'as is'. Then try using a URL for your own TEI.\n",
    "url_to_load = \"http://papyri.info/ddbdp/bgu;1;133/source\" \n",
    "\n",
    "f = urllib.request.urlopen(url_to_load)\n",
    "tei_as_string = f.read().decode('utf-8')\n",
    "\n",
    "xml_elements = ET.fromstring(tei_as_string)\n",
    "\n",
    "# IMPORTANT: In the findall(...) statements that follow,\n",
    "# you'll see '{http://www.tei-c.org/ns/1.0}'. Leave it.\n",
    "# But note that you can change the element name.\n",
    "\n",
    "# if you are using your own TEI, you might need to change the XPATH so that is meaningful for your data\n",
    "\n",
    "print(\"\\nList found elements:\")\n",
    "# element.tag returns the name of the current element\n",
    "elements = xml_elements.findall('.//{http://www.tei-c.org/ns/1.0}lb')\n",
    "for element in elements:\n",
    "    print(element.tag)\n",
    "\n",
    "print(\"\\nList the text of found elements:\")\n",
    "# element.text returns the text content of the current element. Here 'expan' elements are found.\n",
    "elements = xml_elements.findall('.//{http://www.tei-c.org/ns/1.0}expan')\n",
    "for element in elements:\n",
    "    print(element.text)\n",
    "\n",
    "print(\"List the value attributes of found elements\")\n",
    "# as you've seen element.attrib, return the attributes\n",
    "elements = xml_elements.findall('.//{http://www.tei-c.org/ns/1.0}num')\n",
    "for element in elements:\n",
    "    print(element.attrib['value'])"
   ]
  },
  {
   "cell_type": "markdown",
   "metadata": {
    "collapsed": false
   },
   "source": [
    "## A little bit of bad news\n",
    "The xml library is simpler than the lxml library. It does not support xpath queries of the form .//num/@value . You have to get all the nums and move through them looking for value attributes using .attrib ."
   ]
  },
  {
   "cell_type": "markdown",
   "metadata": {},
   "source": [
    "## Assignment!\n",
    "You can now fetch your TEI from github, find certain elements within it, and then write a for loop to access those elements individually. The last step is like the 'for color in colors:' loop in Chapter 1.\n",
    "\n",
    "Your assignment is to adapt the code above to do something interesting with your TEI-encoded xml file that is in the github repository. You could find shared words in paragraphs. List all rulers, dates, places, (organs?). How about making links to the wikipedia articles for rulers - or other proper nouns - mentioned in a text? How would you do that?\n",
    "\n",
    "And as I mentioned, you might have to make changes to your TEI so that python can easily work with the elements within your document. That is OK. Just make sure the file remains valid XML.\n"
   ]
  },
  {
   "cell_type": "code",
   "execution_count": 40,
   "metadata": {
    "collapsed": false
   },
   "outputs": [
    {
     "name": "stdout",
     "output_type": "stream",
     "text": [
      "\n",
      "List the types of reference string tags:\n",
      "titulature\n",
      "titulature\n",
      "titulature\n",
      "titulature\n",
      "titulature\n",
      "titulature\n",
      "titulature\n",
      "titulature\n",
      "titulature\n",
      "titulature\n",
      "titulature\n",
      "titulature\n",
      "titulature\n",
      "\n",
      "List the keys of reference string tags:\n",
      "sun\n",
      "great king\n",
      "labarna\n",
      "labarna\n",
      "great king\n",
      "hero\n",
      "great king\n",
      "hero\n",
      "great king\n",
      "hero\n",
      "labarna\n",
      "great king\n",
      "lord\n",
      "\n",
      "List of personal names:\n",
      "MONS-tu\n",
      "HATTI+li\n",
      "URBS+RA-li\n",
      "DEUS.TONITRUS\n",
      "DEUS.TONITRUS\n",
      "\n",
      "List of place names:\n",
      "LINGUA+CLAVUS-tu-sa-URBS\n",
      "MONS-pa-tara\n",
      "HATTI-REGIO\n",
      "\n",
      "List of unclear signs:\n",
      "ni\n",
      "POST\n",
      "pi\n",
      "DARE.DARE\n",
      "TERRA\n",
      "\n",
      "Damaged portions of text:\n",
      "wa-mu VIA- PRAE-na- a+ra-\n",
      "                        a- ta-\n",
      "ta\n"
     ]
    }
   ],
   "source": [
    "import sys\n",
    "from lxml import etree\n",
    "import urllib.request\n",
    "\n",
    "def xml_nodes_as_text_list(elements):\n",
    "    els_list = []\n",
    "    for e in elements:\n",
    "        try:\n",
    "            e_as_text = etree.tounicode(e, method=\"text\")\n",
    "            if len(e_as_text):\n",
    "                els_list.append(e_as_text)\n",
    "        except TypeError:\n",
    "            els_list.append(e)\n",
    "            \n",
    "    return els_list\n",
    "\n",
    "def get_tei(url):\n",
    "    f = urllib.request.urlopen(url)\n",
    "    tei_as_string = f.read().decode('utf-8').replace('encoding=\"UTF-8\"','')\n",
    "    return etree.XML(tei_as_string)\n",
    "\n",
    "url = \"https://isaw-ga-3024.github.io/lovejoy-nathan-ncl291/ncl291-yalburt%20inscription.xml\"\n",
    "\n",
    "namespaces = {'tei': 'http://www.tei-c.org/ns/1.0'}\n",
    "\n",
    "tei = get_tei(url)\n",
    "\n",
    "xml_elements = ET.fromstring(tei_as_string)\n",
    "\n",
    "print(\"\\nList the types of reference string tags:\")\n",
    "elements = xml_elements.findall('.//{http://www.tei-c.org/ns/1.0}rs')\n",
    "for element in elements:\n",
    "    print(element.attrib['type'])\n",
    "    \n",
    "print(\"\\nList the keys of reference string tags:\")\n",
    "elements = xml_elements.findall('.//{http://www.tei-c.org/ns/1.0}rs')\n",
    "for element in elements:\n",
    "    print(element.attrib['key'])\n",
    "\n",
    "print(\"\\nList of personal names:\")\n",
    "elements = xml_elements.findall('.//{http://www.tei-c.org/ns/1.0}persName')\n",
    "for element in elements:\n",
    "    print(element.text)\n",
    "\n",
    "print(\"\\nList of place names:\")\n",
    "elements = xml_elements.findall('.//{http://www.tei-c.org/ns/1.0}placeName')\n",
    "for element in elements:\n",
    "    print(element.text)\n",
    "    \n",
    "print(\"\\nList of unclear signs:\")\n",
    "elements = xml_elements.findall('.//{http://www.tei-c.org/ns/1.0}unclear')\n",
    "for element in elements:\n",
    "    print(element.text)\n",
    "    \n",
    "print(\"\\nDamaged portions of text:\")\n",
    "elements = tei.xpath(\"//tei:damage\",namespaces = namespaces)\n",
    "text_list = xml_nodes_as_text_list(elements)\n",
    "for text in text_list:\n",
    "    print(text.strip())"
   ]
  },
  {
   "cell_type": "markdown",
   "metadata": {},
   "source": [
    "## How to turn in your assignment\n",
    "\n",
    "First, exectute the cell with your code in it and make sure the output is what you want.\n",
    "\n",
    "Then choose 'Save and checkpoint' from the \"File\" menu of this notebook.\n",
    "\n",
    "Copy this file, which is 'tei-processing.ipynb' into your folder of the class repository. As usual, commit and sync changes to github. That's it. When loaded from github, the notebook will appear essentially the same as it does to you now."
   ]
  }
 ],
 "metadata": {
  "kernelspec": {
   "display_name": "Python [Root]",
   "language": "python",
   "name": "Python [Root]"
  },
  "language_info": {
   "codemirror_mode": {
    "name": "ipython",
    "version": 3
   },
   "file_extension": ".py",
   "mimetype": "text/x-python",
   "name": "python",
   "nbconvert_exporter": "python",
   "pygments_lexer": "ipython3",
   "version": "3.5.2"
  }
 },
 "nbformat": 4,
 "nbformat_minor": 1
}
