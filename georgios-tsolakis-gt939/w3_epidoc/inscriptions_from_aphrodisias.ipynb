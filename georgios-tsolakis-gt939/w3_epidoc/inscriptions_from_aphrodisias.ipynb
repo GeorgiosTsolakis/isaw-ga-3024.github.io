{
 "cells": [
  {
   "cell_type": "markdown",
   "metadata": {},
   "source": [
    "# Inscriptions of Aphrodisias"
   ]
  },
  {
   "cell_type": "markdown",
   "metadata": {},
   "source": [
    "Introduction: Purpose of my jupyter notebook is to provide a way of more complex research in the corpus of Aphrodisias. The majority of inscription are published in an Epidoc format (http://insaph.kcl.ac.uk/). Yet, while there is a basis structure, little word has been done on tagging offices, officers, honors ect."
   ]
  },
  {
   "cell_type": "markdown",
   "metadata": {},
   "source": [
    "## Step 1: Importing multiple files"
   ]
  },
  {
   "cell_type": "code",
   "execution_count": 87,
   "metadata": {
    "collapsed": false
   },
   "outputs": [],
   "source": [
    "from bs4 import BeautifulSoup\n",
    "import requests\n",
    "\n",
    "def find_files():\n",
    "    url = \"https://github.com/isaw-ga-3024/isaw-ga-3024.github.io/blob/master/georgios-tsolakis-gt939/W2_Epidoc/\"\n",
    "    soup = BeautifulSoup(requests.get(url).text, \"lxml\")\n",
    "\n",
    "    hrefs = []\n",
    "\n",
    "    for a in soup.find_all('a'):\n",
    "        hrefs.append(a['href'])\n",
    "\n",
    "    return hrefs\n",
    "\n",
    "list_of_links = find_files()\n",
    "\n",
    "\n",
    "list_of_inscriptions = []\n",
    "for link in list_of_links:\n",
    "    if link.endswith(\".xml\"):\n",
    "        list_of_inscriptions.append(link)\n",
    "#print(list_of_inscriptions)  #remove the number sign at the begging of the line to see which files were imported\n",
    "\n",
    "list_of_inscriptions = [w.replace(\"/isaw-ga-3024/isaw-ga-3024.github.io/blob/master/\", \"https://isaw-ga-3024.github.io/\") for w in list_of_inscriptions]\n",
    "#print(list_of_inscriptions) #remove the number sign at the begging of the line to see if rename was successful"
   ]
  },
  {
   "cell_type": "markdown",
   "metadata": {},
   "source": [
    "## Step 2: Grabbing TEI-encoded XML"
   ]
  },
  {
   "cell_type": "code",
   "execution_count": 88,
   "metadata": {
    "collapsed": false
   },
   "outputs": [
    {
     "name": "stdout",
     "output_type": "stream",
     "text": [
      "Ἔδοξεν τῆι βουλῆι καὶ τῶι δήμωι τηι Μα-\n",
      "                    ρσύου τοῦ Ἀπολλωνίου τοῦ Μαρσύου γραμματέως δήμου καὶ\n",
      "                    αυ ἐπὶ τῆς χώρας στρατηγοῦ· ἐπεὶ Ἑρμογένης Ἡφαιστίωνος\n",
      "                    Θεόδοτος, τῶν πρώτων καὶ ἐνδοξοτάτων πολειτῶν, προγόνων\n",
      "                    ὑπάρχων τῶν μεγίστων καὶ συνεκτικότων τὸν δῆμον καὶ ἐν ἀ-\n",
      "                    ρετῆι καὶ φιλοδοξίαις καὶ ἐπανγελίαις πλείσταις καὶ τοῖς καλ-\n",
      "                    λίστοις ἔργοις πρὸς τὴν πατρίδα βεβιωκότων, καὶ αὐτὸς γεγο-\n",
      "                    νὼς ἀνὴρ καλὸς καὶ ἀγαθὸς καὶ φιλόπατρις καὶ κτίστης καὶ εὐερ-\n",
      "                    γέτης τῆς πόλεως καὶ σωτὴρ καὶ εὐνόως καὶ σωφρόνως ἀνεσ-\n",
      "                    τραμμένος πρός τε τὸν σύνπαντα δῆμον καὶ τοὺς καθένα τῶν πο-\n",
      "                    λειτῶν καὶ πρὸς θεοὺς εὐσεβέστατα διακείμενος καὶ πρὸς τὴν\n",
      "                    πατρίδα, φιλοδοξότατα κοσμήσας αὐτὴν ἐπανγελίαις καλλίσ-\n",
      "                    ταις καὶ ἀναθήμασιν, εἰς πολλὰς δὲ πρεσβήας καὶ ἀνανκαιοτάτας\n",
      "                    προχειρισθεὶς καὶ εἰς ἀγῶνας κατὰ τὸ κάλλιστον ἐτέλεσεν\n",
      "                    πάντα, τάς τε ἀρχὰς πάσας ἐπιδεξάμενος καὶ χιροτονηθεὶς\n",
      "                    πλεονάκις ἐπισήμως ἀνεστράφη δικαίως καὶ καθαρῶς, παρά τε\n",
      "                    ταῖς ἐξουσίαις καὶ τοῖς ἡγουμένοις πλείστην γνῶσιν καὶ σύστ-\n",
      "                    ασιν σχὼν εὐεργέτησεν καὶ διὰ τούτων μέγιστα τὴν πόλιν· αἱρε-\n",
      "                    θεὶς δὲ καὶ στεφανηφόρος ἐτέλεσεν καὶ αὐτὴν τὴν λειτουργίαν\n",
      "                    ἱεροπρεπῶς καὶ κοσμίως· ἐφ’ οἷς πᾶσιν ἀποδεξάμενος αὐτὸν ὁ\n",
      "                    δῆμος ἀπέδωκεν αὐτῶι τὰς καταξίας χάριτας· τὰ δὲ νῦν με-\n",
      "                    τήλλακχεν τὸν βίον, καθήκει δὲ ἐπίσημον καὶ τὴν ἐκκομιδὴν γενέσ-\n",
      "                    θαι αὐτοῦ· δεδόχθαι τῇ βουλῇ καὶ τῶι δήμωι ἐπῃνῆσθαι αὐτὸν καὶ μετηλ-\n",
      "                    λαχότα καὶ στεφανωθῆναι ὑπὸ τῆς βουλῆς καὶ τοῦ δήμου\n",
      "                    στεφάνωι ἀριστήωι ἀπὸ χρυσῶν ἑκατόν·\n",
      "                    Ἡφαιστίωνος Θεόδοτε, χαῖρε\n",
      "ἡ\n",
      "          βουλὴ\n",
      "          καὶ\n",
      "          ὁ\n",
      "         δῆμος\n",
      "          \n",
      "            ἐτείμησαν\n",
      "          \n",
      "          ταῖς\n",
      "          καλλίσταις\n",
      "          καὶ\n",
      "          μεγίσταις\n",
      "          \n",
      "            τειμ\n",
      "              αῖς\n",
      "          \n",
      "          καὶ\n",
      "          μετηλλακχότ\n",
      "            α\n",
      "          \n",
      "          \n",
      "            Ἀριστοκλέα\n",
      "            \n",
      "              Ἀριστοκλέους\n",
      "              \n",
      "              \n",
      "                τ\n",
      "                οῦ\n",
      "              \n",
      "              \n",
      "                Ἀρτεμιδώρου\n",
      "              \n",
      "            \n",
      "            Μολο\n",
      "              σσὸν\n",
      "          \n",
      "          ἱππικόν\n",
      "          \n",
      "          νεανίαν\n",
      "          γενόμενον\n",
      "          γένους\n",
      "          τοῦ\n",
      "          πρώτου\n",
      "          καὶ\n",
      "          συνεκτικότος\n",
      "          τὴν\n",
      "          πατρίδα\n",
      "          \n",
      "          καὶ\n",
      "          ἐν\n",
      "          γυμνασ\n",
      "            ιαρχίαις\n",
      "          καὶ\n",
      "          \n",
      "          στεφανηφορίαις\n",
      "          γεγονότος\n",
      "          τὴν\n",
      "          \n",
      "            \n",
      "              τειμὴν\n",
      "            \n",
      "          \n",
      "          ἀνα\n",
      "            τε\n",
      "            θεικυίας\n",
      "          \n",
      "            Ἀμ\n",
      "              μίας\n",
      "            τῆς\n",
      "            \n",
      "            \n",
      "              \n",
      "                Ἀριστοκλέους\n",
      "              \n",
      "              τοῦ\n",
      "              \n",
      "                Ἀρτεμι\n",
      "                  δ\n",
      "                  ώρου\n",
      "                \n",
      "              \n",
      "            \n",
      "          \n",
      "          \n",
      "            γυναικός\n",
      "          \n",
      "          τῆς\n",
      "          μη\n",
      "            τ\n",
      "            ρὸς\n",
      "          αὐτοῦ\n",
      "ἡ  βουλὴ  καὶ  ὁ   δῆμος  ἐτείμησεν  \n",
      "Ἀρτέμωνα Ἄνδρωνος γενόμενον ἄνδρα κα\n",
      "λὸν καὶ ἀγαθὸν καὶ φιλόπατριν διὰ προγόνων \n",
      " ζήσαντα καλῶς καὶ σωφρόνως καὶ ἐπ′ ἀρετῆι καὶ \n",
      " καλοκαγαθίαι καὶ διενένκαντα φιλομαθίᾳ καὶ παι\n",
      "δείᾳ καὶ τῆι κατὰ πάντα ἀρετῆι καὶ προγόνων ὑπάρ\n",
      "χοντα  κας καλῶν καὶ ἀγαθῶν καὶ πολλὰς καὶ \n",
      " μεγάλας εὐεργεσίας εἰς τὸν δῆμον κατατεθειμέ\n",
      "νων καὶ συνεκτικότων τὸν >δῆμον καὶ ἐστεφάνω\n",
      "σεν χρυσῷ στεφάνωι ἀπὸ χρυσῶν ΕΟΝ:  \n",
      "   Ἀρτέμων Ἄνδρωνος .\n",
      "ἡ  βουλὴ  καὶ  ὁ   δῆμος  ἐτείμησεν  \n",
      "Ἀρτέμωνα Ἄνδρωνος γενόμενον ἄνδρα κα\n",
      "λὸν καὶ ἀγαθὸν καὶ φιλόπατριν διὰ προγόνων \n",
      " ζήσαντα καλῶς καὶ σωφρόνως καὶ ἐπ′ ἀρετῆι καὶ \n",
      " καλοκαγαθίαι καὶ διενένκαντα φιλομαθίᾳ καὶ παι\n",
      "δείᾳ καὶ τῆι κατὰ πάντα ἀρετῆι καὶ προγόνων ὑπάρ\n",
      "χοντα  κας καλῶν καὶ ἀγαθῶν καὶ πολλὰς καὶ \n",
      " μεγάλας εὐεργεσίας εἰς τὸν δῆμον κατατεθειμέ\n",
      "νων καὶ συνεκτικότων τὸν >δῆμον καὶ ἐστεφάνω\n",
      "σεν χρυσῷ στεφάνωι ἀπὸ χρυσῶν ΕΟΝ:  \n",
      "   Ἀρτέμων Ἄνδρωνος .\n"
     ]
    }
   ],
   "source": [
    "\"\"\"This code is meant as a simple demo of grabbing TEI-encoded XML and doing trivial things with it. (by Sebastian Heath https://gist.github.com/sfsheath/7a984a2c0952a07d0d4a2f8bc54c6f9d\"\"\"\n",
    "\n",
    "import sys\n",
    "from lxml import etree\n",
    "import urllib.request\n",
    "\n",
    "def xml_nodes_as_text_list(elements):\n",
    "    \"\"\"A simple function that doesn't really do much. Can handle elements or attributes.\"\"\"\n",
    "    els_list = []\n",
    "    for e in elements:\n",
    "        try:\n",
    "            e_as_text = etree.tounicode(e, method=\"text\")\n",
    "            if len(e_as_text):\n",
    "                els_list.append(e_as_text)\n",
    "        except TypeError:\n",
    "            els_list.append(e)\n",
    "            \n",
    "    return els_list\n",
    "\n",
    "def get_tei(url):\n",
    "    \"\"\"lxml seems not to like encoding declarations so this function removes if present.\"\"\"\n",
    "    f = urllib.request.urlopen(url)\n",
    "    tei_as_string = f.read().decode('utf-8').replace('encoding=\"UTF-8\"','')\n",
    "    return etree.XML(tei_as_string)\n",
    "\n",
    "namespaces = {'tei': 'http://www.tei-c.org/ns/1.0'}\n",
    "\n",
    "for item in list_of_inscriptions:\n",
    "    tei = get_tei(item)\n",
    "    \n",
    "    elements = tei.xpath(\"//tei:ab\",namespaces = namespaces)\n",
    "    text_list = xml_nodes_as_text_list(elements)\n",
    "    for text in text_list:\n",
    "        print(text.strip())\n",
    "\n",
    "def print_many_texts(item_to_grab):\n",
    "    tei = get_tei(item)\n",
    "    elements = tei.xpath(\"//tei:ab\",namespaces = namespaces)\n",
    "    text_list = xml_nodes_as_text_list(elements)\n",
    "    for text in text_list:\n",
    "        print(text.strip())\n",
    "\n",
    "print_many_texts(item)"
   ]
  },
  {
   "cell_type": "markdown",
   "metadata": {},
   "source": [
    "## List of Officials"
   ]
  },
  {
   "cell_type": "code",
   "execution_count": 89,
   "metadata": {
    "collapsed": false
   },
   "outputs": [
    {
     "name": "stdout",
     "output_type": "stream",
     "text": [
      "\n",
      "List of officials:\n",
      "None\n",
      "ἐπὶ τῆς χώρας στρατηγοῦ\n",
      "δῆμον\n",
      ">δῆμον\n"
     ]
    }
   ],
   "source": [
    "print(\"\\nList of officials:\")\n",
    "for item in list_of_inscriptions:\n",
    "    f = urllib.request.urlopen((item))\n",
    "    tei_as_string = f.read().decode('utf-8')\n",
    "    xml_elements = ET.fromstring(tei_as_string)\n",
    "\n",
    "\n",
    "    # element.tag returns the name of the current element\n",
    "    elements = xml_elements.findall('.//{http://www.tei-c.org/ns/1.0}rs')\n",
    "    for element in elements:\n",
    "        if element.attrib['type'] == \"official\":\n",
    "            print(element.text)  "
   ]
  },
  {
   "cell_type": "markdown",
   "metadata": {},
   "source": [
    "## Invocation of family tradition"
   ]
  },
  {
   "cell_type": "code",
   "execution_count": 90,
   "metadata": {
    "collapsed": false
   },
   "outputs": [
    {
     "name": "stdout",
     "output_type": "stream",
     "text": [
      "\n",
      "Invocation of family tradition:\n",
      "πρῶτοι καὶ ἐνδοξότατοι πολείται\n",
      "γένους τοῦ πρώτου καὶ συνεκτικότος τὴν πατρίδα καὶ ἐν γυμνασ̣[ι]αρχίαις καὶ στεφανηφορ[ίαι]ς γεγονότος\n",
      "διὰ προγόνων ζήσαντα καλῶς καὶ σωφρόνως καὶ ἐπ′ ἀρετῆι καὶ καλοκαγαθίαι\n",
      "προγόνων ὑπάρχοντα κα̣[·· c. 4 ··]ς καλῶν καὶ ἀγαθῶν καὶ πολλὰς καὶ μεγάλας ε[ὐεργεσί]ας εἰς τὸν δῆμον κατατεθειμένων καὶ συνεκ[τικ]ότων τὸν δῆμον\n"
     ]
    }
   ],
   "source": [
    "print(\"\\nInvocation of family tradition:\")\n",
    "for item in list_of_inscriptions:\n",
    "    f = urllib.request.urlopen((item))\n",
    "    tei_as_string = f.read().decode('utf-8')\n",
    "    xml_elements = ET.fromstring(tei_as_string)\n",
    "    elements = xml_elements.findall('.//{http://www.tei-c.org/ns/1.0}rs')\n",
    "    \n",
    "  \n",
    "        \n",
    "    for element in elements:\n",
    "        if element.attrib[\"type\"] == \"family_tradition\":\n",
    "            print(element.attrib[\"key\"])"
   ]
  },
  {
   "cell_type": "markdown",
   "metadata": {},
   "source": [
    "## List of Citizen Bodies"
   ]
  },
  {
   "cell_type": "code",
   "execution_count": 91,
   "metadata": {
    "collapsed": false
   },
   "outputs": [
    {
     "name": "stdout",
     "output_type": "stream",
     "text": [
      "\n",
      "Citizen Bodies:\n",
      "βουλή appears as:\n",
      "βουλῆι\n",
      "δῆμος appears as:\n",
      "None\n",
      "δῆμος appears as:\n",
      "δῆμον\n",
      "δῆμος appears as:\n",
      "πατρίδα\n",
      "δῆμος appears as:\n",
      "δῆμον\n",
      "πατρίς appears as:\n",
      "None\n",
      "πόλις appears as:\n",
      "πόλιν\n",
      "βουλή appears as:\n",
      "βουλῇ\n",
      "δῆμος appears as:\n",
      "δήμωι\n",
      "βουλή appears as:\n",
      "βουλῆς\n",
      "δῆμος appears as:\n",
      "δήμου\n",
      "βουλή appears as:\n",
      " \n",
      "δῆμος appears as:\n",
      "None\n",
      "βουλή appears as:\n",
      "None\n",
      "δῆμος appears as:\n",
      "None\n"
     ]
    }
   ],
   "source": [
    "print(\"\\nCitizen Bodies:\")\n",
    "for item in list_of_inscriptions:\n",
    "    f = urllib.request.urlopen((item))\n",
    "    tei_as_string = f.read().decode('utf-8')\n",
    "    xml_elements = ET.fromstring(tei_as_string)\n",
    "\n",
    "\n",
    "    # element.tag returns the name of the current element\n",
    "    elements = xml_elements.findall('.//{http://www.tei-c.org/ns/1.0}rs')\n",
    "        \n",
    "    for element in elements:\n",
    "        if element.attrib['type'] == \"citizen_body\":\n",
    "            print(element.attrib[\"key\"] + \" appears as:\")\n",
    "            print(element.text)  "
   ]
  }
 ],
 "metadata": {
  "celltoolbar": "Raw Cell Format",
  "kernelspec": {
   "display_name": "Python 3",
   "language": "python",
   "name": "python3"
  },
  "language_info": {
   "codemirror_mode": {
    "name": "ipython",
    "version": 3
   },
   "file_extension": ".py",
   "mimetype": "text/x-python",
   "name": "python",
   "nbconvert_exporter": "python",
   "pygments_lexer": "ipython3",
   "version": "3.5.1"
  }
 },
 "nbformat": 4,
 "nbformat_minor": 0
}
