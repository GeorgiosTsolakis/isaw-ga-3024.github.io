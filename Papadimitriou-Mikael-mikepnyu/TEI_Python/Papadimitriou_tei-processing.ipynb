{
 "cells": [
  {
   "cell_type": "markdown",
   "metadata": {},
   "source": [
    "# Loading and Processing TEI-Encoded XML\n",
    "Because I wasn't able to get everyone working with the lxml library, I've simplified the process of loading xml and then processing it. Follow along below and let me know if you have any problems planning and implementing your assignment."
   ]
  },
  {
   "cell_type": "markdown",
   "metadata": {},
   "source": [
    "## Step 1: Read XML from github\n"
   ]
  },
  {
   "cell_type": "code",
   "execution_count": null,
   "metadata": {
    "collapsed": false
   },
   "outputs": [],
   "source": [
    "import urllib.request\n",
    "\n",
    "# assign your url to the variable url_to_load\n",
    "# you can try http://papyri.info/ddbdp/bgu;1;133/source .\n",
    "url_to_load = \"http://papyri.info/ddbdp/bgu;1;133/source\" # url here\n",
    "\n",
    "f = urllib.request.urlopen(url_to_load)\n",
    "tei_as_string = f.read().decode('utf-8')\n",
    "\n",
    "print(tei_as_string)\n",
    "# if the above was successful you should see a TEI document below:"
   ]
  },
  {
   "cell_type": "markdown",
   "metadata": {},
   "source": [
    "## Step 2: We can already do things\n",
    "The find() method of strings will return the index of a substring. Try it:"
   ]
  },
  {
   "cell_type": "code",
   "execution_count": null,
   "metadata": {
    "collapsed": false
   },
   "outputs": [],
   "source": [
    "url_to_load = \"http://papyri.info/ddbdp/bgu;1;133/source\" # url here\n",
    "\n",
    "f = urllib.request.urlopen(url_to_load)\n",
    "tei_as_string = f.read().decode('utf-8')\n",
    "\n",
    "start_index = tei_as_string.find('<lb') # find the index of the first lb element\n",
    "\n",
    "# why is the '[start_index:]' range important here?\n",
    "tmp_end_index = tei_as_string[start_index:].find('>')\n",
    "\n",
    "# what happens if we don't add 1 at the end? try it\n",
    "end_index = start_index + tmp_end_index + 1\n",
    "\n",
    "print(\"The first lb element begins at index \" + str(start_index))\n",
    "print(\"The first lb element ends at index \" + str(end_index))"
   ]
  },
  {
   "cell_type": "markdown",
   "metadata": {},
   "source": [
    "## Quiz!\n",
    "Print the first lb element by using the start_index and end_index."
   ]
  },
  {
   "cell_type": "code",
   "execution_count": null,
   "metadata": {
    "collapsed": false
   },
   "outputs": [],
   "source": [
    "# your code here\n"
   ]
  },
  {
   "cell_type": "markdown",
   "metadata": {},
   "source": [
    "## More complex elements\n",
    "lb elements are zero-lengh, which means they can take the form '&lt;lb n=\"#\" />' . Note the '/>' at the end of the element. This is equivalent to '&lt;lb n=\"#\">&lt;/lb>' but is easier to write.\n",
    "\n",
    "Next we want to capture elements of the form '&lt;persName type=\"a type\">Tom&lt;/persName>'. You know all the python code to do this. We just put things together a little differently.\n",
    "\n",
    "## Quiz\n",
    "The cell below is almost ready to load the sample URL from the first cell, then to find and print out the first 'expan' element. Assign a value to end_tag to make the cell work.\n"
   ]
  },
  {
   "cell_type": "code",
   "execution_count": null,
   "metadata": {
    "collapsed": false
   },
   "outputs": [],
   "source": [
    "url_to_load = \"http://papyri.info/ddbdp/bgu;1;133/source\"\n",
    "\n",
    "f = urllib.request.urlopen(url_to_load)\n",
    "tei_as_string = f.read().decode('utf-8')\n",
    "\n",
    "# start_tag\n",
    "start_tag = '<expan>' # why leave off the '>'?\n",
    "end_tag =  # What value should end_tag have?\n",
    "\n",
    "start_index = tei_as_string.find(start_tag)\n",
    "\n",
    "tmp_end_index = tei_as_string[start_index:].find(end_tag)\n",
    "\n",
    "end_index = start_index + tmp_end_index + len(end_tag) + 1 # why '+ len(end_tag)'?\n",
    "\n",
    "print(tei_as_string[start_index:end_index])"
   ]
  },
  {
   "cell_type": "markdown",
   "metadata": {},
   "source": [
    "## Quiz!\n",
    "Cut-and-paste the working code from the above cell and adapt it so that it finds the first supplied element. Be careful, supplied elements can have the form '&lt;supplied reason=\"...\"> ... &lt;/supplied>' This means you can just search for '&lt;supplied>'."
   ]
  },
  {
   "cell_type": "code",
   "execution_count": null,
   "metadata": {
    "collapsed": true
   },
   "outputs": [],
   "source": [
    "# Insert your code here"
   ]
  },
  {
   "cell_type": "markdown",
   "metadata": {},
   "source": [
    "## A Better Way\n",
    "Building your own indexes into a string to find start and end tags could get very complicated very quickly. Let's use a libray. In class we used the 'lxml' library. I recommend sticking with that if you're going to process xml in python as part of your final project. Now we'll use the 'xml' library, which should work on everyone's machine. In the following cells, look at the comments to follow along."
   ]
  },
  {
   "cell_type": "code",
   "execution_count": null,
   "metadata": {
    "collapsed": false
   },
   "outputs": [],
   "source": [
    "# import what we need from the xml library\n",
    "import xml.etree.ElementTree as ET\n",
    "\n",
    "# some simple xml as a test\n",
    "xml_str = \"<doc><p>Hello World!</p><p>Goodbye!!!</p></doc>\"\n",
    "\n",
    "# turn this string into an ElementTree. Think of that as a very specialized version of a python list.\n",
    "xml_elements = ET.fromstring(xml_str)\n",
    "\n",
    "# ElementTrees have a .findall method that can take an xpath expression.\n",
    "# IMPORTANT: being your xpath with '.'\n",
    "# You can iterate over them with a for loop.\n",
    "for p in xml_elements.findall('p'):\n",
    "    print(p.text)"
   ]
  },
  {
   "cell_type": "code",
   "execution_count": null,
   "metadata": {
    "collapsed": false
   },
   "outputs": [],
   "source": [
    "# now let's access attributes\n",
    "# we don't need to import the xml library again\n",
    "\n",
    "# some simple xml, but now with attributes\n",
    "xml_str = '<doc><p n=\"1\" type=\"salutation\">Hello World!</p><p n=\"2\" type=\"farewell\">Goodbye!!!</p></doc>'\n",
    "\n",
    "# turn this string into an ElementTree. Think of that as a very specialized version of a python list.\n",
    "xml_elements = ET.fromstring(xml_str)\n",
    "\n",
    "# ElementTrees have a .findall method that can take an xpath expression.\n",
    "# IMPORTANT: being your xpath with '.'\n",
    "# You can iterate over them with a for loop.\n",
    "for p in xml_elements.findall('.//p'):\n",
    "    print(p.attrib['type']) # p.attrib on its own returns a dictionary."
   ]
  },
  {
   "cell_type": "markdown",
   "metadata": {},
   "source": [
    "## Quiz!\n",
    "Change the above code so that it prints out the n attribute of each p element."
   ]
  },
  {
   "cell_type": "code",
   "execution_count": null,
   "metadata": {
    "collapsed": true
   },
   "outputs": [],
   "source": [
    "# insert code here"
   ]
  },
  {
   "cell_type": "markdown",
   "metadata": {},
   "source": [
    "## An example with real TEI"
   ]
  },
  {
   "cell_type": "code",
   "execution_count": null,
   "metadata": {
    "collapsed": false
   },
   "outputs": [],
   "source": [
    "# I suggest running this first 'as is'. Then try using a URL for your own TEI.\n",
    "url_to_load = \"http://papyri.info/ddbdp/bgu;1;133/source\" \n",
    "\n",
    "f = urllib.request.urlopen(url_to_load)\n",
    "tei_as_string = f.read().decode('utf-8')\n",
    "\n",
    "xml_elements = ET.fromstring(tei_as_string)\n",
    "\n",
    "# IMPORTANT: In the findall(...) statements that follow,\n",
    "# you'll see '{http://www.tei-c.org/ns/1.0}'. Leave it.\n",
    "# But note that you can change the element name.\n",
    "\n",
    "# if you are using your own TEI, you might need to change the XPATH so that is meaningful for your data\n",
    "\n",
    "print(\"\\nList found elements:\")\n",
    "# element.tag returns the name of the current element\n",
    "elements = xml_elements.findall('.//{http://www.tei-c.org/ns/1.0}lb')\n",
    "for element in elements:\n",
    "    print(element.tag)\n",
    "\n",
    "print(\"\\nList the text of found elements:\")\n",
    "# element.text returns the text content of the current element. Here 'expan' elements are found.\n",
    "elements = xml_elements.findall('.//{http://www.tei-c.org/ns/1.0}expan')\n",
    "for element in elements:\n",
    "    print(element.text)\n",
    "\n",
    "print(\"List the value attributes of found elements\")\n",
    "# as you've seen element.attrib, return the attributes\n",
    "elements = xml_elements.findall('.//{http://www.tei-c.org/ns/1.0}num')\n",
    "for element in :\n",
    "    print(element.attrib['value'])"
   ]
  },
  {
   "cell_type": "markdown",
   "metadata": {
    "collapsed": false
   },
   "source": [
    "## A little bit of bad news\n",
    "The xml library is simpler than the lxml library. It does not support xpath queries of the form .//num/@value . You have to get all the nums and move through them looking for value attributes using .attrib ."
   ]
  },
  {
   "cell_type": "markdown",
   "metadata": {},
   "source": [
    "## Assignment!\n",
    "You can now fetch your TEI from github, find certain elements within it, and then write a for loop to access those elements individually. The last step is like the 'for color in colors:' loop in Chapter 1.\n",
    "\n",
    "Your assignment is to adapt the code above to do something interesting with your TEI-encoded xml file that is in the github repository. You could find shared words in paragraphs. List all rulers, dates, places, (organs?). How about making links to the wikipedia articles for rulers - or other proper nouns - mentioned in a text? How would you do that?\n",
    "\n",
    "And as I mentioned, you might have to make changes to your TEI so that python can easily work with the elements within your document. That is OK. Just make sure the file remains valid XML.\n"
   ]
  },
  {
   "cell_type": "code",
   "execution_count": null,
   "metadata": {
    "collapsed": true
   },
   "outputs": [],
   "source": [
    "# insert your text here."
   ]
  },
  {
   "cell_type": "markdown",
   "metadata": {},
   "source": [
    "## How to turn in your assignment\n",
    "\n",
    "First, exectute the cell with your code in it and make sure the output is what you want.\n",
    "\n",
    "Then choose 'Save and checkpoint' from the \"File\" menu of this notebook.\n",
    "\n",
    "Copy this file, which is 'tei-processing.ipynb' into your folder of the class repository. As usual, commit and sync changes to github. That's it. When loaded from github, the notebook will appear essentially the same as it does to you now."
   ]
  }
 ],
 "metadata": {
  "kernelspec": {
   "display_name": "Python 3",
   "language": "python",
   "name": "python3"
  },
  "language_info": {
   "codemirror_mode": {
    "name": "ipython",
    "version": 3
   },
   "file_extension": ".py",
   "mimetype": "text/x-python",
   "name": "python",
   "nbconvert_exporter": "python",
   "pygments_lexer": "ipython3",
   "version": "3.5.2"
  }
 },
 "nbformat": 4,
 "nbformat_minor": 1
}
