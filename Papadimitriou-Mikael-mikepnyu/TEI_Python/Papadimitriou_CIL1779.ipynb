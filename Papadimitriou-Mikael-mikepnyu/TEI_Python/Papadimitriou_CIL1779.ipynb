{
 "cells": [
  {
   "cell_type": "markdown",
   "metadata": {},
   "source": [
    "# Loading and Processing TEI-Encoded XML\n",
    "Because I wasn't able to get everyone working with the lxml library, I've simplified the process of loading xml and then processing it. Follow along below and let me know if you have any problems planning and implementing your assignment."
   ]
  },
  {
   "cell_type": "markdown",
   "metadata": {},
   "source": [
    "## Step 1: Read XML from github\n"
   ]
  },
  {
   "cell_type": "code",
   "execution_count": 55,
   "metadata": {
    "collapsed": false
   },
   "outputs": [
    {
     "name": "stdout",
     "output_type": "stream",
     "text": [
      "<?xml version=\"1.0\" encoding=\"UTF-8\"?>\n",
      "<?xml-model href=\"http://www.stoa.org/epidoc/schema/latest/tei-epidoc.rng\" schematypens=\"http://relaxng.org/ns/structure/1.0\"?>\n",
      "<?xml-model href=\"http://www.stoa.org/epidoc/schema/latest/tei-epidoc.rng\" schematypens=\"http://purl.oclc.org/dsdl/schematron\"?>\n",
      "<TEI xmlns=\"http://www.tei-c.org/ns/1.0\" xml:space=\"preserve\" xml:lang=\"en\">\n",
      "    <teiHeader>\n",
      "        <fileDesc>\n",
      "            <titleStmt>\n",
      "                <title>title of document</title>\n",
      "            </titleStmt>\n",
      "            <publicationStmt>\n",
      "                <authority></authority>\n",
      "                <idno type=\"filename\"></idno>\n",
      "            </publicationStmt>\n",
      "            <sourceDesc>\n",
      "                <msDesc>\n",
      "                    <msIdentifier>\n",
      "                        <repository>museum/archive</repository>\n",
      "                        <idno>inventory number</idno>\n",
      "                    </msIdentifier>\n",
      "                    <physDesc>\n",
      "                        <objectDesc>\n",
      "                            <supportDesc>\n",
      "                                <support>description of object/monument (likely to include <material/>\n",
      "                                    and <objectType/> information, <dimensions/>, etc.)</support>\n",
      "                            </supportDesc>\n",
      "                            <layoutDesc>\n",
      "                                <layout>description of text field/campus</layout>\n",
      "                            </layoutDesc>\n",
      "                        </objectDesc>\n",
      "                        <handDesc>\n",
      "                            <handNote>description of letters, possibly including <height>letter-heights</height>\n",
      "                            </handNote>\n",
      "                        </handDesc>\n",
      "                    </physDesc>\n",
      "                    <history>\n",
      "                        <origin>\n",
      "                            <origPlace>Place of origin</origPlace>\n",
      "                            <origDate>Date of origin</origDate>\n",
      "                        </origin>\n",
      "                        <provenance type=\"found\"> Findspot and circumstances/context\n",
      "                        </provenance>\n",
      "                        <provenance type=\"observed\">Modern location(s) (if different from repository, above)\n",
      "                        </provenance>\n",
      "                    </history>\n",
      "                </msDesc>\n",
      "            </sourceDesc>\n",
      "        </fileDesc>\n",
      "    </teiHeader>\n",
      "    <facsimile>\n",
      "        <graphic url=\"photograph of text or monument\"/>\n",
      "    </facsimile>\n",
      "    <text>\n",
      "        <body>\n",
      "            <div type=\"edition\" xml:space=\"preserve\">\n",
      "                <ab>\n",
      "                    <lb n=\"1\"/><expan><abbr>D</abbr><ex>is</ex></expan> <expan><abbr>M</abbr><ex>anibus</ex></expan>\n",
      "                    <lb n=\"2\"/><persName type=\"human\" key=\"Praetextatus\"><name type=\"praenomen\">Vettius</name> <name type=\"gentilicium\">Agorius</name> <name type=\"cognomen\">Praetextatus</name> \n",
      "                    <lb n=\"3\"/><rs type=\"religious\" key=\"augur\">augur</rs> <rs type=\"religious\" key=\"pontifexvestae\">p<supplied reason=\"lost\">o</supplied>ntifex <persName type=\"divine\">Vestae</persName></rs>\n",
      "                    <lb n=\"4\"/><rs type=\"religious\" key=\"pontifexsolis\">pontifex Sol<supplied reason=\"lost\">is</supplied></rs><g type=\"leaf\"/><rs type=\"religious\" key=\"quindecemvir\">quindecemvir</rs>\n",
      "                    <lb n=\"5\"/>curialis Herc<supplied reason=\"lost\">u</supplied>lis <g type=\"leaf\"/>sacratus\n",
      "                    <lb n=\"6\"/><persName type=\"divine\">Libero</persName> et Eleusi<supplied reason=\"lost\">n</supplied>is <g type=\"leaf\"/><rs type=\"religious\" key=\"hierophanta\">hierophanta</rs>\n",
      "                    <lb n=\"7\"/><rs type=\"religious\" key=\"neocorus\">neocorus</rs> <rs type=\"religious\" key=\"tauroboliatus\">tauroboliatus</rs>\n",
      "                    <lb n=\"8\"/><rs type=\"religious\" key=\"paterpatrum\">pater patrum</rs> <g type=\"leaf\"/>in <supplied reason=\"lost\">r</supplied>e publica ver<supplied reason=\"lost\">o</supplied>\n",
      "                    <lb n=\"9\"/><rs type=\"official\" key=\"quaestor\">quaestor candidatus</rs>\n",
      "                    <lb n=\"10\"/><rs type=\"official\" key=\"urbanpraetor\">pr<supplied reason=\"omitted\">a</supplied>etor urbanus</rs>\n",
      "                    <lb n=\"11\"/><rs type=\"official\" key=\"governor\">corrector <placeName>Tusciae</placeName> et <placeName>Umbriae</placeName></rs>\n",
      "                    <lb n=\"12\"/><rs type=\"official\" key=\"governor\">consularis <placeName>Lusitaniae</placeName></rs>\n",
      "                    <lb n=\"13\"/><rs type=\"official\" key=\"proconsul\">proconsule <placeName>Achaiae</placeName></rs>\n",
      "                    <lb n=\"14\"/><rs type=\"official\" key=\"urbanprefect\">praefectus urbi</rs>\n",
      "                    <lb n=\"15\"/><rs type=\"official\" key=\"legate\">legatus a senatu missus V</rs>\n",
      "                    <lb n=\"16\"/><rs type=\"official\" key=\"praetorianprefect\">praefectus praetorio II <placeName>Italiae</placeName>\n",
      "                    <lb n=\"17\"/>et <placeName>Illyrici</placeName></rs>\n",
      "                    <lb n=\"18\"/><rs type=\"official\" key=\"consul\">consul ordinarius\n",
      "                    <lb n=\"19\"/>designatus</rs></persName>\n",
      "                    <lb n=\"20\"/>et <persName type=\"human\" key=\"Paulina\"><name type=\"praenomen\">Aconia</name> <name type=\"gentilicium\">Fabia</name> <name type=\"cognomen\">Paulina</name> <expan><abbr>C</abbr><ex>larissima</ex></expan> <expan><abbr>F</abbr><ex>emina</ex></expan>\n",
      "                    <lb n=\"21\"/>sacrata <persName type=\"divine\">Cereri</persName> et Eleusiniis\n",
      "                    <lb n=\"22\"/>sacrata apud <supplied reason=\"omitted\">A</supplied>eginam <persName type=\"divine\">Hecatae</persName>\n",
      "                    <lb n=\"23\"/><rs type=\"religious\" key=\"tauroboliatus\">tauroboliata</rs> <rs type=\"religious\" key=\"hierophantria\">hierophantria</rs></persName>\n",
      "                    <lb n=\"24\"/>hi coniuncti simul vixerunt <expan><abbr>ann</abbr><ex>os</ex></expan> XL\n",
      "                </ab>\n",
      "            </div>\n",
      "            <div type=\"apparatus\">\n",
      "                <p>external apparatus criticus (if applicable)</p>\n",
      "            </div>\n",
      "            <div type=\"translation\">\n",
      "                <p>translation(s)</p>\n",
      "            </div>\n",
      "            <div type=\"commentary\">\n",
      "                <p>commentary</p>\n",
      "            </div>\n",
      "            <div type=\"bibliography\">\n",
      "                <p>bibliography of previous editions, discussion, etc.</p>\n",
      "            </div>\n",
      "        </body>\n",
      "    </text>\n",
      "</TEI>\n",
      "\n"
     ]
    }
   ],
   "source": [
    "import urllib.request\n",
    "\n",
    "url_to_load = \"https://isaw-ga-3024.github.io/Papadimitriou-Mikael-mikepnyu/XML/CIL1779.xml\"\n",
    "\n",
    "f = urllib.request.urlopen(url_to_load)\n",
    "tei_as_string = f.read().decode('utf-8')\n",
    "\n",
    "print(tei_as_string)"
   ]
  },
  {
   "cell_type": "markdown",
   "metadata": {},
   "source": [
    "## Step 2: We can already do things\n",
    "The find() method of strings will return the index of a substring. Try it:"
   ]
  },
  {
   "cell_type": "code",
   "execution_count": 11,
   "metadata": {
    "collapsed": false
   },
   "outputs": [
    {
     "name": "stdout",
     "output_type": "stream",
     "text": [
      "The first lb element begins at index 2533\n",
      "The first lb element ends at index 2544\n"
     ]
    }
   ],
   "source": [
    "url_to_load = \"https://isaw-ga-3024.github.io/Papadimitriou-Mikael-mikepnyu/XML/CIL1779.xml\"\n",
    "\n",
    "f = urllib.request.urlopen(url_to_load)\n",
    "tei_as_string = f.read().decode('utf-8')\n",
    "\n",
    "start_index = tei_as_string.find('<lb') # find the index of the first lb element\n",
    "\n",
    "# why is the '[start_index:]' range important here?\n",
    "tmp_end_index = tei_as_string[start_index:].find('>')\n",
    "\n",
    "end_index = start_index + tmp_end_index + 1\n",
    "\n",
    "print(\"The first lb element begins at index \" + str(start_index))\n",
    "print(\"The first lb element ends at index \" + str(end_index))"
   ]
  },
  {
   "cell_type": "markdown",
   "metadata": {},
   "source": [
    "## Quiz!\n",
    "Print the first lb element by using the start_index and end_index."
   ]
  },
  {
   "cell_type": "code",
   "execution_count": 12,
   "metadata": {
    "collapsed": false
   },
   "outputs": [
    {
     "name": "stdout",
     "output_type": "stream",
     "text": [
      "<lb n=\"1\"/>\n"
     ]
    }
   ],
   "source": [
    "print(tei_as_string[start_index:end_index])"
   ]
  },
  {
   "cell_type": "markdown",
   "metadata": {},
   "source": [
    "## More complex elements\n",
    "lb elements are zero-lengh, which means they can take the form '&lt;lb n=\"#\" />' . Note the '/>' at the end of the element. This is equivalent to '&lt;lb n=\"#\">&lt;/lb>' but is easier to write.\n",
    "\n",
    "Next we want to capture elements of the form '&lt;persName type=\"a type\">Tom&lt;/persName>'. You know all the python code to do this. We just put things together a little differently.\n",
    "\n",
    "## Quiz\n",
    "The cell below is almost ready to load the sample URL from the first cell, then to find and print out the first 'expan' element. Assign a value to end_tag to make the cell work.\n"
   ]
  },
  {
   "cell_type": "code",
   "execution_count": 13,
   "metadata": {
    "collapsed": false
   },
   "outputs": [
    {
     "name": "stdout",
     "output_type": "stream",
     "text": [
      "<expan><abbr>D</abbr><ex>is</ex></expan> \n"
     ]
    }
   ],
   "source": [
    "url_to_load = \"https://isaw-ga-3024.github.io/Papadimitriou-Mikael-mikepnyu/XML/CIL1779.xml\"\n",
    "\n",
    "f = urllib.request.urlopen(url_to_load)\n",
    "tei_as_string = f.read().decode('utf-8')\n",
    "\n",
    "# start_tag\n",
    "start_tag = '<expan>' # why leave off the '>'?\n",
    "end_tag =  \"</expan>\"\n",
    "\n",
    "start_index = tei_as_string.find(start_tag)\n",
    "\n",
    "tmp_end_index = tei_as_string[start_index:].find(end_tag)\n",
    "\n",
    "end_index = start_index + tmp_end_index + len(end_tag) + 1 # why '+ len(end_tag)'?\n",
    "\n",
    "print(tei_as_string[start_index:end_index])"
   ]
  },
  {
   "cell_type": "markdown",
   "metadata": {},
   "source": [
    "## Quiz!\n",
    "Cut-and-paste the working code from the above cell and adapt it so that it finds the first supplied element. Be careful, supplied elements can have the form '&lt;supplied reason=\"...\"> ... &lt;/supplied>' This means you can just search for '&lt;supplied>'."
   ]
  },
  {
   "cell_type": "code",
   "execution_count": 17,
   "metadata": {
    "collapsed": false
   },
   "outputs": [
    {
     "name": "stdout",
     "output_type": "stream",
     "text": [
      "<supplied reason=\"lost\">o</supplied>\n"
     ]
    }
   ],
   "source": [
    "url_to_load = \"https://isaw-ga-3024.github.io/Papadimitriou-Mikael-mikepnyu/XML/CIL1779.xml\"\n",
    "\n",
    "f = urllib.request.urlopen(url_to_load)\n",
    "tei_as_string = f.read().decode('utf-8')\n",
    "\n",
    "# start_tag\n",
    "start_tag = '<supplied'\n",
    "end_tag =  \"</supplied>\"\n",
    "\n",
    "start_index = tei_as_string.find(start_tag)\n",
    "\n",
    "tmp_end_index = tei_as_string[start_index:].find(end_tag)\n",
    "\n",
    "end_index = start_index + tmp_end_index + len(end_tag)\n",
    "\n",
    "print(tei_as_string[start_index:end_index])"
   ]
  },
  {
   "cell_type": "markdown",
   "metadata": {},
   "source": [
    "## A Better Way\n",
    "Building your own indexes into a string to find start and end tags could get very complicated very quickly. Let's use a libray. In class we used the 'lxml' library. I recommend sticking with that if you're going to process xml in python as part of your final project. Now we'll use the 'xml' library, which should work on everyone's machine. In the following cells, look at the comments to follow along."
   ]
  },
  {
   "cell_type": "code",
   "execution_count": 18,
   "metadata": {
    "collapsed": false
   },
   "outputs": [
    {
     "name": "stdout",
     "output_type": "stream",
     "text": [
      "Hello World!\n",
      "Goodbye!!!\n"
     ]
    }
   ],
   "source": [
    "# import what we need from the xml library\n",
    "import xml.etree.ElementTree as ET\n",
    "\n",
    "# some simple xml as a test\n",
    "xml_str = \"<doc><p>Hello World!</p><p>Goodbye!!!</p></doc>\"\n",
    "\n",
    "# turn this string into an ElementTree. Think of that as a very specialized version of a python list.\n",
    "xml_elements = ET.fromstring(xml_str)\n",
    "\n",
    "# ElementTrees have a .findall method that can take an xpath expression.\n",
    "# IMPORTANT: being your xpath with '.'\n",
    "# You can iterate over them with a for loop.\n",
    "for p in xml_elements.findall('p'):\n",
    "    print(p.text)"
   ]
  },
  {
   "cell_type": "code",
   "execution_count": 19,
   "metadata": {
    "collapsed": false
   },
   "outputs": [
    {
     "name": "stdout",
     "output_type": "stream",
     "text": [
      "salutation\n",
      "farewell\n"
     ]
    }
   ],
   "source": [
    "# now let's access attributes\n",
    "# we don't need to import the xml library again\n",
    "\n",
    "# some simple xml, but now with attributes\n",
    "xml_str = '<doc><p n=\"1\" type=\"salutation\">Hello World!</p><p n=\"2\" type=\"farewell\">Goodbye!!!</p></doc>'\n",
    "\n",
    "# turn this string into an ElementTree. Think of that as a very specialized version of a python list.\n",
    "xml_elements = ET.fromstring(xml_str)\n",
    "\n",
    "# ElementTrees have a .findall method that can take an xpath expression.\n",
    "# IMPORTANT: being your xpath with '.'\n",
    "# You can iterate over them with a for loop.\n",
    "for p in xml_elements.findall('.//p'):\n",
    "    print(p.attrib['type']) # p.attrib on its own returns a dictionary."
   ]
  },
  {
   "cell_type": "markdown",
   "metadata": {},
   "source": [
    "## Quiz!\n",
    "Change the above code so that it prints out the n attribute of each p element."
   ]
  },
  {
   "cell_type": "code",
   "execution_count": 20,
   "metadata": {
    "collapsed": false
   },
   "outputs": [
    {
     "name": "stdout",
     "output_type": "stream",
     "text": [
      "1\n",
      "2\n"
     ]
    }
   ],
   "source": [
    "xml_str = '<doc><p n=\"1\" type=\"salutation\">Hello World!</p><p n=\"2\" type=\"farewell\">Goodbye!!!</p></doc>'\n",
    "\n",
    "# turn this string into an ElementTree. Think of that as a very specialized version of a python list.\n",
    "xml_elements = ET.fromstring(xml_str)\n",
    "\n",
    "# ElementTrees have a .findall method that can take an xpath expression.\n",
    "# IMPORTANT: being your xpath with '.'\n",
    "# You can iterate over them with a for loop.\n",
    "for p in xml_elements.findall('.//p'):\n",
    "    print(p.attrib['n']) # p.attrib on its own returns a dictionary."
   ]
  },
  {
   "cell_type": "markdown",
   "metadata": {},
   "source": [
    "## An example with real TEI"
   ]
  },
  {
   "cell_type": "code",
   "execution_count": 33,
   "metadata": {
    "collapsed": false
   },
   "outputs": [
    {
     "name": "stdout",
     "output_type": "stream",
     "text": [
      "\n",
      "List found elements:\n",
      "{'n': '1'}\n",
      "{'n': '2'}\n",
      "{'n': '3'}\n",
      "{'n': '4'}\n",
      "{'n': '5'}\n",
      "{'n': '6'}\n",
      "{'n': '7'}\n",
      "{'n': '8'}\n",
      "{'n': '9'}\n",
      "{'n': '10'}\n",
      "{'n': '11'}\n",
      "{'n': '12'}\n",
      "{'n': '13'}\n",
      "{'n': '14'}\n",
      "{'n': '15'}\n",
      "{'n': '16'}\n",
      "{'n': '17'}\n",
      "{'n': '18'}\n",
      "{'n': '19'}\n",
      "{'n': '20'}\n",
      "{'n': '21'}\n",
      "{'n': '22'}\n",
      "{'n': '23'}\n",
      "{'n': '24'}\n",
      "\n",
      "List the text of found elements:\n",
      "o\n",
      "is\n",
      "u\n",
      "n\n",
      "r\n",
      "o\n",
      "a\n",
      "A\n",
      "List the value attributes of found elements\n",
      "religious\n",
      "religious\n",
      "religious\n",
      "religious\n",
      "religious\n",
      "religious\n",
      "religious\n",
      "religious\n",
      "official\n",
      "official\n",
      "official\n",
      "official\n",
      "official\n",
      "official\n",
      "official\n",
      "official\n",
      "official\n",
      "religious\n",
      "religious\n"
     ]
    }
   ],
   "source": [
    "# I suggest running this first 'as is'. Then try using a URL for your own TEI.\n",
    "url_to_load = \"https://isaw-ga-3024.github.io/Papadimitriou-Mikael-mikepnyu/XML/CIL1779.xml\" \n",
    "\n",
    "f = urllib.request.urlopen(url_to_load)\n",
    "tei_as_string = f.read().decode('utf-8')\n",
    "\n",
    "xml_elements = ET.fromstring(tei_as_string)\n",
    "\n",
    "# IMPORTANT: In the findall(...) statements that follow,\n",
    "# you'll see '{http://www.tei-c.org/ns/1.0}'. Leave it.\n",
    "# But note that you can change the element name.\n",
    "\n",
    "# if you are using your own TEI, you might need to change the XPATH so that is meaningful for your data\n",
    "\n",
    "print(\"\\nList found elements:\")\n",
    "# element.tag returns the name of the current element\n",
    "elements = xml_elements.findall('.//{http://www.tei-c.org/ns/1.0}lb')\n",
    "for element in elements:\n",
    "    print(element.attrib)\n",
    "\n",
    "print(\"\\nList the text of found elements:\")\n",
    "# element.text returns the text content of the current element. Here 'expan' elements are found.\n",
    "elements = xml_elements.findall('.//{http://www.tei-c.org/ns/1.0}supplied')\n",
    "for element in elements:\n",
    "    print(element.text)\n",
    "\n",
    "print(\"List the value attributes of found elements\")\n",
    "# as you've seen element.attrib, return the attributes\n",
    "elements = xml_elements.findall('.//{http://www.tei-c.org/ns/1.0}rs')\n",
    "for element in elements:\n",
    "    print(element.attrib['type'])"
   ]
  },
  {
   "cell_type": "markdown",
   "metadata": {
    "collapsed": false
   },
   "source": [
    "## A little bit of bad news\n",
    "The xml library is simpler than the lxml library. It does not support xpath queries of the form .//num/@value . You have to get all the nums and move through them looking for value attributes using .attrib ."
   ]
  },
  {
   "cell_type": "markdown",
   "metadata": {},
   "source": [
    "## Assignment!\n",
    "You can now fetch your TEI from github, find certain elements within it, and then write a for loop to access those elements individually. The last step is like the 'for color in colors:' loop in Chapter 1.\n",
    "\n",
    "Your assignment is to adapt the code above to do something interesting with your TEI-encoded xml file that is in the github repository. You could find shared words in paragraphs. List all rulers, dates, places, (organs?). How about making links to the wikipedia articles for rulers - or other proper nouns - mentioned in a text? How would you do that?\n",
    "\n",
    "And as I mentioned, you might have to make changes to your TEI so that python can easily work with the elements within your document. That is OK. Just make sure the file remains valid XML.\n"
   ]
  },
  {
   "cell_type": "code",
   "execution_count": 89,
   "metadata": {
    "collapsed": false
   },
   "outputs": [
    {
     "name": "stdout",
     "output_type": "stream",
     "text": [
      "\n",
      "People honoured by this inscription:\n",
      "Vettius Agorius Praetextatus\n",
      "Fabia Aconia Paulina\n",
      "\n",
      "List of official positions held by Praetextatus:\n",
      "quaestor candidatus\n",
      "pr\n",
      "corrector \n",
      "consularis \n",
      "proconsule \n",
      "praefectus urbi\n",
      "legatus a senatu missus V\n",
      "praefectus praetorio II \n",
      "consul ordinarius\n",
      "                    \n",
      "\n",
      "List of religious positions and honours held by the couple:\n",
      "augur\n",
      "p\n",
      "pontifex Sol\n",
      "quindecemvir\n",
      "hierophanta\n",
      "neocorus\n",
      "tauroboliatus\n",
      "pater patrum\n",
      "tauroboliata\n",
      "hierophantria\n",
      "\n",
      "List of places mentioned:\n",
      "Tusciae\n",
      "Umbriae\n",
      "Lusitaniae\n",
      "Achaiae\n",
      "Italiae\n",
      "Illyrici\n",
      "\n",
      "List of divinities mentioned:\n",
      "Vestae\n",
      "Libero\n",
      "Cereri\n",
      "Hecatae\n",
      "\n",
      "Number of hederae distinguentes on the inscription:\n",
      "4\n"
     ]
    }
   ],
   "source": [
    "url_to_load = \"https://isaw-ga-3024.github.io/Papadimitriou-Mikael-mikepnyu/XML/CIL1779.xml\" \n",
    "\n",
    "f = urllib.request.urlopen(url_to_load)\n",
    "tei_as_string = f.read().decode('utf-8')\n",
    "\n",
    "xml_elements = ET.fromstring(tei_as_string)\n",
    "\n",
    "print(\"\\nPeople honoured by this inscription:\")\n",
    "# element.tag returns the name of the current element\n",
    "elements = xml_elements.findall('.//{http://www.tei-c.org/ns/1.0}persName')\n",
    "for element in elements:\n",
    "    if element.attrib[\"type\"] == \"human\":\n",
    "        print(element.attrib[\"key\"])\n",
    "\n",
    "print(\"\\nList of official positions held by Praetextatus:\")\n",
    "# element.tag returns the name of the current element\n",
    "elements = xml_elements.findall('.//{http://www.tei-c.org/ns/1.0}rs')\n",
    "for element in elements:\n",
    "    if element.attrib['type'] == \"official\":\n",
    "        print(element.text)\n",
    "\n",
    "print(\"\\nList of religious positions and honours held by the couple:\")\n",
    "# element.tag returns the name of the current element\n",
    "elements = xml_elements.findall('.//{http://www.tei-c.org/ns/1.0}rs')\n",
    "for element in elements:\n",
    "    if element.attrib['type'] == \"religious\":\n",
    "        print(element.text)\n",
    "\n",
    "print(\"\\nList of places mentioned:\")\n",
    "# element.text returns the text content of the current element. Here 'expan' elements are found.\n",
    "elements = xml_elements.findall('.//{http://www.tei-c.org/ns/1.0}placeName')\n",
    "for element in elements:\n",
    "    print(element.text)\n",
    "\n",
    "print(\"\\nList of divinities mentioned:\")\n",
    "# as you've seen element.attrib, return the attributes\n",
    "elements = xml_elements.findall('.//{http://www.tei-c.org/ns/1.0}persName')\n",
    "for element in elements:\n",
    "    if element.attrib[\"type\"] == \"divine\":\n",
    "        print(element.text)\n",
    "        \n",
    "print(\"\\nNumber of hederae distinguentes on the inscription:\")\n",
    "# as you've seen element.attrib, return the attributes\n",
    "number_of_leaves = []\n",
    "elements = xml_elements.findall('.//{http://www.tei-c.org/ns/1.0}g')\n",
    "for element in elements:\n",
    "    if element.attrib[\"type\"] == \"leaf\":\n",
    "        number_of_leaves.append(element)\n",
    "print(len(number_of_leaves))\n",
    "        "
   ]
  },
  {
   "cell_type": "markdown",
   "metadata": {},
   "source": [
    "## How to turn in your assignment\n",
    "\n",
    "First, exectute the cell with your code in it and make sure the output is what you want.\n",
    "\n",
    "Then choose 'Save and checkpoint' from the \"File\" menu of this notebook.\n",
    "\n",
    "Copy this file, which is 'tei-processing.ipynb' into your folder of the class repository. As usual, commit and sync changes to github. That's it. When loaded from github, the notebook will appear essentially the same as it does to you now."
   ]
  }
 ],
 "metadata": {
  "anaconda-cloud": {},
  "kernelspec": {
   "display_name": "Python [Root]",
   "language": "python",
   "name": "Python [Root]"
  },
  "language_info": {
   "codemirror_mode": {
    "name": "ipython",
    "version": 3
   },
   "file_extension": ".py",
   "mimetype": "text/x-python",
   "name": "python",
   "nbconvert_exporter": "python",
   "pygments_lexer": "ipython3",
   "version": "3.5.2"
  }
 },
 "nbformat": 4,
 "nbformat_minor": 1
}
