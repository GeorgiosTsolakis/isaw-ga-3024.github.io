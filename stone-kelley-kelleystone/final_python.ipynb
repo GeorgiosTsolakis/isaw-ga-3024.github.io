{
 "cells": [
  {
   "cell_type": "code",
   "execution_count": 1,
   "metadata": {
    "button": false,
    "collapsed": false,
    "deletable": true,
    "new_sheet": false,
    "run_control": {
     "read_only": false
    },
    "scrolled": true
   },
   "outputs": [
    {
     "name": "stdout",
     "output_type": "stream",
     "text": [
      "         Site Country  Pleidias ID    Pleidias Name Cultural Influence  \\\n",
      "0   Cerveteri   Italy       422859            Caere         Villanovan   \n",
      "1   Herapolis  Turkey       638860       Hierapolis           Seleucid   \n",
      "2     Gordion  Turkey       609393  Gordion/Vindia?           Phyrgian   \n",
      "3      Sardis  Turkey       550867     Sardis/Hyde?             Lydian   \n",
      "4        Rome   Italy       423025             Roma              Roman   \n",
      "5  Amphipolis  Greece       501347       Amphipolis           Seleucid   \n",
      "6     Vergina  Greece       491512           Aigeai         Macedonian   \n",
      "7   Commagene  Turkey          NaN              NaN           Seleucid   \n",
      "\n",
      "  Cultural Influence 2    Earliest Date      Latest Date  \\\n",
      "0             Etruscan  7th century BCE  1st century BCE   \n",
      "1                Roman  2nd century BCE   4th century CE   \n",
      "2                  NaN  9th century BCE   1st century CE   \n",
      "3                Roman  7th century BCE   3rd century CE   \n",
      "4                  NaN  8th century BCE   4th century CE   \n",
      "5                Roman  5th century BCE   6th century CE   \n",
      "6                Roman  8th century BCE   1st century CE   \n",
      "7               Roman   2nd century BCE   1st century CE   \n",
      "\n",
      "        Necropolis Region  Number of Tumuli               Main Tumuli  \\\n",
      "0             Banditaccia               500         Tomba dei Rilievi   \n",
      "1     Northern Necropolis                 4                       NaN   \n",
      "2                     NaN                80                Tumulus MM   \n",
      "3                Bin Tepe               115       Tumulus of Alyattes   \n",
      "4          Campus Martius                 1     Mausoleum of Augustus   \n",
      "5                     NaN                 1    The Tomb of Amphipolis   \n",
      "6  Cemetery of the Tumuli               300             Great Tumulus   \n",
      "7            Mount Nemrut                 1  Mausoleum of Antoichus I   \n",
      "\n",
      "       Tumuli Date UNESCO Site  \n",
      "0  6th century BCE         Yes  \n",
      "1  2nd century BCE         Yes  \n",
      "2  8th century BCE         Yes  \n",
      "3  7th century BCE         Yes  \n",
      "4   1st century CE         Yes  \n",
      "5  4th century BCE         NaN  \n",
      "6  3rd century BCE         Yes  \n",
      "7  1st century BCE         Yes  \n",
      "    Tomb Name Country Cultural Influence     Tumulus Date  Burial Type  \\\n",
      "0  Tumulus MM  Turkey           Phyrgian  8th century BCE          NaN   \n",
      "1  Tumulus MM  Turkey           Phyrgian  8th century BCE          NaN   \n",
      "2  Tumulus MM  Turkey           Phyrgian  8th century BCE          NaN   \n",
      "3  Tumulus MM  Turkey           Phyrgian  8th century BCE          NaN   \n",
      "4  Tumulus MM  Turkey           Phyrgian  8th century BCE          NaN   \n",
      "5  Tumulus MM  Turkey           Phyrgian  8th century BCE          NaN   \n",
      "\n",
      "   Number of Burials  Diameter of Tumulus Height of Tumulus  \\\n",
      "0                NaN                  NaN              53 m   \n",
      "1                NaN                  NaN               NaN   \n",
      "2                NaN                  NaN               NaN   \n",
      "3                NaN                  NaN               NaN   \n",
      "4                NaN                  NaN               NaN   \n",
      "5                NaN                  NaN               NaN   \n",
      "\n",
      "   Building Materials Gender of Deceased  Age of Deceased Grave Goods  \\\n",
      "0                 NaN               Male              NaN      Vessel   \n",
      "1                 NaN                NaN              NaN        Belt   \n",
      "2                 NaN                NaN              NaN   Furniture   \n",
      "3                 NaN                NaN              NaN     Fibulae   \n",
      "4                 NaN                NaN              NaN      Vessel   \n",
      "5                 NaN                NaN              NaN     Textile   \n",
      "\n",
      "      GG Material  GG Amount  \n",
      "0          Bronze        170  \n",
      "1  Leather/Bronze         10  \n",
      "2            Wood         15  \n",
      "3          Bronze        180  \n",
      "4         Pottery        NaN  \n",
      "5         Textile        NaN  \n"
     ]
    }
   ],
   "source": [
    "import pandas as pd\n",
    "import sqlite3\n",
    "\n",
    "sites = pd.read_csv(\"https://raw.githubusercontent.com/isaw-ga-3024/isaw-ga-3024.github.io/master/stone-kelley-kelleystone/focal_csv.csv\")\n",
    "gordiontum = pd.read_csv(\"https://raw.githubusercontent.com/isaw-ga-3024/isaw-ga-3024.github.io/master/stone-kelley-kelleystone/Gordion.csv\")\n",
    "\n",
    "print(sites)\n",
    "print(gordiontum)"
   ]
  },
  {
   "cell_type": "code",
   "execution_count": null,
   "metadata": {
    "button": false,
    "collapsed": true,
    "deletable": true,
    "new_sheet": false,
    "run_control": {
     "read_only": false
    }
   },
   "outputs": [],
   "source": []
  }
 ],
 "metadata": {
  "kernelspec": {
   "display_name": "Python 3",
   "language": "python",
   "name": "python3"
  },
  "language_info": {
   "codemirror_mode": {
    "name": "ipython",
    "version": 3
   },
   "file_extension": ".py",
   "mimetype": "text/x-python",
   "name": "python",
   "nbconvert_exporter": "python",
   "pygments_lexer": "ipython3",
   "version": "3.5.0"
  }
 },
 "nbformat": 4,
 "nbformat_minor": 0
}
