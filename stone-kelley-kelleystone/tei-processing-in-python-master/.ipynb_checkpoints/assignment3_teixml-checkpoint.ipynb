{
 "cells": [
  {
   "cell_type": "markdown",
   "metadata": {
    "button": false,
    "deletable": true,
    "new_sheet": false,
    "run_control": {
     "read_only": false
    }
   },
   "source": [
    "# Loading and Processing TEI-Encoded XML\n",
    "Because I wasn't able to get everyone working with the lxml library, I've simplified the process of loading xml and then processing it. Follow along below and let me know if you have any problems planning and implementing your assignment."
   ]
  },
  {
   "cell_type": "markdown",
   "metadata": {
    "button": false,
    "deletable": true,
    "new_sheet": false,
    "run_control": {
     "read_only": false
    }
   },
   "source": [
    "## Step 1: Read XML from github\n"
   ]
  },
  {
   "cell_type": "code",
   "execution_count": 1,
   "metadata": {
    "button": false,
    "collapsed": false,
    "deletable": true,
    "new_sheet": false,
    "run_control": {
     "read_only": false
    }
   },
   "outputs": [
    {
     "name": "stdout",
     "output_type": "stream",
     "text": [
      "<?xml version=\"1.0\" encoding=\"UTF-8\"?>\n",
      "<?xml-model href=\"http://www.stoa.org/epidoc/schema/latest/tei-epidoc.rng\" schematypens=\"http://relaxng.org/ns/structure/1.0\"?>\n",
      "<?xml-model href=\"http://www.stoa.org/epidoc/schema/latest/tei-epidoc.rng\" schematypens=\"http://purl.oclc.org/dsdl/schematron\"?>\n",
      "<TEI xmlns=\"http://www.tei-c.org/ns/1.0\" xml:space=\"preserve\" xml:lang=\"en\">\n",
      "    <teiHeader>\n",
      "        <fileDesc>\n",
      "            <titleStmt>\n",
      "                <title>The Bacchae</title>\n",
      "            </titleStmt>\n",
      "            <publicationStmt>\n",
      "                <authority>Euripides</authority>\n",
      "                <idno type=\"filename\"></idno>\n",
      "            </publicationStmt>\n",
      "            <sourceDesc>\n",
      "                <msDesc>\n",
      "                    <msIdentifier>\n",
      "                        <repository>museum/archive</repository>\n",
      "                        <idno>inventory number</idno>\n",
      "                    </msIdentifier>\n",
      "                    <physDesc>\n",
      "                        <objectDesc>\n",
      "                            <supportDesc>\n",
      "                                <support>description of object/monument (likely to include <material/>\n",
      "                                    and <objectType/> information, <dimensions/>, etc.)</support>\n",
      "                            </supportDesc>\n",
      "                            <layoutDesc>\n",
      "                                <layout>description of text field/campus</layout>\n",
      "                            </layoutDesc>\n",
      "                        </objectDesc>\n",
      "                        <handDesc>\n",
      "                            <handNote>description of letters, possibly including <height>letter-heights</height>\n",
      "                            </handNote>\n",
      "                        </handDesc>\n",
      "                    </physDesc>\n",
      "                    <history>\n",
      "                        <origin>\n",
      "                            <origPlace>Place of origin</origPlace>\n",
      "                            <origDate>Date of origin</origDate>\n",
      "                        </origin>\n",
      "                        <provenance type=\"found\"> Findspot and circumstances/context\n",
      "                        </provenance>\n",
      "                        <provenance type=\"observed\">Modern location(s) (if different from repository, above)\n",
      "                        </provenance>\n",
      "                    </history>\n",
      "                </msDesc>\n",
      "            </sourceDesc>\n",
      "        </fileDesc>\n",
      "    </teiHeader>\n",
      "    <facsimile>\n",
      "        <graphic url=\"https://upload.wikimedia.org/wikipedia/commons/thumb/7/73/Dionysos_thiasos_Louvre_MNE938.jpg/640px-Dionysos_thiasos_Louvre_MNE938.jpg\"/>\n",
      "    </facsimile>\n",
      "    <text>\n",
      "        <body>\n",
      "            <div type=\"edition\">\n",
      "                    <ab><title>The Bacchae</title>, by Euripides</ab>\n",
      "                    <p n=\"1\">Dionysus:</p>\n",
      "                    <p n=\"2\"><lb n=\"1\"/>Lo! I am come to this land of <placeName>Thebes</placeName>, <persName>Dionysus'</persName> the son of <lb n=\"2\"/><persName>Zeus</persName>, of whom on a day <persName>Semele</persName>, the daughter of <persName>Cadmus</persName>, was delivered <lb n=\"3\"/>by a flash of lightning. I have put off the god and taken human shape, <lb n=\"4\"/>and so present myself at <placeName>Dirce's</placeName> springs and the waters of <placeName>Ismenus</placeName>. <lb n=\"5\"/>Yonder I see my mother's monument where the bolt slew her nigh her <lb n=\"6\"/>house, and there are the ruins of her home smouldering with the heavenly <lb n=\"7\"/>flame that blazeth still- <persName>Hera's</persName> deathless outrage on my mother. To <lb n=\"8\"/><persName>Cadmus</persName> all praise I offer, because he keeps this spot hallowed, his <lb n=\"9\"/>daughter's precinct, which my own hands have shaded round about with the <lb n=\"10\"/>vine's clustering foliage. </p>\n",
      "                    <p n=\"3\"><lb n=\"1\"/><placeName>Lydia's</placeName> glebes, where gold abounds, and <placeName>Phrygia</placeName> have I left behind; <lb n=\"2\"/>o'er <placeName>Persia's</placeName> sun-baked plains, by <placeName>Bactria's</placeName> walled towns and <placeName>Media's</placeName> <lb n=\"3\"/>wintry clime have I advanced through <placeName>Arabia</placeName>, land of promise; and <lb n=\"4\"/><placeName>Asia's</placeName> length and breadth, outstretched along the brackish sea, with <lb n=\"5\"/>many a fair walled town, peopled with mingled race of Hellenes and <lb n=\"6\"/>barbarians; and this is the first city in <placeName>Hellas</placeName> I have reached. There <lb n=\"7\"/>too have I ordained dances and established my rites, that I might <lb n=\"8\"/>manifest my godhead to men; but <placeName>Thebes</placeName> is the first city in the land <lb n=\"9\"/>of <placeName>Hellas</placeName> that I have made ring with shouts of joy, girt in a fawn-skin, <lb n=\"10\"/>with a thyrsus, my ivy-bound spear, in my hand; since my mother's <lb n=\"11\"/>sisters, who least of all should have done it, denied that <persName>Dionysus</persName> <lb n=\"12\"/>was the son of <persName>Zeus</persName>, saying that <persName>Semele</persName>, when she became a mother <lb n=\"13\"/>by some mortal lover, tried to foist her sin on <persName>Zeus</persName>- a clever ruse <lb n=\"14\"/>of <persName>Cadmus</persName>, which, they boldly asserted, caused <persName>Zeus</persName> to slay her for <lb n=\"15\"/>the falsehood about the marriage. Wherefore these are they whom I <lb n=\"16\"/>have driven frenzied from their homes, and they are dwelling on the <lb n=\"17\"/>hills with mind distraught; and I have forced them to assume the dress <lb n=\"18\"/>worn in my orgies, and all the women-folk of <persName>Cadmus</persName>' stock have I <lb n=\"19\"/>driven raving from their homes, one and all alike; and there they <lb n=\"20\"/>sit upon the roofless rocks beneath the green pine-trees, mingling <lb n=\"21\"/>amongst the sons of <placeName>Thebes</placeName>. For this city must learn, however loth, <lb n=\"22\"/>seeing that it is not initiated in my Bacchic rites, and I must take <lb n=\"23\"/>up my mother's defence, by showing to mortals that the child she bore <lb n=\"24\"/>to <persName>Zeus</persName> is a deity. Now <persName>Cadmus</persName> gave his sceptre and its privileges <lb n=\"25\"/>to <persName>Pentheus</persName>, his daughter's child, who wages war 'gainst my divinity, <lb n=\"26\"/>thrusting me away from his drink-offerings, and making no mention <lb n=\"27\"/>of me in his prayers. Therefore will I prove to him and all the race <lb n=\"28\"/>of <persName>Cadmus</persName> that I am a god. And when I have set all in order here, <lb n=\"29\"/>I will pass hence to a fresh country, manifesting myself; but if the <lb n=\"30\"/>city of <placeName>Thebes</placeName> in fury takes up arms and seeks to drive my votaries <lb n=\"31\"/>from the mountain, I will meet them at the head of my frantic rout. <lb n=\"32\"/>This is why I have assumed a mortal form, and put off my godhead to <lb n=\"33\"/>take man's nature. </p>\n",
      "                    <p n=\"4\"><lb n=\"1\"/>O ye who left <placeName>Tmolus</placeName>, the bulwark of <placeName>Lydia</placeName>, ye women, my revel rout! <lb n=\"2\"/>whom I brought from your foreign homes to be ever by my side and bear <lb n=\"3\"/>me company, uplift the cymbals native to your Phrygian home, that <lb n=\"4\"/>were by me and the great mother <persName>Rhea</persName> first devised, and march around <lb n=\"5\"/>the royal halls of <placeName>Pentheus</placeName> smiting them, that the city of <placeName>Cadmus</placeName> <lb n=\"6\"/>may see you; while I will seek <placeName>Cithaeron's</placeName> glens, there with my Bacchanals <lb n=\"7\"/>to join the dance.</p>\n",
      "            </div>\n",
      "            <div type=\"apparatus\">\n",
      "                <p>external apparatus criticus (if applicable)</p>\n",
      "            </div>\n",
      "            <div type=\"translation\">\n",
      "                <p>translation(s)</p>\n",
      "            </div>\n",
      "            <div type=\"commentary\">\n",
      "                <p>commentary</p>\n",
      "            </div>\n",
      "            <div type=\"bibliography\">\n",
      "                <p>bibliography of previous editions, discussion, etc.</p>\n",
      "            </div>\n",
      "        </body>\n",
      "    </text>\n",
      "</TEI>\n",
      "\n"
     ]
    }
   ],
   "source": [
    "import urllib.request\n",
    "\n",
    "# assign your url to the variable url_to_load\n",
    "# you can try http://papyri.info/ddbdp/bgu;1;133/source .\n",
    "url_to_load = \"https://isaw-ga-3024.github.io/stone-kelley-kelleystone/assignment2.xml\" # url here\n",
    "\n",
    "f = urllib.request.urlopen(url_to_load)\n",
    "tei_as_string = f.read().decode('utf-8')\n",
    "\n",
    "print(tei_as_string)\n",
    "# if the above was successful you should see a TEI document below:"
   ]
  },
  {
   "cell_type": "markdown",
   "metadata": {
    "button": false,
    "deletable": true,
    "new_sheet": false,
    "run_control": {
     "read_only": false
    }
   },
   "source": [
    "## Step 2: We can already do things\n",
    "The find() method of strings will return the index of a substring. Try it:"
   ]
  },
  {
   "cell_type": "code",
   "execution_count": 2,
   "metadata": {
    "button": false,
    "collapsed": false,
    "deletable": true,
    "new_sheet": false,
    "run_control": {
     "read_only": false
    }
   },
   "outputs": [
    {
     "name": "stdout",
     "output_type": "stream",
     "text": [
      "The first lb element begins at index 2719\n",
      "The first lb element ends at index 2730\n"
     ]
    }
   ],
   "source": [
    "url_to_load = \"https://isaw-ga-3024.github.io/stone-kelley-kelleystone/assignment2.xml\" # url here\n",
    "\n",
    "f = urllib.request.urlopen(url_to_load)\n",
    "tei_as_string = f.read().decode('utf-8')\n",
    "\n",
    "start_index = tei_as_string.find('<lb') # find the index of the first lb element\n",
    "\n",
    "# why is the '[start_index:]' range important here?\n",
    "tmp_end_index = tei_as_string[start_index:].find('>')\n",
    "\n",
    "# what happens if we don't add 1 at the end? try it\n",
    "end_index = start_index + tmp_end_index + 1\n",
    "\n",
    "print(\"The first lb element begins at index \" + str(start_index))\n",
    "print(\"The first lb element ends at index \" + str(end_index))"
   ]
  },
  {
   "cell_type": "markdown",
   "metadata": {
    "button": false,
    "deletable": true,
    "new_sheet": false,
    "run_control": {
     "read_only": false
    }
   },
   "source": [
    "## Quiz!\n",
    "Print the first lb element by using the start_index and end_index."
   ]
  },
  {
   "cell_type": "code",
   "execution_count": 3,
   "metadata": {
    "button": false,
    "collapsed": false,
    "deletable": true,
    "new_sheet": false,
    "run_control": {
     "read_only": false
    }
   },
   "outputs": [
    {
     "name": "stdout",
     "output_type": "stream",
     "text": [
      "<lb n=\"1\"/>\n"
     ]
    }
   ],
   "source": [
    "print(tei_as_string[start_index:end_index])"
   ]
  },
  {
   "cell_type": "markdown",
   "metadata": {
    "button": false,
    "deletable": true,
    "new_sheet": false,
    "run_control": {
     "read_only": false
    }
   },
   "source": [
    "## More complex elements\n",
    "lb elements are zero-lengh, which means they can take the form '&lt;lb n=\"#\" />' . Note the '/>' at the end of the element. This is equivalent to '&lt;lb n=\"#\">&lt;/lb>' but is easier to write.\n",
    "\n",
    "Next we want to capture elements of the form '&lt;persName type=\"a type\">Tom&lt;/persName>'. You know all the python code to do this. We just put things together a little differently.\n",
    "\n",
    "## Quiz\n",
    "The cell below is almost ready to load the sample URL from the first cell, then to find and print out the first 'expan' element. Assign a value to end_tag to make the cell work.\n"
   ]
  },
  {
   "cell_type": "code",
   "execution_count": 5,
   "metadata": {
    "button": false,
    "collapsed": false,
    "deletable": true,
    "new_sheet": false,
    "run_control": {
     "read_only": false
    }
   },
   "outputs": [
    {
     "name": "stdout",
     "output_type": "stream",
     "text": [
      "<persName>Dionysus'</persName> \n"
     ]
    }
   ],
   "source": [
    "url_to_load = \"https://isaw-ga-3024.github.io/stone-kelley-kelleystone/assignment2.xml\"\n",
    "\n",
    "f = urllib.request.urlopen(url_to_load)\n",
    "tei_as_string = f.read().decode('utf-8')\n",
    "\n",
    "# start_tag\n",
    "start_tag = '<persName' # why leave off the '>'?\n",
    "end_tag =  '</persName>'# What value should end_tag have?\n",
    "\n",
    "start_index = tei_as_string.find(start_tag)\n",
    "\n",
    "tmp_end_index = tei_as_string[start_index:].find(end_tag)\n",
    "\n",
    "end_index = start_index + tmp_end_index + len(end_tag) + 1 # why '+ len(end_tag)'?\n",
    "\n",
    "print(tei_as_string[start_index:end_index])"
   ]
  },
  {
   "cell_type": "markdown",
   "metadata": {
    "button": false,
    "deletable": true,
    "new_sheet": false,
    "run_control": {
     "read_only": false
    }
   },
   "source": [
    "## Quiz!\n",
    "Cut-and-paste the working code from the above cell and adapt it so that it finds the first supplied element. Be careful, supplied elements can have the form '&lt;supplied reason=\"...\"> ... &lt;/supplied>' This means you can just search for '&lt;supplied>'."
   ]
  },
  {
   "cell_type": "code",
   "execution_count": 7,
   "metadata": {
    "button": false,
    "collapsed": false,
    "deletable": true,
    "new_sheet": false,
    "run_control": {
     "read_only": false
    }
   },
   "outputs": [
    {
     "name": "stdout",
     "output_type": "stream",
     "text": [
      "<placeName>Thebes</placeName>,\n"
     ]
    }
   ],
   "source": [
    "url_to_load = \"https://isaw-ga-3024.github.io/stone-kelley-kelleystone/assignment2.xml\"\n",
    "\n",
    "f = urllib.request.urlopen(url_to_load)\n",
    "tei_as_string = f.read().decode('utf-8')\n",
    "\n",
    "start_tag = '<placeName'\n",
    "end_tag =  '</placeName>'\n",
    "\n",
    "start_index = tei_as_string.find(start_tag)\n",
    "\n",
    "tmp_end_index = tei_as_string[start_index:].find(end_tag)\n",
    "\n",
    "end_index = start_index + tmp_end_index + len(end_tag) + 1\n",
    "\n",
    "print(tei_as_string[start_index:end_index])"
   ]
  },
  {
   "cell_type": "markdown",
   "metadata": {
    "button": false,
    "deletable": true,
    "new_sheet": false,
    "run_control": {
     "read_only": false
    }
   },
   "source": [
    "## A Better Way\n",
    "Building your own indexes into a string to find start and end tags could get very complicated very quickly. Let's use a libray. In class we used the 'lxml' library. I recommend sticking with that if you're going to process xml in python as part of your final project. Now we'll use the 'xml' library, which should work on everyone's machine. In the following cells, look at the comments to follow along."
   ]
  },
  {
   "cell_type": "code",
   "execution_count": 8,
   "metadata": {
    "button": false,
    "collapsed": false,
    "deletable": true,
    "new_sheet": false,
    "run_control": {
     "read_only": false
    }
   },
   "outputs": [
    {
     "name": "stdout",
     "output_type": "stream",
     "text": [
      "Hello World!\n",
      "Goodbye!!!\n"
     ]
    }
   ],
   "source": [
    "# import what we need from the xml library\n",
    "import xml.etree.ElementTree as ET\n",
    "\n",
    "# some simple xml as a test\n",
    "xml_str = \"<doc><p>Hello World!</p><p>Goodbye!!!</p></doc>\"\n",
    "\n",
    "# turn this string into an ElementTree. Think of that as a very specialized version of a python list.\n",
    "xml_elements = ET.fromstring(xml_str)\n",
    "\n",
    "# ElementTrees have a .findall method that can take an xpath expression.\n",
    "# IMPORTANT: being your xpath with '.'\n",
    "# You can iterate over them with a for loop.\n",
    "for p in xml_elements.findall('p'):\n",
    "    print(p.text)"
   ]
  },
  {
   "cell_type": "code",
   "execution_count": 9,
   "metadata": {
    "button": false,
    "collapsed": false,
    "deletable": true,
    "new_sheet": false,
    "run_control": {
     "read_only": false
    }
   },
   "outputs": [
    {
     "name": "stdout",
     "output_type": "stream",
     "text": [
      "salutation\n",
      "farewell\n"
     ]
    }
   ],
   "source": [
    "# now let's access attributes\n",
    "# we don't need to import the xml library again\n",
    "\n",
    "# some simple xml, but now with attributes\n",
    "xml_str = '<doc><p n=\"1\" type=\"salutation\">Hello World!</p><p n=\"2\" type=\"farewell\">Goodbye!!!</p></doc>'\n",
    "\n",
    "# turn this string into an ElementTree. Think of that as a very specialized version of a python list.\n",
    "xml_elements = ET.fromstring(xml_str)\n",
    "\n",
    "# ElementTrees have a .findall method that can take an xpath expression.\n",
    "# IMPORTANT: being your xpath with '.'\n",
    "# You can iterate over them with a for loop.\n",
    "for p in xml_elements.findall('.//p'):\n",
    "    print(p.attrib['type']) # p.attrib on its own returns a dictionary."
   ]
  },
  {
   "cell_type": "markdown",
   "metadata": {
    "button": false,
    "deletable": true,
    "new_sheet": false,
    "run_control": {
     "read_only": false
    }
   },
   "source": [
    "## Quiz!\n",
    "Change the above code so that it prints out the n attribute of each p element."
   ]
  },
  {
   "cell_type": "code",
   "execution_count": 10,
   "metadata": {
    "button": false,
    "collapsed": false,
    "deletable": true,
    "new_sheet": false,
    "run_control": {
     "read_only": false
    }
   },
   "outputs": [
    {
     "name": "stdout",
     "output_type": "stream",
     "text": [
      "1\n",
      "2\n"
     ]
    }
   ],
   "source": [
    "xml_str = '<doc><p n=\"1\" type=\"salutation\">Hello World!</p><p n=\"2\" type=\"farewell\">Goodbye!!!</p></doc>'\n",
    "\n",
    "xml_elements = ET.fromstring(xml_str)\n",
    "\n",
    "for p in xml_elements.findall('.//p'):\n",
    "    print(p.attrib['n'])"
   ]
  },
  {
   "cell_type": "markdown",
   "metadata": {
    "button": false,
    "deletable": true,
    "new_sheet": false,
    "run_control": {
     "read_only": false
    }
   },
   "source": [
    "## An example with real TEI"
   ]
  },
  {
   "cell_type": "code",
   "execution_count": 15,
   "metadata": {
    "button": false,
    "collapsed": false,
    "deletable": true,
    "new_sheet": false,
    "run_control": {
     "read_only": false
    }
   },
   "outputs": [
    {
     "name": "stdout",
     "output_type": "stream",
     "text": [
      "\n",
      "List found elements:\n",
      "{'n': '1'}\n",
      "{'n': '2'}\n",
      "{'n': '3'}\n",
      "{'n': '4'}\n",
      "{'n': '5'}\n",
      "{'n': '6'}\n",
      "{'n': '7'}\n",
      "{'n': '8'}\n",
      "{'n': '9'}\n",
      "{'n': '10'}\n",
      "{'n': '1'}\n",
      "{'n': '2'}\n",
      "{'n': '3'}\n",
      "{'n': '4'}\n",
      "{'n': '5'}\n",
      "{'n': '6'}\n",
      "{'n': '7'}\n",
      "{'n': '8'}\n",
      "{'n': '9'}\n",
      "{'n': '10'}\n",
      "{'n': '11'}\n",
      "{'n': '12'}\n",
      "{'n': '13'}\n",
      "{'n': '14'}\n",
      "{'n': '15'}\n",
      "{'n': '16'}\n",
      "{'n': '17'}\n",
      "{'n': '18'}\n",
      "{'n': '19'}\n",
      "{'n': '20'}\n",
      "{'n': '21'}\n",
      "{'n': '22'}\n",
      "{'n': '23'}\n",
      "{'n': '24'}\n",
      "{'n': '25'}\n",
      "{'n': '26'}\n",
      "{'n': '27'}\n",
      "{'n': '28'}\n",
      "{'n': '29'}\n",
      "{'n': '30'}\n",
      "{'n': '31'}\n",
      "{'n': '32'}\n",
      "{'n': '33'}\n",
      "{'n': '1'}\n",
      "{'n': '2'}\n",
      "{'n': '3'}\n",
      "{'n': '4'}\n",
      "{'n': '5'}\n",
      "{'n': '6'}\n",
      "{'n': '7'}\n",
      "\n",
      "List the text of found elements:\n",
      "Dionysus'\n",
      "Zeus\n",
      "Semele\n",
      "Cadmus\n",
      "Hera's\n",
      "Cadmus\n",
      "Dionysus\n",
      "Zeus\n",
      "Semele\n",
      "Zeus\n",
      "Cadmus\n",
      "Zeus\n",
      "Cadmus\n",
      "Zeus\n",
      "Cadmus\n",
      "Pentheus\n",
      "Cadmus\n",
      "Rhea\n",
      "List the value attributes of found elements\n",
      "Thebes\n",
      "Dirce's\n",
      "Ismenus\n",
      "Lydia's\n",
      "Phrygia\n",
      "Persia's\n",
      "Bactria's\n",
      "Media's\n",
      "Arabia\n",
      "Asia's\n",
      "Hellas\n",
      "Thebes\n",
      "Hellas\n",
      "Thebes\n",
      "Thebes\n",
      "Tmolus\n",
      "Lydia\n",
      "Pentheus\n",
      "Cadmus\n",
      "Cithaeron's\n"
     ]
    }
   ],
   "source": [
    "# I suggest running this first 'as is'. Then try using a URL for your own TEI.\n",
    "url_to_load = \"https://isaw-ga-3024.github.io/stone-kelley-kelleystone/assignment2.xml\" \n",
    "\n",
    "f = urllib.request.urlopen(url_to_load)\n",
    "tei_as_string = f.read().decode('utf-8')\n",
    "\n",
    "xml_elements = ET.fromstring(tei_as_string)\n",
    "\n",
    "# IMPORTANT: In the findall(...) statements that follow,\n",
    "# you'll see '{http://www.tei-c.org/ns/1.0}'. Leave it.\n",
    "# But note that you can change the element name.\n",
    "\n",
    "# if you are using your own TEI, you might need to change the XPATH so that is meaningful for your data\n",
    "\n",
    "print(\"\\nList found elements:\")\n",
    "# element.tag returns the name of the current element\n",
    "elements = xml_elements.findall('.//{http://www.tei-c.org/ns/1.0}lb')\n",
    "for element in elements:\n",
    "    print(element.attrib)\n",
    "\n",
    "print(\"\\nList the text of found elements:\")\n",
    "# element.text returns the text content of the current element. Here 'expan' elements are found.\n",
    "elements = xml_elements.findall('.//{http://www.tei-c.org/ns/1.0}persName')\n",
    "for element in elements:\n",
    "    print(element.text)\n",
    "\n",
    "print(\"List the value attributes of found elements\")\n",
    "# as you've seen element.attrib, return the attributes\n",
    "elements = xml_elements.findall('.//{http://www.tei-c.org/ns/1.0}placeName')\n",
    "for element in elements:\n",
    "    print(element.text)"
   ]
  },
  {
   "cell_type": "markdown",
   "metadata": {
    "button": false,
    "collapsed": false,
    "deletable": true,
    "new_sheet": false,
    "run_control": {
     "read_only": false
    }
   },
   "source": [
    "## A little bit of bad news\n",
    "The xml library is simpler than the lxml library. It does not support xpath queries of the form .//num/@value . You have to get all the nums and move through them looking for value attributes using .attrib ."
   ]
  },
  {
   "cell_type": "markdown",
   "metadata": {
    "button": false,
    "deletable": true,
    "new_sheet": false,
    "run_control": {
     "read_only": false
    }
   },
   "source": [
    "## Assignment!\n",
    "You can now fetch your TEI from github, find certain elements within it, and then write a for loop to access those elements individually. The last step is like the 'for color in colors:' loop in Chapter 1.\n",
    "\n",
    "Your assignment is to adapt the code above to do something interesting with your TEI-encoded xml file that is in the github repository. You could find shared words in paragraphs. List all rulers, dates, places, (organs?). How about making links to the wikipedia articles for rulers - or other proper nouns - mentioned in a text? How would you do that?\n",
    "\n",
    "And as I mentioned, you might have to make changes to your TEI so that python can easily work with the elements within your document. That is OK. Just make sure the file remains valid XML.\n"
   ]
  },
  {
   "cell_type": "code",
   "execution_count": 2,
   "metadata": {
    "button": false,
    "collapsed": false,
    "deletable": true,
    "new_sheet": false,
    "run_control": {
     "read_only": false
    }
   },
   "outputs": [
    {
     "ename": "NameError",
     "evalue": "name 'urllib' is not defined",
     "output_type": "error",
     "traceback": [
      "\u001b[0;31m---------------------------------------------------------------------------\u001b[0m",
      "\u001b[0;31mNameError\u001b[0m                                 Traceback (most recent call last)",
      "\u001b[0;32m<ipython-input-2-de87a831835c>\u001b[0m in \u001b[0;36m<module>\u001b[0;34m()\u001b[0m\n\u001b[1;32m      1\u001b[0m \u001b[0murl_to_load\u001b[0m \u001b[0;34m=\u001b[0m \u001b[0;34m\"https://isaw-ga-3024.github.io/stone-kelley-kelleystone/assignment2.xml\"\u001b[0m\u001b[0;34m\u001b[0m\u001b[0m\n\u001b[1;32m      2\u001b[0m \u001b[0;34m\u001b[0m\u001b[0m\n\u001b[0;32m----> 3\u001b[0;31m \u001b[0mf\u001b[0m \u001b[0;34m=\u001b[0m \u001b[0murllib\u001b[0m\u001b[0;34m.\u001b[0m\u001b[0mrequest\u001b[0m\u001b[0;34m.\u001b[0m\u001b[0murlopen\u001b[0m\u001b[0;34m(\u001b[0m\u001b[0murl_to_load\u001b[0m\u001b[0;34m)\u001b[0m\u001b[0;34m\u001b[0m\u001b[0m\n\u001b[0m\u001b[1;32m      4\u001b[0m \u001b[0mtei_as_string\u001b[0m \u001b[0;34m=\u001b[0m \u001b[0mf\u001b[0m\u001b[0;34m.\u001b[0m\u001b[0mread\u001b[0m\u001b[0;34m(\u001b[0m\u001b[0;34m)\u001b[0m\u001b[0;34m.\u001b[0m\u001b[0mdecode\u001b[0m\u001b[0;34m(\u001b[0m\u001b[0;34m'utf-8'\u001b[0m\u001b[0;34m)\u001b[0m\u001b[0;34m\u001b[0m\u001b[0m\n\u001b[1;32m      5\u001b[0m \u001b[0;34m\u001b[0m\u001b[0m\n",
      "\u001b[0;31mNameError\u001b[0m: name 'urllib' is not defined"
     ]
    }
   ],
   "source": [
    "url_to_load = \"https://isaw-ga-3024.github.io/stone-kelley-kelleystone/assignment2.xml\" \n",
    "\n",
    "f = urllib.request.urlopen(url_to_load)\n",
    "tei_as_string = f.read().decode('utf-8')\n",
    "\n",
    "xml_elements = ET.fromstring(tei_as_string)\n",
    "\n",
    "print(\"\\nList the text of found elements:\")\n",
    "# element.text returns the text content of the current element. Here 'expan' elements are found.\n",
    "elements = xml_elements.findall('.//{http://www.tei-c.org/ns/1.0}persName')\n",
    "for element in elements:\n",
    "    print(element.text)\n",
    "\n",
    "print(\"List the value attributes of found elements\")\n",
    "# as you've seen element.attrib, return the attributes\n",
    "elements = xml_elements.findall('.//{http://www.tei-c.org/ns/1.0}placeName')\n",
    "for element in elements:\n",
    "    print(element.text)"
   ]
  },
  {
   "cell_type": "markdown",
   "metadata": {
    "button": false,
    "deletable": true,
    "new_sheet": false,
    "run_control": {
     "read_only": false
    }
   },
   "source": [
    "## How to turn in your assignment\n",
    "\n",
    "First, exectute the cell with your code in it and make sure the output is what you want.\n",
    "\n",
    "Then choose 'Save and checkpoint' from the \"File\" menu of this notebook.\n",
    "\n",
    "Copy this file, which is 'tei-processing.ipynb' into your folder of the class repository. As usual, commit and sync changes to github. That's it. When loaded from github, the notebook will appear essentially the same as it does to you now."
   ]
  }
 ],
 "metadata": {
  "kernelspec": {
   "display_name": "Python 3",
   "language": "python",
   "name": "python3"
  },
  "language_info": {
   "codemirror_mode": {
    "name": "ipython",
    "version": 3
   },
   "file_extension": ".py",
   "mimetype": "text/x-python",
   "name": "python",
   "nbconvert_exporter": "python",
   "pygments_lexer": "ipython3",
   "version": "3.5.0"
  }
 },
 "nbformat": 4,
 "nbformat_minor": 1
}
