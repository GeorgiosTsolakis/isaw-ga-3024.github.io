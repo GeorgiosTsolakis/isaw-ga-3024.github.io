{
 "cells": [
  {
   "cell_type": "markdown",
   "metadata": {
    "button": false,
    "deletable": true,
    "new_sheet": false,
    "run_control": {
     "read_only": false
    }
   },
   "source": [
    "# Loading and Processing TEI-Encoded XML\n",
    "Because I wasn't able to get everyone working with the lxml library, I've simplified the process of loading xml and then processing it. Follow along below and let me know if you have any problems planning and implementing your assignment."
   ]
  },
  {
   "cell_type": "markdown",
   "metadata": {
    "button": false,
    "deletable": true,
    "new_sheet": false,
    "run_control": {
     "read_only": false
    }
   },
   "source": [
    "## Step 1: Read XML from github\n"
   ]
  },
  {
   "cell_type": "code",
   "execution_count": 7,
   "metadata": {
    "button": false,
    "collapsed": false,
    "deletable": true,
    "new_sheet": false,
    "run_control": {
     "read_only": false
    }
   },
   "outputs": [
    {
     "name": "stdout",
     "output_type": "stream",
     "text": [
      "<?xml version=\"1.0\" encoding=\"UTF-8\"?>\n",
      "<?xml-model href=\"http://www.stoa.org/epidoc/schema/latest/tei-epidoc.rng\" schematypens=\"http://relaxng.org/ns/structure/1.0\"?>\n",
      "<?xml-model href=\"http://www.stoa.org/epidoc/schema/latest/tei-epidoc.rng\" schematypens=\"http://purl.oclc.org/dsdl/schematron\"?>\n",
      "<TEI xmlns=\"http://www.tei-c.org/ns/1.0\" xml:space=\"preserve\" xml:lang=\"en\">\n",
      "    <teiHeader>\n",
      "        <fileDesc>\n",
      "            <titleStmt>\n",
      "                <title>Treasure Hill</title>\n",
      "            </titleStmt>\n",
      "            <publicationStmt>\n",
      "                <authority></authority>\n",
      "                <idno type=\"filename\"></idno>\n",
      "            </publicationStmt>\n",
      "            <sourceDesc>\n",
      "                <msDesc>\n",
      "                    <msIdentifier>\n",
      "                        <repository>museum/archive</repository>\n",
      "                        <idno>inventory number</idno>\n",
      "                    </msIdentifier>\n",
      "                    <physDesc>\n",
      "                        <objectDesc>\n",
      "                            <supportDesc>\n",
      "                                <support>description of object/monument (likely to include <material/>\n",
      "                                    and <objectType/> information, <dimensions/>, etc.)</support>\n",
      "                            </supportDesc>\n",
      "                            <layoutDesc>\n",
      "                                <layout>description of text field/campus</layout>\n",
      "                            </layoutDesc>\n",
      "                        </objectDesc>\n",
      "                        <handDesc>\n",
      "                            <handNote>description of letters, possibly including <height>letter-heights</height>\n",
      "                            </handNote>\n",
      "                        </handDesc>\n",
      "                    </physDesc>\n",
      "                    <history>\n",
      "                        <origin>\n",
      "                            <origPlace>Place of origin</origPlace>\n",
      "                            <origDate>Date of origin</origDate>\n",
      "                        </origin>\n",
      "                        <provenance type=\"found\"> Findspot and circumstances/context\n",
      "                        </provenance>\n",
      "                        <provenance type=\"observed\">Modern location(s) (if different from repository, above)\n",
      "                        </provenance>\n",
      "                    </history>\n",
      "                </msDesc>\n",
      "            </sourceDesc>\n",
      "        </fileDesc>\n",
      "    </teiHeader>\n",
      "    <facsimile>\n",
      "        <graphic url=\"http://exorientelux.org/wp-content/uploads/2016/03/sc-762x1030.gif\"/>\n",
      "        <graphic url=\"http://www.barbier-mueller.ch/local/cache-vignettes/L350xH303/241-44_45-d8b43.png\"/>  \n",
      "\n",
      "</facsimile>\n",
      "    <text>\n",
      "        <figure>\n",
      " <head>The Initial Tepe Hissar Publication</head>\n",
      " <figDesc>The 1937 publication of Tepe Hissar material by E. Schmidt does not inclube much about Treasure Hill</figDesc>\n",
      " <graphic url=\"http://exorientelux.org/wp-content/uploads/2016/03/sc-762x1030.gif\"\n",
      "  scale=\"1\"/>\n",
      "</figure>\n",
      "        <body>\n",
      "            <div type=\"edition\" xml:space=\"preserve\"> \n",
      "                <ab>\n",
      "                    <lb n=\"1\"/><placeName>Treasure Hill</placeName> is the easternmost mound of <placeName>Tepe Hissar</placeName> (fig.1). <persName>Schmidt</persName> originally excavated two squares in this area, plots <rs type=\"plot\">DH05</rs> and <rs type= \"plot\">CH95</rs> (Fig. 2), during the first excavation season in 1931. Upon returning to the squares in season two in an attempt to reach “Painted Ware levels “ (Schmidt 1937: 171), he came across a hoard of objects in <rs type=\"plot\">DH05</rs>, which prompted him to further expand the excavations in this part of the site and gave the mound its name. In the course of two seasons, 16 squares of 10x10m were excavated, resulting in the discovery of a second hoard – in <rs type= \"plot\">DH07</rs> – and over 200 burials, many of which were attributed to IIIC. No other team ever revisited <placeName>Treasure Hill</placeName> again, save for <persName>Dyson</persName> (Bovington et al. 1974) collecting a carbon sample for radiocarbon dating in 1971 from square <rs type=\"plot\">CH86</rs>. By and large, the finds from <placeName>Treasure Hill</placeName> (architecture, grave goods and ceramics) have not been incorporated into the revised chronology and periodization of the site due to partial publication of this mound. Only the two hoards and a handful of burials were published in the 1937 volume.\n",
      "\tIn order to understand the nature of BMAC presence at <placeName>Tepe Hissar</placeName>, we revisited the legacy data from the University of Pennsylvania’s two expeditions to <placeName>Tepe Hissar</placeName>, housed in the UPM Archives and Collections storage. The data concerning <placeName>Treasure Hill</placeName> consists of <rs type= \"record\"> burial sheets</rs>, <rs type= \"record\">object cards</rs>, <rs type= \"record\">drawn plans</rs>, <rs type= \"record\">photographs</rs>, <rs type= \"record\">illustrations</rs>, <rs type= \"record\">unpublished field notes</rs>, <rs type= \"record\">surveyor’s notebook</rs>, and <rs type= \"record\">field journals</rs>. It must be noted that there are a number of known concerns with <persName>Schmidt</persName>’s excavation records of <placeName>Treasure Hill</placeName>. For instance, it appears that only a handful of objects were recovered from non-funerary contexts, with the exception of the two hoards. It is not clear whether this reflects a real absence of objects outside funerary contexts, or that lone objects were not recorded. It is certain, however, that ceramic grave goods and skeletons that were deemed too fragmentary were discarded right away; the <rs type= \"record\">burial sheets</rs> are full of descriptions of mortuary vessels marked as “discarded”. Moreover, in the case of <placeName>Treasure Hill</placeName>, the datum was set at the center-east limit of <rs type=\"plot\">DH05</rs>. Yet an <rs type= \"record\">unpublished notebook of <persName>E. White</persName></rs> (expedition’s surveyor) mentions a second datum on <placeName>Treasure Hill</placeName>, set at the center-east limit of <rs type=\"plot\">CH95</rs>, and .50m lower than the initial datum. An accompanying note explains that only the elevations provided for the four corners of <rs type=\"plot\">CH95</rs> were taken from the secondary datum in <rs type=\"plot\">CH95</rs>. However, it is not clear whether this issue is limited to the records from the second season, or if it affects records from the first season as well. The horizontal location of finds within each plot is also a matter of approximation. No systematic notation was used to record the horizontal location of finds within 10x10 m plots. A rather vague system of numerical “plot records” (or “p.rec.”) seems to have been introduced in the second season as a mechanism for micro-control. Unfortunately, the <rs type= \"record\">notebook</rs> containing the clues as to what the plot records refer is now lost. In short, due to inconsistencies in methods of recording elevation, stratigraphy and horizontal distribution, the recorded position of the finds and architectural remains are not fully dependable. However, by comparing the data with <rs type= \"record\">daily journals</rs> and <rs type= \"record\">field survey</rs> notes, an approximate context can be constructed.\n",
      "\n",
      "                </ab>\n",
      "            </div>\n",
      "            <div type=\"apparatus\">\n",
      "                <p>external apparatus criticus (if applicable)</p>\n",
      "            </div>\n",
      "            <div type=\"translation\">\n",
      "                <p>translation(s)</p>\n",
      "            </div>\n",
      "            <div type=\"commentary\">\n",
      "                <p>commentary</p>\n",
      "            </div>\n",
      "            <div type=\"bibliography\">\n",
      "                <p>bibliography of previous editions, discussion, etc.</p>\n",
      "            </div>\n",
      "        </body>\n",
      "    </text>\n",
      "</TEI>\n",
      " \n"
     ]
    }
   ],
   "source": [
    "import urllib.request\n",
    "\n",
    "# assign your url to the variable url_to_load\n",
    "# you can try http://papyri.info/ddbdp/bgu;1;133/source .\n",
    "url_to_load = \"https://isaw-ga-3024.github.io/bayani-narges-nargesbayani/Treasure_Hill.xml\" # url here\n",
    "\n",
    "f = urllib.request.urlopen(url_to_load)\n",
    "tei_as_string = f.read().decode('utf-8')\n",
    "\n",
    "print(tei_as_string)\n",
    "# if the above was successful you should see a TEI document below:"
   ]
  },
  {
   "cell_type": "markdown",
   "metadata": {
    "button": false,
    "deletable": true,
    "new_sheet": false,
    "run_control": {
     "read_only": false
    }
   },
   "source": [
    "## Step 2: We can already do things\n",
    "The find() method of strings will return the index of a substring. Try it:"
   ]
  },
  {
   "cell_type": "code",
   "execution_count": 8,
   "metadata": {
    "button": false,
    "collapsed": false,
    "deletable": true,
    "new_sheet": false,
    "run_control": {
     "read_only": false
    }
   },
   "outputs": [
    {
     "name": "stdout",
     "output_type": "stream",
     "text": [
      "The first lb element begins at index 2967\n",
      "The first lb element ends at index 2978\n"
     ]
    }
   ],
   "source": [
    "url_to_load = \"https://isaw-ga-3024.github.io/bayani-narges-nargesbayani/Treasure_Hill.xml\" # url here\n",
    "\n",
    "f = urllib.request.urlopen(url_to_load)\n",
    "tei_as_string = f.read().decode('utf-8')\n",
    "\n",
    "start_index = tei_as_string.find('<lb') # find the index of the first lb element\n",
    "\n",
    "# why is the '[start_index:]' range important here?\n",
    "tmp_end_index = tei_as_string[start_index:].find('>')\n",
    "\n",
    "# what happens if we don't add 1 at the end? try it\n",
    "end_index = start_index + tmp_end_index + 1\n",
    "\n",
    "print(\"The first lb element begins at index \" + str(start_index))\n",
    "print(\"The first lb element ends at index \" + str(end_index))"
   ]
  },
  {
   "cell_type": "markdown",
   "metadata": {
    "button": false,
    "deletable": true,
    "new_sheet": false,
    "run_control": {
     "read_only": false
    }
   },
   "source": [
    "## Quiz!\n",
    "Print the first lb element by using the start_index and end_index."
   ]
  },
  {
   "cell_type": "code",
   "execution_count": 9,
   "metadata": {
    "button": false,
    "collapsed": false,
    "deletable": true,
    "new_sheet": false,
    "run_control": {
     "read_only": false
    }
   },
   "outputs": [
    {
     "name": "stdout",
     "output_type": "stream",
     "text": [
      "<lb n=\"1\"/><placeName>Treasure Hill</placeName> is the easternmost mound of <placeName>Tepe Hissar</placeName> (fig.1). <persName>Schmidt</persName> originally excavated two squares in this area, plots <rs type=\"plot\">DH05</rs> and <rs type= \"plot\">CH95</rs> (Fig. 2), during the first excavation season in 1931. Upon returning to the squares in season two in an attempt to reach “Painted Ware levels “ (Schmidt 1937: 171), he came across a hoard of objects in <rs type=\"plot\">DH05</rs>, which prompted him to further expand the excavations in this part of the site and gave the mound its name. In the course of two seasons, 16 squares of 10x10m were excavated, resulting in the discovery of a second hoard – in <rs type= \"plot\">DH07</rs> – and over 200 burials, many of which were attributed to IIIC. No other team ever revisited <placeName>Treasure Hill</placeName> again, save for <persName>Dyson</persName> (Bovington et al. 1974) collecting a carbon sample for radiocarbon dating in 1971 from square <rs type=\"plot\">CH86</rs>. By and large, the finds from <placeName>Treasure Hill</placeName> (architecture, grave goods and ceramics) have not been incorporated into the revised chronology and periodization of the site due to partial publication of this mound. Only the two hoards and a handful of burials were published in the 1937 volume.\n",
      "\tIn order to understand the nature of BMAC presence at <placeName>Tepe Hissar</placeName>, we revisited the legacy data from the University of Pennsylvania’s two expeditions to <placeName>Tepe Hissar</placeName>, housed in the UPM Archives and Collections storage. The data concerning <placeName>Treasure Hill</placeName> consists of <rs type= \"record\"> burial sheets</rs>, <rs type= \"record\">object cards</rs>, <rs type= \"record\">drawn plans</rs>, <rs type= \"record\">photographs</rs>, <rs type= \"record\">illustrations</rs>, <rs type= \"record\">unpublished field notes</rs>, <rs type= \"record\">surveyor’s notebook</rs>, and <rs type= \"record\">field journals</rs>. It must be noted that there are a number of known concerns with <persName>Schmidt</persName>’s excavation records of <placeName>Treasure Hill</placeName>. For instance, it appears that only a handful of objects were recovered from non-funerary contexts, with the exception of the two hoards. It is not clear whether this reflects a real absence of objects outside funerary contexts, or that lone objects were not recorded. It is certain, however, that ceramic grave goods and skeletons that were deemed too fragmentary were discarded right away; the <rs type= \"record\">burial sheets</rs> are full of descriptions of mortuary vessels marked as “discarded”. Moreover, in the case of <placeName>Treasure Hill</placeName>, the datum was set at the center-east limit of <rs type=\"plot\">DH05</rs>. Yet an <rs type= \"record\">unpublished notebook of <persName>E. White</persName></rs> (expedition’s surveyor) mentions a second datum on <placeName>Treasure Hill</placeName>, set \n",
      "<lb n=\"1\"/>\n"
     ]
    }
   ],
   "source": [
    "print(tei_as_string[start_index:][:end_index+1])\n",
    "print(tei_as_string[start_index:end_index])"
   ]
  },
  {
   "cell_type": "markdown",
   "metadata": {
    "button": false,
    "deletable": true,
    "new_sheet": false,
    "run_control": {
     "read_only": false
    }
   },
   "source": [
    "## More complex elements\n",
    "lb elements are zero-lengh, which means they can take the form '&lt;lb n=\"#\" />' . Note the '/>' at the end of the element. This is equivalent to '&lt;lb n=\"#\">&lt;/lb>' but is easier to write.\n",
    "\n",
    "Next we want to capture elements of the form '&lt;persName type=\"a type\">Tom&lt;/persName>'. You know all the python code to do this. We just put things together a little differently.\n",
    "\n",
    "## Quiz\n",
    "The cell below is almost ready to load the sample URL from the first cell, then to find and print out the first 'expan' element. Assign a value to end_tag to make the cell work.\n"
   ]
  },
  {
   "cell_type": "code",
   "execution_count": 10,
   "metadata": {
    "button": false,
    "collapsed": false,
    "deletable": true,
    "new_sheet": false,
    "run_control": {
     "read_only": false
    }
   },
   "outputs": [
    {
     "name": "stdout",
     "output_type": "stream",
     "text": [
      "<expan>στρ<ex>ατηγῷ</ex><\n"
     ]
    }
   ],
   "source": [
    "url_to_load = \"http://papyri.info/ddbdp/bgu;1;133/source\"\n",
    "\n",
    "f = urllib.request.urlopen(url_to_load)\n",
    "tei_as_string = f.read().decode('utf-8')\n",
    "\n",
    "# start_tag\n",
    "start_tag = '<expan' # why leave off the '>'?\n",
    "end_tag =  '</ex>'\n",
    "\n",
    "start_index = tei_as_string.find(start_tag)\n",
    "\n",
    "tmp_end_index = tei_as_string[start_index:].find(end_tag)\n",
    "\n",
    "end_index = start_index + tmp_end_index + len(end_tag) + 1 # why '+ len(end_tag)'?\n",
    "\n",
    "print(tei_as_string[start_index:end_index])"
   ]
  },
  {
   "cell_type": "markdown",
   "metadata": {
    "button": false,
    "deletable": true,
    "new_sheet": false,
    "run_control": {
     "read_only": false
    }
   },
   "source": [
    "## Quiz!\n",
    "Cut-and-paste the working code from the above cell and adapt it so that it finds the first supplied element. Be careful, supplied elements can have the form '&lt;supplied reason=\"...\"> ... &lt;/supplied>' This means you can just search for '&lt;supplied>'."
   ]
  },
  {
   "cell_type": "code",
   "execution_count": 11,
   "metadata": {
    "button": false,
    "collapsed": false,
    "deletable": true,
    "new_sheet": false,
    "run_control": {
     "read_only": false
    }
   },
   "outputs": [
    {
     "name": "stdout",
     "output_type": "stream",
     "text": [
      "supplied reason=\"lost\">ρα</supplied> \n"
     ]
    }
   ],
   "source": [
    "url_to_load = \"http://papyri.info/ddbdp/bgu;1;133/source\"\n",
    "\n",
    "f = urllib.request.urlopen(url_to_load)\n",
    "tei_as_string = f.read().decode('utf-8')\n",
    "\n",
    "# start_tag\n",
    "start_tag = 'supplied' # why leave off the '>'?\n",
    "end_tag =  '</supplied>'\n",
    "\n",
    "start_index = tei_as_string.find(start_tag)\n",
    "\n",
    "tmp_end_index = tei_as_string[start_index:].find(end_tag)\n",
    "\n",
    "end_index = start_index + tmp_end_index + len(end_tag) + 1 # why '+ len(end_tag)'?\n",
    "\n",
    "print(tei_as_string[start_index:end_index])"
   ]
  },
  {
   "cell_type": "markdown",
   "metadata": {
    "button": false,
    "deletable": true,
    "new_sheet": false,
    "run_control": {
     "read_only": false
    }
   },
   "source": [
    "## A Better Way\n",
    "Building your own indexes into a string to find start and end tags could get very complicated very quickly. Let's use a libray. In class we used the 'lxml' library. I recommend sticking with that if you're going to process xml in python as part of your final project. Now we'll use the 'xml' library, which should work on everyone's machine. In the following cells, look at the comments to follow along."
   ]
  },
  {
   "cell_type": "code",
   "execution_count": 12,
   "metadata": {
    "button": false,
    "collapsed": false,
    "deletable": true,
    "new_sheet": false,
    "run_control": {
     "read_only": false
    }
   },
   "outputs": [
    {
     "name": "stdout",
     "output_type": "stream",
     "text": [
      "Hello World!\n",
      "Goodbye!!!\n"
     ]
    }
   ],
   "source": [
    "# import what we need from the xml library\n",
    "import xml.etree.ElementTree as ET\n",
    "\n",
    "# some simple xml as a test\n",
    "xml_str = \"<doc><p>Hello World!</p><p>Goodbye!!!</p></doc>\"\n",
    "\n",
    "# turn this string into an ElementTree. Think of that as a very specialized version of a python list.\n",
    "xml_elements = ET.fromstring(xml_str)\n",
    "\n",
    "# ElementTrees have a .findall method that can take an xpath expression.\n",
    "# IMPORTANT: being your xpath with '.'\n",
    "# You can iterate over them with a for loop.\n",
    "for p in xml_elements.findall('p'):\n",
    "    print(p.text)"
   ]
  },
  {
   "cell_type": "code",
   "execution_count": 13,
   "metadata": {
    "button": false,
    "collapsed": false,
    "deletable": true,
    "new_sheet": false,
    "run_control": {
     "read_only": false
    }
   },
   "outputs": [
    {
     "name": "stdout",
     "output_type": "stream",
     "text": [
      "salutation\n",
      "farewell\n"
     ]
    }
   ],
   "source": [
    "# now let's access attributes\n",
    "# we don't need to import the xml library again\n",
    "\n",
    "# some simple xml, but now with attributes\n",
    "xml_str = '<doc><p n=\"1\" type=\"salutation\">Hello World!</p><p n=\"2\" type=\"farewell\">Goodbye!!!</p></doc>'\n",
    "\n",
    "# turn this string into an ElementTree. Think of that as a very specialized version of a python list.\n",
    "xml_elements = ET.fromstring(xml_str)\n",
    "\n",
    "# ElementTrees have a .findall method that can take an xpath expression.\n",
    "# IMPORTANT: being your xpath with '.'\n",
    "# You can iterate over them with a for loop.\n",
    "for p in xml_elements.findall('.//p'):\n",
    "    print(p.attrib['type']) # p.attrib on its own returns a dictionary."
   ]
  },
  {
   "cell_type": "markdown",
   "metadata": {
    "button": false,
    "deletable": true,
    "new_sheet": false,
    "run_control": {
     "read_only": false
    }
   },
   "source": [
    "## Quiz!\n",
    "Change the above code so that it prints out the n attribute of each p element."
   ]
  },
  {
   "cell_type": "code",
   "execution_count": 14,
   "metadata": {
    "button": false,
    "collapsed": false,
    "deletable": true,
    "new_sheet": false,
    "run_control": {
     "read_only": false
    }
   },
   "outputs": [
    {
     "name": "stdout",
     "output_type": "stream",
     "text": [
      "1\n",
      "2\n"
     ]
    }
   ],
   "source": [
    "# now let's access attributes\n",
    "# we don't need to import the xml library again\n",
    "\n",
    "# some simple xml, but now with attributes\n",
    "xml_str = '<doc><p n=\"1\" type=\"salutation\">Hello World!</p><p n=\"2\" type=\"farewell\">Goodbye!!!</p></doc>'\n",
    "\n",
    "# turn this string into an ElementTree. Think of that as a very specialized version of a python list.\n",
    "xml_elements = ET.fromstring(xml_str)\n",
    "\n",
    "# ElementTrees have a .findall method that can take an xpath expression.\n",
    "# IMPORTANT: being your xpath with '.'\n",
    "# You can iterate over them with a for loop.\n",
    "for p in xml_elements.findall('.//p'):\n",
    "    print(p.attrib['n']) # p.attrib on its own returns a dictionary."
   ]
  },
  {
   "cell_type": "markdown",
   "metadata": {
    "button": false,
    "deletable": true,
    "new_sheet": false,
    "run_control": {
     "read_only": false
    }
   },
   "source": [
    "## An example with real TEI"
   ]
  },
  {
   "cell_type": "code",
   "execution_count": 15,
   "metadata": {
    "button": false,
    "collapsed": false,
    "deletable": true,
    "new_sheet": false,
    "run_control": {
     "read_only": false
    }
   },
   "outputs": [
    {
     "name": "stdout",
     "output_type": "stream",
     "text": [
      "\n",
      "List found elements:\n",
      "{http://www.tei-c.org/ns/1.0}lb\n",
      "{http://www.tei-c.org/ns/1.0}lb\n",
      "{http://www.tei-c.org/ns/1.0}lb\n",
      "{http://www.tei-c.org/ns/1.0}lb\n",
      "{http://www.tei-c.org/ns/1.0}lb\n",
      "{http://www.tei-c.org/ns/1.0}lb\n",
      "{http://www.tei-c.org/ns/1.0}lb\n",
      "{http://www.tei-c.org/ns/1.0}lb\n",
      "{http://www.tei-c.org/ns/1.0}lb\n",
      "{http://www.tei-c.org/ns/1.0}lb\n",
      "{http://www.tei-c.org/ns/1.0}lb\n",
      "{http://www.tei-c.org/ns/1.0}lb\n",
      "{http://www.tei-c.org/ns/1.0}lb\n",
      "{http://www.tei-c.org/ns/1.0}lb\n",
      "\n",
      "List the text of found elements:\n",
      "στρ\n",
      "Ἀρσι\n",
      "Ἡρακ\n",
      "μερίδο\n",
      "ἀμφόδο\n",
      "None\n",
      "αἶγ\n",
      "None\n",
      "List the value attributes of found elements\n",
      "4\n",
      "7\n",
      "104\n",
      "6\n",
      "10\n",
      "14\n",
      "100\n",
      "8\n"
     ]
    }
   ],
   "source": [
    "# I suggest running this first 'as is'. Then try using a URL for your own TEI.\n",
    "url_to_load = \"http://papyri.info/ddbdp/bgu;1;133/source\" \n",
    "\n",
    "f = urllib.request.urlopen(url_to_load)\n",
    "tei_as_string = f.read().decode('utf-8')\n",
    "\n",
    "xml_elements = ET.fromstring(tei_as_string)\n",
    "\n",
    "# IMPORTANT: In the findall(...) statements that follow,\n",
    "# you'll see '{http://www.tei-c.org/ns/1.0}'. Leave it.\n",
    "# But note that you can change the element name.\n",
    "\n",
    "# if you are using your own TEI, you might need to change the XPATH so that is meaningful for your data\n",
    "\n",
    "print(\"\\nList found elements:\")\n",
    "# element.tag returns the name of the current element\n",
    "elements = xml_elements.findall('.//{http://www.tei-c.org/ns/1.0}lb')\n",
    "for element in elements:\n",
    "    print(element.tag)\n",
    "\n",
    "print(\"\\nList the text of found elements:\")\n",
    "# element.text returns the text content of the current element. Here 'expan' elements are found.\n",
    "elements = xml_elements.findall('.//{http://www.tei-c.org/ns/1.0}expan')\n",
    "for element in elements:\n",
    "    print(element.text)\n",
    "\n",
    "print(\"List the value attributes of found elements\")\n",
    "# as you've seen element.attrib, return the attributes\n",
    "elements = xml_elements.findall('.//{http://www.tei-c.org/ns/1.0}num')\n",
    "for element in elements:\n",
    "    print(element.attrib['value'])"
   ]
  },
  {
   "cell_type": "markdown",
   "metadata": {
    "button": false,
    "collapsed": false,
    "deletable": true,
    "new_sheet": false,
    "run_control": {
     "read_only": false
    }
   },
   "source": [
    "## A little bit of bad news\n",
    "The xml library is simpler than the lxml library. It does not support xpath queries of the form .//num/@value . You have to get all the nums and move through them looking for value attributes using .attrib ."
   ]
  },
  {
   "cell_type": "markdown",
   "metadata": {
    "button": false,
    "deletable": true,
    "new_sheet": false,
    "run_control": {
     "read_only": false
    }
   },
   "source": [
    "## Assignment!\n",
    "You can now fetch your TEI from github, find certain elements within it, and then write a for loop to access those elements individually. The last step is like the 'for color in colors:' loop in Chapter 1.\n",
    "\n",
    "Your assignment is to adapt the code above to do something interesting with your TEI-encoded xml file that is in the github repository. You could find shared words in paragraphs. List all rulers, dates, places, (organs?). How about making links to the wikipedia articles for rulers - or other proper nouns - mentioned in a text? How would you do that?\n",
    "\n",
    "And as I mentioned, you might have to make changes to your TEI so that python can easily work with the elements within your document. That is OK. Just make sure the file remains valid XML.\n"
   ]
  },
  {
   "cell_type": "code",
   "execution_count": 26,
   "metadata": {
    "button": false,
    "collapsed": false,
    "deletable": true,
    "new_sheet": false,
    "run_control": {
     "read_only": false
    }
   },
   "outputs": [
    {
     "name": "stdout",
     "output_type": "stream",
     "text": [
      "\n",
      "List the place mentioned in the text:\n",
      "Treasure Hill\n",
      "Tepe Hissar\n",
      "Treasure Hill\n",
      "Treasure Hill\n",
      "Tepe Hissar\n",
      "Tepe Hissar\n",
      "Treasure Hill\n",
      "Treasure Hill\n",
      "Treasure Hill\n",
      "Treasure Hill\n",
      "\n",
      "List the rs mentioned in the text:\n",
      "DH05\n",
      "CH95\n",
      "DH05\n",
      "DH07\n",
      "CH86\n",
      "DH05\n",
      "CH95\n",
      "CH95\n",
      "CH95\n",
      "\n",
      "List the rs mentioned in the text:\n",
      "burial sheets\n",
      "object cards\n",
      "drawn plans\n",
      "photographs\n",
      "illustrations\n",
      "unpublished field notes\n",
      "surveyor’s notebook\n",
      "field journals\n",
      "burial sheets\n",
      "unpublished notebook of \n",
      "notebook\n",
      "daily journals\n",
      "field survey\n"
     ]
    }
   ],
   "source": [
    "url_to_load = \"https://isaw-ga-3024.github.io/bayani-narges-nargesbayani/Treasure_Hill.xml\"\n",
    "\n",
    "f = urllib.request.urlopen(url_to_load)\n",
    "tei_as_string = f.read().decode('utf-8')\n",
    "\n",
    "xml_elements = ET.fromstring(tei_as_string)\n",
    "\n",
    "# IMPORTANT: In the findall(...) statements that follow,\n",
    "# you'll see '{http://www.tei-c.org/ns/1.0}'. Leave it.\n",
    "# But note that you can change the element name.\n",
    "\n",
    "# if you are using your own TEI, you might need to change the XPATH so that is meaningful for your data\n",
    "\n",
    "print(\"\\nList the place mentioned in the text:\")\n",
    "elements = xml_elements.findall('.//{http://www.tei-c.org/ns/1.0}placeName')\n",
    "for element in elements:\n",
    "    print(element.text)\n",
    "    \n",
    "    \n",
    "print(\"\\nList the rs mentioned in the text:\")\n",
    "elements = xml_elements.findall('.//{http://www.tei-c.org/ns/1.0}rs')\n",
    "for element in elements:\n",
    "    if element.attrib['type'] == 'plot':\n",
    "        print(element.text)\n",
    "        \n",
    "print(\"\\nList the rs mentioned in the text:\")\n",
    "elements = xml_elements.findall('.//{http://www.tei-c.org/ns/1.0}rs')\n",
    "for element in elements:\n",
    "    if element.attrib['type'] == 'record':\n",
    "        print(element.text)\n",
    "        "
   ]
  },
  {
   "cell_type": "markdown",
   "metadata": {
    "button": false,
    "deletable": true,
    "new_sheet": false,
    "run_control": {
     "read_only": false
    }
   },
   "source": [
    "## How to turn in your assignment\n",
    "\n",
    "First, exectute the cell with your code in it and make sure the output is what you want.\n",
    "\n",
    "Then choose 'Save and checkpoint' from the \"File\" menu of this notebook.\n",
    "\n",
    "Copy this file, which is 'tei-processing.ipynb' into your folder of the class repository. As usual, commit and sync changes to github. That's it. When loaded from github, the notebook will appear essentially the same as it does to you now."
   ]
  }
 ],
 "metadata": {
  "kernelspec": {
   "display_name": "Python 3",
   "language": "python",
   "name": "python3"
  },
  "language_info": {
   "codemirror_mode": {
    "name": "ipython",
    "version": 3
   },
   "file_extension": ".py",
   "mimetype": "text/x-python",
   "name": "python",
   "nbconvert_exporter": "python",
   "pygments_lexer": "ipython3",
   "version": "3.5.0"
  }
 },
 "nbformat": 4,
 "nbformat_minor": 1
}
